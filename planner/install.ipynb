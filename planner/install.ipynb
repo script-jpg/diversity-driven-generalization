{
 "cells": [
  {
   "cell_type": "code",
   "execution_count": 2,
   "id": "33573142",
   "metadata": {},
   "outputs": [
    {
     "name": "stderr",
     "output_type": "stream",
     "text": [
      "'sh' is not recognized as an internal or external command,\n",
      "operable program or batch file.\n"
     ]
    },
    {
     "name": "stdout",
     "output_type": "stream",
     "text": [
      "Lean (version 4.24.0, x86_64-w64-windows-gnu, commit 797c613eb9b6d4ec95db23e3e00af9ac6657f24b, Release)\n",
      "--- Setting up Lean project in: /tmp/lean_project ---\n",
      "--- Downloading Mathlib cache (this may take a few minutes)... ---\n",
      "❌ Error setting up Mathlib cache.\n",
      "--- STDOUT ---\n",
      "\n",
      "--- STDERR ---\n",
      "error: Tried to read file 'C:\\tmp\\lean_project\\lakefile.lean' containing non UTF-8 data.\n",
      "\n"
     ]
    },
    {
     "ename": "CalledProcessError",
     "evalue": "Command '['lake', 'exe', 'cache', 'get']' returned non-zero exit status 1.",
     "output_type": "error",
     "traceback": [
      "\u001b[31m---------------------------------------------------------------------------\u001b[39m",
      "\u001b[31mCalledProcessError\u001b[39m                        Traceback (most recent call last)",
      "\u001b[36mCell\u001b[39m\u001b[36m \u001b[39m\u001b[32mIn[2]\u001b[39m\u001b[32m, line 61\u001b[39m\n\u001b[32m     58\u001b[39m     \u001b[38;5;28;01mreturn\u001b[39;00m project_dir\n\u001b[32m     60\u001b[39m \u001b[38;5;66;03m# --- Call this function once at the start of your script ---\u001b[39;00m\n\u001b[32m---> \u001b[39m\u001b[32m61\u001b[39m lean_project_path = \u001b[43msetup_lean_project\u001b[49m\u001b[43m(\u001b[49m\u001b[43m)\u001b[49m\n\u001b[32m     62\u001b[39m lean_project_path\n",
      "\u001b[36mCell\u001b[39m\u001b[36m \u001b[39m\u001b[32mIn[2]\u001b[39m\u001b[32m, line 44\u001b[39m, in \u001b[36msetup_lean_project\u001b[39m\u001b[34m(project_dir)\u001b[39m\n\u001b[32m     42\u001b[39m \u001b[38;5;28mprint\u001b[39m(\u001b[33m\"\u001b[39m\u001b[33m--- Downloading Mathlib cache (this may take a few minutes)... ---\u001b[39m\u001b[33m\"\u001b[39m)\n\u001b[32m     43\u001b[39m \u001b[38;5;28;01mtry\u001b[39;00m:\n\u001b[32m---> \u001b[39m\u001b[32m44\u001b[39m     \u001b[43msubprocess\u001b[49m\u001b[43m.\u001b[49m\u001b[43mrun\u001b[49m\u001b[43m(\u001b[49m\n\u001b[32m     45\u001b[39m \u001b[43m        \u001b[49m\u001b[43m[\u001b[49m\u001b[33;43m\"\u001b[39;49m\u001b[33;43mlake\u001b[39;49m\u001b[33;43m\"\u001b[39;49m\u001b[43m,\u001b[49m\u001b[43m \u001b[49m\u001b[33;43m\"\u001b[39;49m\u001b[33;43mexe\u001b[39;49m\u001b[33;43m\"\u001b[39;49m\u001b[43m,\u001b[49m\u001b[43m \u001b[49m\u001b[33;43m\"\u001b[39;49m\u001b[33;43mcache\u001b[39;49m\u001b[33;43m\"\u001b[39;49m\u001b[43m,\u001b[49m\u001b[43m \u001b[49m\u001b[33;43m\"\u001b[39;49m\u001b[33;43mget\u001b[39;49m\u001b[33;43m\"\u001b[39;49m\u001b[43m]\u001b[49m\u001b[43m,\u001b[49m\n\u001b[32m     46\u001b[39m \u001b[43m        \u001b[49m\u001b[43mcwd\u001b[49m\u001b[43m=\u001b[49m\u001b[43mproject_dir\u001b[49m\u001b[43m,\u001b[49m\n\u001b[32m     47\u001b[39m \u001b[43m        \u001b[49m\u001b[43mcheck\u001b[49m\u001b[43m=\u001b[49m\u001b[38;5;28;43;01mTrue\u001b[39;49;00m\u001b[43m,\u001b[49m\n\u001b[32m     48\u001b[39m \u001b[43m        \u001b[49m\u001b[43mcapture_output\u001b[49m\u001b[43m=\u001b[49m\u001b[38;5;28;43;01mTrue\u001b[39;49;00m\u001b[43m,\u001b[49m\n\u001b[32m     49\u001b[39m \u001b[43m        \u001b[49m\u001b[43mtext\u001b[49m\u001b[43m=\u001b[49m\u001b[38;5;28;43;01mTrue\u001b[39;49;00m\n\u001b[32m     50\u001b[39m \u001b[43m    \u001b[49m\u001b[43m)\u001b[49m\n\u001b[32m     51\u001b[39m     \u001b[38;5;28mprint\u001b[39m(\u001b[33m\"\u001b[39m\u001b[33m--- Mathlib cache downloaded successfully. ---\u001b[39m\u001b[33m\"\u001b[39m)\n\u001b[32m     52\u001b[39m \u001b[38;5;28;01mexcept\u001b[39;00m subprocess.CalledProcessError \u001b[38;5;28;01mas\u001b[39;00m e:\n",
      "\u001b[36mFile \u001b[39m\u001b[32mc:\\Users\\Rishabh\\AppData\\Local\\Programs\\Python\\Python311\\Lib\\subprocess.py:571\u001b[39m, in \u001b[36mrun\u001b[39m\u001b[34m(input, capture_output, timeout, check, *popenargs, **kwargs)\u001b[39m\n\u001b[32m    569\u001b[39m     retcode = process.poll()\n\u001b[32m    570\u001b[39m     \u001b[38;5;28;01mif\u001b[39;00m check \u001b[38;5;129;01mand\u001b[39;00m retcode:\n\u001b[32m--> \u001b[39m\u001b[32m571\u001b[39m         \u001b[38;5;28;01mraise\u001b[39;00m CalledProcessError(retcode, process.args,\n\u001b[32m    572\u001b[39m                                  output=stdout, stderr=stderr)\n\u001b[32m    573\u001b[39m \u001b[38;5;28;01mreturn\u001b[39;00m CompletedProcess(process.args, retcode, stdout, stderr)\n",
      "\u001b[31mCalledProcessError\u001b[39m: Command '['lake', 'exe', 'cache', 'get']' returned non-zero exit status 1."
     ]
    }
   ],
   "source": [
    "# Step 1: Install elan (Lean toolchain manager)\n",
    "!curl https://raw.githubusercontent.com/leanprover/elan/master/elan-init.sh -sSf | sh -s -- -y\n",
    "\n",
    "# Step 2: Update Python process PATH so subprocess.run() can find `lean`\n",
    "import os\n",
    "elan_bin_path = os.path.expanduser(\"~/.elan/bin\")\n",
    "os.environ[\"PATH\"] = elan_bin_path + \":\" + os.environ[\"PATH\"]\n",
    "\n",
    "# Verify the installation by checking the version\n",
    "!lean --version\n",
    "\n",
    "import os\n",
    "import subprocess\n",
    "\n",
    "def setup_lean_project(project_dir=\"/tmp/lean_project\"):\n",
    "    \"\"\"\n",
    "    Creates a Lean project, configures it to use Mathlib,\n",
    "    and downloads pre-compiled library files.\n",
    "    \"\"\"\n",
    "    print(f\"--- Setting up Lean project in: {project_dir} ---\")\n",
    "    os.makedirs(project_dir, exist_ok=True)\n",
    "\n",
    "    # Content for the lakefile.lean\n",
    "    lakefile_content = \"\"\"\n",
    "    import Lake\n",
    "    open Lake DSL\n",
    "\n",
    "    package «lean_project»\n",
    "\n",
    "    require mathlib from git\n",
    "      \"https://github.com/leanprover-community/mathlib4.git\"\n",
    "\n",
    "    @[default_target]\n",
    "    lean_lib «lean_project»\n",
    "    \"\"\"\n",
    "    # Write the lakefile\n",
    "    with open(os.path.join(project_dir, \"lakefile.lean\"), \"w\") as f:\n",
    "        f.write(lakefile_content)\n",
    "\n",
    "    # Run `lake exe cache get` to download Mathlib's pre-compiled files\n",
    "    # This is much faster than building from source.\n",
    "    print(\"--- Downloading Mathlib cache (this may take a few minutes)... ---\")\n",
    "    try:\n",
    "        subprocess.run(\n",
    "            [\"lake\", \"exe\", \"cache\", \"get\"],\n",
    "            cwd=project_dir,\n",
    "            check=True,\n",
    "            capture_output=True,\n",
    "            text=True\n",
    "        )\n",
    "        print(\"--- Mathlib cache downloaded successfully. ---\")\n",
    "    except subprocess.CalledProcessError as e:\n",
    "        print(\"❌ Error setting up Mathlib cache.\")\n",
    "        print(f\"--- STDOUT ---\\n{e.stdout}\")\n",
    "        print(f\"--- STDERR ---\\n{e.stderr}\")\n",
    "        raise  # Stop execution if setup fails\n",
    "\n",
    "    return project_dir\n",
    "\n",
    "# --- Call this function once at the start of your script ---\n",
    "lean_project_path = setup_lean_project()\n",
    "lean_project_path\n"
   ]
  }
 ],
 "metadata": {
  "kernelspec": {
   "display_name": "Python 3",
   "language": "python",
   "name": "python3"
  },
  "language_info": {
   "codemirror_mode": {
    "name": "ipython",
    "version": 3
   },
   "file_extension": ".py",
   "mimetype": "text/x-python",
   "name": "python",
   "nbconvert_exporter": "python",
   "pygments_lexer": "ipython3",
   "version": "3.11.5"
  }
 },
 "nbformat": 4,
 "nbformat_minor": 5
}

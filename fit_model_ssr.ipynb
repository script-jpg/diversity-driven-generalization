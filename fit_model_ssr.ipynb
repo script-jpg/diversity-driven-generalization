{
  "nbformat": 4,
  "nbformat_minor": 0,
  "metadata": {
    "colab": {
      "provenance": []
    },
    "kernelspec": {
      "name": "python3",
      "display_name": "Python 3"
    },
    "language_info": {
      "name": "python"
    }
  },
  "cells": [
    {
      "cell_type": "code",
      "execution_count": 1,
      "metadata": {
        "colab": {
          "base_uri": "https://localhost:8080/"
        },
        "id": "Z4BR5_etHZpK",
        "outputId": "bcbea03b-be4d-4800-eab2-95efdf88671d"
      },
      "outputs": [
        {
          "output_type": "stream",
          "name": "stdout",
          "text": [
            "['AI-MO_Kimina-Prover-Preview-Distill-7B', 'ByteDance-Seed_BFS-Prover', 'Goedel-LM_Goedel-Prover-SFT', 'deepseek-ai_DeepSeek-Prover-V1', 'deepseek-ai_DeepSeek-Prover-V1.5-RL', 'deepseek-ai_DeepSeek-Prover-V2-7B', 'kfdong_STP_model_Lean', 'stoney0062_Leanabell-Prover-DS-SFT', 'wellecks_llmstep-mathlib4-pythia2.8b']\n",
            "[[1 0 0 1 1 1 0 1 0 0 1 1 0 1 1 1 0 1 0 0 0 0 0 1 0 0 1 0 0 1 0 0 1 1 1 1\n",
            "  0 0 0 0]\n",
            " [1 0 0 0 1 1 0 0 1 0 1 0 0 1 1 0 0 1 0 0 0 0 0 1 0 0 0 0 0 0 0 0 1 1 1 1\n",
            "  0 0 0 0]\n",
            " [1 1 0 0 1 1 0 0 1 1 1 1 0 1 1 1 0 1 0 0 0 0 0 1 0 1 0 1 0 1 0 1 1 1 1 0\n",
            "  0 0 0 0]\n",
            " [1 0 0 0 1 1 0 0 1 0 1 1 0 1 1 1 0 1 0 0 0 0 0 1 0 0 0 1 0 1 0 0 1 1 1 1\n",
            "  0 0 0 0]\n",
            " [0 0 0 0 0 1 0 0 0 0 0 0 0 1 1 0 0 1 0 0 0 0 0 0 0 0 0 0 0 0 0 0 0 0 0 1\n",
            "  0 0 0 0]\n",
            " [0 0 0 0 0 1 0 0 0 0 0 1 0 0 1 1 0 0 0 0 0 0 0 0 0 0 0 1 0 0 0 0 0 0 0 0\n",
            "  0 0 0 0]\n",
            " [1 0 0 1 0 1 0 0 0 0 1 0 0 1 1 1 0 0 0 0 0 0 0 1 0 0 0 1 0 0 0 0 0 0 1 1\n",
            "  0 0 0 0]\n",
            " [1 1 0 0 1 1 0 0 1 1 1 1 0 1 1 1 0 1 0 0 0 1 0 1 0 0 0 1 0 1 0 1 1 1 1 1\n",
            "  0 0 0 0]\n",
            " [0 0 0 0 0 0 0 0 0 0 1 0 0 1 0 0 0 0 0 0 0 0 0 0 0 0 0 0 0 0 0 0 0 0 0 0\n",
            "  0 0 0 0]]\n"
          ]
        }
      ],
      "source": [
        "import numpy as np\n",
        "import pandas as pd\n",
        "import statsmodels.api as sm\n",
        "import json\n",
        "\n",
        "model_dict = json.load(open(\"checkpoint-8.json\"))\n",
        "\n",
        "def parse_success_dict(model_dict: dict):\n",
        "    \"\"\"\n",
        "    model_dict: mapping solver name -> binary string like \"100101...\" indicating\n",
        "    which problems that solver solves.\n",
        "    Returns solver names list and success_matrix of shape (n_solvers, n_problems).\n",
        "    \"\"\"\n",
        "    solvers = list(model_dict.keys())\n",
        "    # assume all strings are same length and consist of '0'/'1'\n",
        "    success_matrix = np.array(\n",
        "        [[int(c) for c in model_dict[name]] for name in solvers],\n",
        "        dtype=int\n",
        "    )  # shape: (n_solvers, n_problems)\n",
        "    return solvers, success_matrix\n",
        "\n",
        "solvers, success_matrix = parse_success_dict(model_dict['model_dict'])\n",
        "print(solvers)\n",
        "print(success_matrix)\n",
        "#"
      ]
    },
    {
      "cell_type": "code",
      "source": [
        "from itertools import combinations\n",
        "\n",
        "def compute_ensemble_metrics(success_matrix: np.ndarray, r: int):\n",
        "    \"\"\"\n",
        "    For each ensemble (subset of r solvers), compute:\n",
        "      - SSR: fraction of problems solved by exactly one solver in the ensemble.\n",
        "      - S0: coverage = fraction of problems solved by at least one solver.\n",
        "    Returns a DataFrame with columns: 'ensemble' (tuple of solver indices), 'SSR', 'S0'.\n",
        "    \"\"\"\n",
        "    n_solvers, n_problems = success_matrix.shape\n",
        "    ensembles = list(combinations(range(n_solvers), r))\n",
        "\n",
        "    records = []\n",
        "    for ens in ensembles:\n",
        "        sub = success_matrix[np.array(ens), :]  # shape (r, n_problems)\n",
        "        counts = sub.sum(axis=0)\n",
        "        ssr = np.mean(counts == 1)\n",
        "        s0 = np.mean(counts > 0)\n",
        "        records.append({\n",
        "            \"ensemble\": ens,\n",
        "            \"SSR\": ssr,\n",
        "            \"S0\": s0,\n",
        "        })\n",
        "    return pd.DataFrame.from_records(records)\n",
        "\n",
        "df = compute_ensemble_metrics(success_matrix, 3)"
      ],
      "metadata": {
        "id": "UVg8dug1IgEo"
      },
      "execution_count": 2,
      "outputs": []
    },
    {
      "cell_type": "code",
      "source": [
        "df[\"SSR\"]"
      ],
      "metadata": {
        "colab": {
          "base_uri": "https://localhost:8080/",
          "height": 453
        },
        "id": "s6Lz6r4EJvzu",
        "outputId": "3d61e6ec-0638-4800-be7e-191d22d696a7"
      },
      "execution_count": 3,
      "outputs": [
        {
          "output_type": "execute_result",
          "data": {
            "text/plain": [
              "0     0.200\n",
              "1     0.100\n",
              "2     0.175\n",
              "3     0.150\n",
              "4     0.150\n",
              "      ...  \n",
              "79    0.375\n",
              "80    0.275\n",
              "81    0.150\n",
              "82    0.350\n",
              "83    0.300\n",
              "Name: SSR, Length: 84, dtype: float64"
            ],
            "text/html": [
              "<div>\n",
              "<style scoped>\n",
              "    .dataframe tbody tr th:only-of-type {\n",
              "        vertical-align: middle;\n",
              "    }\n",
              "\n",
              "    .dataframe tbody tr th {\n",
              "        vertical-align: top;\n",
              "    }\n",
              "\n",
              "    .dataframe thead th {\n",
              "        text-align: right;\n",
              "    }\n",
              "</style>\n",
              "<table border=\"1\" class=\"dataframe\">\n",
              "  <thead>\n",
              "    <tr style=\"text-align: right;\">\n",
              "      <th></th>\n",
              "      <th>SSR</th>\n",
              "    </tr>\n",
              "  </thead>\n",
              "  <tbody>\n",
              "    <tr>\n",
              "      <th>0</th>\n",
              "      <td>0.200</td>\n",
              "    </tr>\n",
              "    <tr>\n",
              "      <th>1</th>\n",
              "      <td>0.100</td>\n",
              "    </tr>\n",
              "    <tr>\n",
              "      <th>2</th>\n",
              "      <td>0.175</td>\n",
              "    </tr>\n",
              "    <tr>\n",
              "      <th>3</th>\n",
              "      <td>0.150</td>\n",
              "    </tr>\n",
              "    <tr>\n",
              "      <th>4</th>\n",
              "      <td>0.150</td>\n",
              "    </tr>\n",
              "    <tr>\n",
              "      <th>...</th>\n",
              "      <td>...</td>\n",
              "    </tr>\n",
              "    <tr>\n",
              "      <th>79</th>\n",
              "      <td>0.375</td>\n",
              "    </tr>\n",
              "    <tr>\n",
              "      <th>80</th>\n",
              "      <td>0.275</td>\n",
              "    </tr>\n",
              "    <tr>\n",
              "      <th>81</th>\n",
              "      <td>0.150</td>\n",
              "    </tr>\n",
              "    <tr>\n",
              "      <th>82</th>\n",
              "      <td>0.350</td>\n",
              "    </tr>\n",
              "    <tr>\n",
              "      <th>83</th>\n",
              "      <td>0.300</td>\n",
              "    </tr>\n",
              "  </tbody>\n",
              "</table>\n",
              "<p>84 rows × 1 columns</p>\n",
              "</div><br><label><b>dtype:</b> float64</label>"
            ]
          },
          "metadata": {},
          "execution_count": 3
        }
      ]
    },
    {
      "cell_type": "code",
      "source": [
        "df[\"S0\"]"
      ],
      "metadata": {
        "colab": {
          "base_uri": "https://localhost:8080/",
          "height": 453
        },
        "id": "N5XlGAlOJxaj",
        "outputId": "70f77a4a-064c-49ad-8c5d-eec3a6ba1fff"
      },
      "execution_count": 4,
      "outputs": [
        {
          "output_type": "execute_result",
          "data": {
            "text/plain": [
              "0     0.600\n",
              "1     0.500\n",
              "2     0.475\n",
              "3     0.500\n",
              "4     0.500\n",
              "      ...  \n",
              "79    0.525\n",
              "80    0.550\n",
              "81    0.300\n",
              "82    0.525\n",
              "83    0.550\n",
              "Name: S0, Length: 84, dtype: float64"
            ],
            "text/html": [
              "<div>\n",
              "<style scoped>\n",
              "    .dataframe tbody tr th:only-of-type {\n",
              "        vertical-align: middle;\n",
              "    }\n",
              "\n",
              "    .dataframe tbody tr th {\n",
              "        vertical-align: top;\n",
              "    }\n",
              "\n",
              "    .dataframe thead th {\n",
              "        text-align: right;\n",
              "    }\n",
              "</style>\n",
              "<table border=\"1\" class=\"dataframe\">\n",
              "  <thead>\n",
              "    <tr style=\"text-align: right;\">\n",
              "      <th></th>\n",
              "      <th>S0</th>\n",
              "    </tr>\n",
              "  </thead>\n",
              "  <tbody>\n",
              "    <tr>\n",
              "      <th>0</th>\n",
              "      <td>0.600</td>\n",
              "    </tr>\n",
              "    <tr>\n",
              "      <th>1</th>\n",
              "      <td>0.500</td>\n",
              "    </tr>\n",
              "    <tr>\n",
              "      <th>2</th>\n",
              "      <td>0.475</td>\n",
              "    </tr>\n",
              "    <tr>\n",
              "      <th>3</th>\n",
              "      <td>0.500</td>\n",
              "    </tr>\n",
              "    <tr>\n",
              "      <th>4</th>\n",
              "      <td>0.500</td>\n",
              "    </tr>\n",
              "    <tr>\n",
              "      <th>...</th>\n",
              "      <td>...</td>\n",
              "    </tr>\n",
              "    <tr>\n",
              "      <th>79</th>\n",
              "      <td>0.525</td>\n",
              "    </tr>\n",
              "    <tr>\n",
              "      <th>80</th>\n",
              "      <td>0.550</td>\n",
              "    </tr>\n",
              "    <tr>\n",
              "      <th>81</th>\n",
              "      <td>0.300</td>\n",
              "    </tr>\n",
              "    <tr>\n",
              "      <th>82</th>\n",
              "      <td>0.525</td>\n",
              "    </tr>\n",
              "    <tr>\n",
              "      <th>83</th>\n",
              "      <td>0.550</td>\n",
              "    </tr>\n",
              "  </tbody>\n",
              "</table>\n",
              "<p>84 rows × 1 columns</p>\n",
              "</div><br><label><b>dtype:</b> float64</label>"
            ]
          },
          "metadata": {},
          "execution_count": 4
        }
      ]
    },
    {
      "cell_type": "markdown",
      "source": [
        "# Fitting using only s0 ("
      ],
      "metadata": {
        "id": "Ew-wJEYTNpBy"
      }
    },
    {
      "cell_type": "code",
      "source": [
        "import statsmodels.api as sm\n",
        "\n",
        "def fit_ssr_on_s0(ssr, s0, robust=True, add_intercept=True):\n",
        "    \"\"\"\n",
        "    Fit SSR ~ S0.\n",
        "    ssr, s0: 1d arrays of same length.\n",
        "    \"\"\"\n",
        "    X = s0[:, None]\n",
        "    if add_intercept:\n",
        "        X = sm.add_constant(X)\n",
        "    cov_type = \"HC3\" if robust else \"nonrobust\"\n",
        "    model = sm.OLS(ssr, X).fit(cov_type=cov_type)\n",
        "    return model\n",
        "\n",
        "model = fit_ssr_on_s0(df[\"SSR\"].to_numpy(), df[\"S0\"].to_numpy())\n",
        "print(model.summary())  # coefficient on S0, its p-value, R^2, etc."
      ],
      "metadata": {
        "colab": {
          "base_uri": "https://localhost:8080/"
        },
        "id": "FDxPfl7EIzCC",
        "outputId": "b826ca0f-e15d-4823-b8b5-266d4530a96d"
      },
      "execution_count": 35,
      "outputs": [
        {
          "output_type": "stream",
          "name": "stdout",
          "text": [
            "                            OLS Regression Results                            \n",
            "==============================================================================\n",
            "Dep. Variable:                      y   R-squared:                       0.000\n",
            "Model:                            OLS   Adj. R-squared:                 -0.012\n",
            "Method:                 Least Squares   F-statistic:                   0.08687\n",
            "Date:                Sat, 02 Aug 2025   Prob (F-statistic):              0.769\n",
            "Time:                        04:31:31   Log-Likelihood:                 88.874\n",
            "No. Observations:                  84   AIC:                            -173.7\n",
            "Df Residuals:                      82   BIC:                            -168.9\n",
            "Df Model:                           1                                         \n",
            "Covariance Type:                  HC3                                         \n",
            "==============================================================================\n",
            "                 coef    std err          z      P>|z|      [0.025      0.975]\n",
            "------------------------------------------------------------------------------\n",
            "const          0.1744      0.039      4.468      0.000       0.098       0.251\n",
            "x1             0.0231      0.078      0.295      0.768      -0.131       0.177\n",
            "==============================================================================\n",
            "Omnibus:                        3.289   Durbin-Watson:                   2.107\n",
            "Prob(Omnibus):                  0.193   Jarque-Bera (JB):                3.153\n",
            "Skew:                           0.415   Prob(JB):                        0.207\n",
            "Kurtosis:                       2.539   Cond. No.                         16.2\n",
            "==============================================================================\n",
            "\n",
            "Notes:\n",
            "[1] Standard Errors are heteroscedasticity robust (HC3)\n"
          ]
        }
      ]
    },
    {
      "cell_type": "code",
      "source": [
        "import matplotlib.pyplot as plt\n",
        "\n",
        "s0 = df[\"S0\"].to_numpy()\n",
        "ssr = df[\"SSR\"].to_numpy()\n",
        "pred = model.predict(sm.add_constant(s0))\n",
        "\n",
        "plt.scatter(s0, ssr, alpha=0.6, label=\"data\")\n",
        "plt.plot(np.sort(s0), pred[np.argsort(s0)], label=\"fit\", linewidth=2)\n",
        "plt.xlabel(\"S0\")\n",
        "plt.ylabel(\"SSR\")\n",
        "plt.legend()\n",
        "plt.tight_layout()\n",
        "plt.show()"
      ],
      "metadata": {
        "colab": {
          "base_uri": "https://localhost:8080/",
          "height": 487
        },
        "id": "6cTNIRYEJNoi",
        "outputId": "b76bf806-c83d-48c2-a548-40dafa48e171"
      },
      "execution_count": 6,
      "outputs": [
        {
          "output_type": "display_data",
          "data": {
            "text/plain": [
              "<Figure size 640x480 with 1 Axes>"
            ],
            "image/png": "[encoded data removed]"
          },
          "metadata": {}
        }
      ]
    },
    {
      "cell_type": "code",
      "source": [
        "def fit_ssr_model(ssr, edc, s0, robust=True):\n",
        "    X = np.column_stack([edc, s0])\n",
        "    Xc = sm.add_constant(X)\n",
        "    cov_type = \"HC3\" if robust else \"nonrobust\"\n",
        "    model = sm.OLS(ssr, Xc).fit(cov_type=cov_type)\n",
        "    return model\n",
        "\n",
        "edc_i = [0.3344948784002142,0.3344950667613536,0.3344950643502867,0.3344950716700126,0.33449505666093415,0.33449487018758833,0.334494086962233,0.49692708977867994,0.49715749538435067,0.49576636545103153,0.49604683373032427,0.334152885640466,0.4999991959604131,0.3338499482869377,0.49538887236164797,0.4950040790755435,0.49490338995815125,0.4999993230153705,0.4953275460602639,0.49469948565212424,0.4947236464570661,0.4999993315552104,0.494423631459739,0.49244407277776386,0.49999934273278823,0.49476603809200864,0.4999993296742038,0.49999922018822535,0.49692708635529215,0.49715749286796357,0.4957663612832934,0.4960468294140969,0.3341528946814852,0.4999992949564221,0.33384995088157216,0.49538887330493137,0.4950040798703377,0.494903404110192,0.49999942712240103,0.49532754791054795,0.49469948735391905,0.4947236615161075,0.4999994365692417,0.4944236315101828,0.4924440861854542,0.4999994460954684,0.49476605135120977,0.49999943288839477,0.4999993367596629,0.32793500072633225,0.4880827858966465,0.48797847575042397,0.3259840383737658,0.4969271549312773,0.4882518685190007,0.48790429125074297,0.326034703796419,0.4971575723948556,0.4862372981539617,0.3223639912127207,0.4957664446680374,0.3249664396668474,0.4960469147493349,0.33415305700409054,0.3245666450820863,0.3235538062484314,0.32347747776657343,0.3338499691022821,0.48481686715967953,0.4827368191909045,0.4953888953834933,0.484674006079634,0.4950041038993936,0.4949035051266153,0.48445095075294375,0.48249575270650286,0.4953275809400168,0.48418967247319716,0.49469952233388187,0.4947237734834377,0.4816342356304328,0.49442367034799756,0.4924442020106364,0.4947661691268858]\n",
        "cohesion_i = [1 - edc for edc in edc_i]\n",
        "count = 84\n",
        "model_1 = fit_ssr_model(df[\"SSR\"][:count], edc_i[:count], df[\"S0\"][:count])\n",
        "print(model_1.summary())"
      ],
      "metadata": {
        "id": "ldmmjQZBNeIq",
        "colab": {
          "base_uri": "https://localhost:8080/"
        },
        "outputId": "98f1843b-1ea0-487d-e9fa-3c2661cd91dc"
      },
      "execution_count": 53,
      "outputs": [
        {
          "output_type": "stream",
          "name": "stdout",
          "text": [
            "                            OLS Regression Results                            \n",
            "==============================================================================\n",
            "Dep. Variable:                    SSR   R-squared:                       0.148\n",
            "Model:                            OLS   Adj. R-squared:                  0.127\n",
            "Method:                 Least Squares   F-statistic:                     8.496\n",
            "Date:                Sat, 02 Aug 2025   Prob (F-statistic):           0.000447\n",
            "Time:                        05:24:39   Log-Likelihood:                 95.596\n",
            "No. Observations:                  84   AIC:                            -185.2\n",
            "Df Residuals:                      81   BIC:                            -177.9\n",
            "Df Model:                           2                                         \n",
            "Covariance Type:                  HC3                                         \n",
            "==============================================================================\n",
            "                 coef    std err          z      P>|z|      [0.025      0.975]\n",
            "------------------------------------------------------------------------------\n",
            "const         -0.0578      0.071     -0.810      0.418      -0.198       0.082\n",
            "x1             0.4582      0.111      4.120      0.000       0.240       0.676\n",
            "x2             0.0719      0.080      0.895      0.371      -0.085       0.229\n",
            "==============================================================================\n",
            "Omnibus:                        2.526   Durbin-Watson:                   1.912\n",
            "Prob(Omnibus):                  0.283   Jarque-Bera (JB):                2.440\n",
            "Skew:                           0.353   Prob(JB):                        0.295\n",
            "Kurtosis:                       2.553   Cond. No.                         21.0\n",
            "==============================================================================\n",
            "\n",
            "Notes:\n",
            "[1] Standard Errors are heteroscedasticity robust (HC3)\n"
          ]
        }
      ]
    },
    {
      "cell_type": "code",
      "source": [
        "from sklearn.linear_model import RidgeCV, LassoCV\n",
        "\n",
        "def fit_regularized(ssr: np.ndarray, edc: np.ndarray, s0: np.ndarray):\n",
        "    \"\"\"\n",
        "    Fit regularized alternatives (ridge and lasso) to SSR ~ EDC + S0 for comparison.\n",
        "    \"\"\"\n",
        "    X = np.column_stack([edc, s0])\n",
        "    # no intercept here; these estimators include their own internal handling if needed\n",
        "    ridge = RidgeCV(alphas=np.logspace(-4, 4, 50), store_cv_values=True).fit(X, ssr)\n",
        "    lasso = LassoCV(cv=5, max_iter=5000).fit(X, ssr)\n",
        "    return ridge, lasso\n",
        "\n",
        "\n",
        "ridge, lasso = fit_regularized(df[\"SSR\"][:count], edc_i, df[\"S0\"][:count])\n",
        "print(\"Ridge alpha:\", ridge.alpha_)\n",
        "print(\"Ridge coefs:\", ridge.coef_)\n",
        "\n",
        "print(\"Lasso alpha:\", lasso.alpha_)\n",
        "print(\"Lasso coefs:\", lasso.coef_)"
      ],
      "metadata": {
        "colab": {
          "base_uri": "https://localhost:8080/"
        },
        "id": "wE7CEEleAZd0",
        "outputId": "77635499-eb11-4fb0-dd78-bf41e96d73b5"
      },
      "execution_count": 57,
      "outputs": [
        {
          "output_type": "stream",
          "name": "stdout",
          "text": [
            "Ridge alpha: 0.040949150623804234\n",
            "Ridge coefs: [0.41666564 0.06237246]\n",
            "Lasso alpha: 0.0003687556859533227\n",
            "Lasso coefs: [0.37609684 0.00155173]\n"
          ]
        },
        {
          "output_type": "stream",
          "name": "stderr",
          "text": [
            "/usr/local/lib/python3.11/dist-packages/sklearn/linear_model/_ridge.py:2385: FutureWarning: 'store_cv_values' is deprecated in version 1.5 and will be removed in 1.7. Use 'store_cv_results' instead.\n",
            "  warnings.warn(\n"
          ]
        }
      ]
    }
  ]
}
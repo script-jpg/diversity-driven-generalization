{
  "nbformat": 4,
  "nbformat_minor": 0,
  "metadata": {
    "colab": {
      "provenance": []
    },
    "kernelspec": {
      "name": "python3",
      "display_name": "Python 3"
    },
    "language_info": {
      "name": "python"
    }
  },
  "cells": [
    {
      "cell_type": "code",
      "execution_count": 26,
      "metadata": {
        "colab": {
          "base_uri": "https://localhost:8080/"
        },
        "id": "Z4BR5_etHZpK",
        "outputId": "1b2e9a21-d428-439c-da73-2fd81fcdfb80"
      },
      "outputs": [
        {
          "output_type": "stream",
          "name": "stdout",
          "text": [
            "['AI-MO_Kimina-Prover-Preview-Distill-7B', 'ByteDance-Seed_BFS-Prover', 'Goedel-LM_Goedel-Prover-SFT', 'deepseek-ai_DeepSeek-Prover-V1', 'deepseek-ai_DeepSeek-Prover-V1.5-RL', 'deepseek-ai_DeepSeek-Prover-V2-7B', 'kfdong_STP_model_Lean', 'stoney0062_Leanabell-Prover-DS-SFT', 'wellecks_llmstep-mathlib4-pythia2.8b']\n",
            "[[1 0 0 1 1 1 0 1 0 0 1 1 0 1 1 1 0 1 0 0 0 0 0 1 0 0 1 0 0 1 0 0 1 1 1 1\n",
            "  0 0 0 0]\n",
            " [1 0 0 0 1 1 0 0 1 0 1 0 0 1 1 0 0 1 0 0 0 0 0 1 0 0 0 0 0 0 0 0 1 1 1 1\n",
            "  0 0 0 0]\n",
            " [1 1 0 0 1 1 0 0 1 1 1 1 0 1 1 1 0 1 0 0 0 0 0 1 0 1 0 1 0 1 0 1 1 1 1 0\n",
            "  0 0 0 0]\n",
            " [1 0 0 0 1 1 0 0 1 0 1 1 0 1 1 1 0 1 0 0 0 0 0 1 0 0 0 1 0 1 0 0 1 1 1 1\n",
            "  0 0 0 0]\n",
            " [0 0 0 0 0 1 0 0 0 0 0 0 0 1 1 0 0 1 0 0 0 0 0 0 0 0 0 0 0 0 0 0 0 0 0 1\n",
            "  0 0 0 0]\n",
            " [0 0 0 0 0 1 0 0 0 0 0 1 0 0 1 1 0 0 0 0 0 0 0 0 0 0 0 1 0 0 0 0 0 0 0 0\n",
            "  0 0 0 0]\n",
            " [1 0 0 1 0 1 0 0 0 0 1 0 0 1 1 1 0 0 0 0 0 0 0 1 0 0 0 1 0 0 0 0 0 0 1 1\n",
            "  0 0 0 0]\n",
            " [1 1 0 0 1 1 0 0 1 1 1 1 0 1 1 1 0 1 0 0 0 1 0 1 0 0 0 1 0 1 0 1 1 1 1 1\n",
            "  0 0 0 0]\n",
            " [0 0 0 0 0 0 0 0 0 0 1 0 0 1 0 0 0 0 0 0 0 0 0 0 0 0 0 0 0 0 0 0 0 0 0 0\n",
            "  0 0 0 0]]\n"
          ]
        }
      ],
      "source": [
        "import numpy as np\n",
        "import pandas as pd\n",
        "import statsmodels.api as sm\n",
        "import json\n",
        "\n",
        "model_dict = json.load(open(\"checkpoint.json\"))\n",
        "\n",
        "def parse_success_dict(model_dict: dict):\n",
        "    \"\"\"\n",
        "    model_dict: mapping solver name -> binary string like \"100101...\" indicating\n",
        "    which problems that solver solves.\n",
        "    Returns solver names list and success_matrix of shape (n_solvers, n_problems).\n",
        "    \"\"\"\n",
        "    solvers = list(model_dict.keys())\n",
        "    # assume all strings are same length and consist of '0'/'1'\n",
        "    success_matrix = np.array(\n",
        "        [[int(c) for c in model_dict[name]] for name in solvers],\n",
        "        dtype=int\n",
        "    )  # shape: (n_solvers, n_problems)\n",
        "    return solvers, success_matrix\n",
        "\n",
        "solvers, success_matrix = parse_success_dict(model_dict['model_dict'])\n",
        "print(solvers)\n",
        "print(success_matrix)"
      ]
    },
    {
      "cell_type": "code",
      "source": [
        "from itertools import combinations\n",
        "\n",
        "def compute_ensemble_metrics(success_matrix: np.ndarray, r: int, conditional: bool = False):\n",
        "    \"\"\"\n",
        "    For each ensemble (subset of r solvers), compute:\n",
        "      - SSR: fraction of problems solved by exactly one solver in the ensemble.\n",
        "             If conditional=True, normalize by problems solved by at least one solver.\n",
        "             Otherwise normalize by all problems.\n",
        "      - S0: coverage = fraction of problems solved by at least one solver.\n",
        "    Returns a DataFrame with columns: 'ensemble' (tuple of solver indices), 'SSR', 'S0'.\n",
        "    \"\"\"\n",
        "    n_solvers, n_problems = success_matrix.shape\n",
        "    ensembles = list(combinations(range(n_solvers), r))\n",
        "\n",
        "    records = []\n",
        "    for ens in ensembles:\n",
        "        sub = success_matrix[np.array(ens), :]  # shape (r, n_problems)\n",
        "        counts = sub.sum(axis=0)\n",
        "\n",
        "        # coverage\n",
        "        s0 = np.mean(counts > 0)\n",
        "\n",
        "        if conditional:\n",
        "            solved_mask = counts > 0\n",
        "            denom = solved_mask.sum()\n",
        "            if denom > 0:\n",
        "                ssr = (counts[solved_mask] == 1).sum() / denom\n",
        "            else:\n",
        "                ssr = np.nan\n",
        "        else:\n",
        "            ssr = np.mean(counts == 1)\n",
        "\n",
        "        records.append({\n",
        "            \"ensemble\": ens,\n",
        "            \"SSR\": ssr,\n",
        "            \"S0\": s0,\n",
        "        })\n",
        "    return pd.DataFrame.from_records(records)\n",
        "\n",
        "df = compute_ensemble_metrics(success_matrix, 3, conditional=True)"
      ],
      "metadata": {
        "id": "UVg8dug1IgEo"
      },
      "execution_count": 27,
      "outputs": []
    },
    {
      "cell_type": "code",
      "source": [
        "df[\"SSR\"]"
      ],
      "metadata": {
        "colab": {
          "base_uri": "https://localhost:8080/",
          "height": 458
        },
        "id": "s6Lz6r4EJvzu",
        "outputId": "7edeb2fc-6dee-42b4-81f4-23aa4afea3ea"
      },
      "execution_count": 28,
      "outputs": [
        {
          "output_type": "execute_result",
          "data": {
            "text/plain": [
              "0     0.333333\n",
              "1     0.200000\n",
              "2     0.368421\n",
              "3     0.300000\n",
              "4     0.300000\n",
              "        ...   \n",
              "79    0.714286\n",
              "80    0.500000\n",
              "81    0.500000\n",
              "82    0.666667\n",
              "83    0.545455\n",
              "Name: SSR, Length: 84, dtype: float64"
            ],
            "text/html": [
              "<div>\n",
              "<style scoped>\n",
              "    .dataframe tbody tr th:only-of-type {\n",
              "        vertical-align: middle;\n",
              "    }\n",
              "\n",
              "    .dataframe tbody tr th {\n",
              "        vertical-align: top;\n",
              "    }\n",
              "\n",
              "    .dataframe thead th {\n",
              "        text-align: right;\n",
              "    }\n",
              "</style>\n",
              "<table border=\"1\" class=\"dataframe\">\n",
              "  <thead>\n",
              "    <tr style=\"text-align: right;\">\n",
              "      <th></th>\n",
              "      <th>SSR</th>\n",
              "    </tr>\n",
              "  </thead>\n",
              "  <tbody>\n",
              "    <tr>\n",
              "      <th>0</th>\n",
              "      <td>0.333333</td>\n",
              "    </tr>\n",
              "    <tr>\n",
              "      <th>1</th>\n",
              "      <td>0.200000</td>\n",
              "    </tr>\n",
              "    <tr>\n",
              "      <th>2</th>\n",
              "      <td>0.368421</td>\n",
              "    </tr>\n",
              "    <tr>\n",
              "      <th>3</th>\n",
              "      <td>0.300000</td>\n",
              "    </tr>\n",
              "    <tr>\n",
              "      <th>4</th>\n",
              "      <td>0.300000</td>\n",
              "    </tr>\n",
              "    <tr>\n",
              "      <th>...</th>\n",
              "      <td>...</td>\n",
              "    </tr>\n",
              "    <tr>\n",
              "      <th>79</th>\n",
              "      <td>0.714286</td>\n",
              "    </tr>\n",
              "    <tr>\n",
              "      <th>80</th>\n",
              "      <td>0.500000</td>\n",
              "    </tr>\n",
              "    <tr>\n",
              "      <th>81</th>\n",
              "      <td>0.500000</td>\n",
              "    </tr>\n",
              "    <tr>\n",
              "      <th>82</th>\n",
              "      <td>0.666667</td>\n",
              "    </tr>\n",
              "    <tr>\n",
              "      <th>83</th>\n",
              "      <td>0.545455</td>\n",
              "    </tr>\n",
              "  </tbody>\n",
              "</table>\n",
              "<p>84 rows × 1 columns</p>\n",
              "</div><br><label><b>dtype:</b> float64</label>"
            ]
          },
          "metadata": {},
          "execution_count": 28
        }
      ]
    },
    {
      "cell_type": "code",
      "source": [
        "df[\"S0\"]"
      ],
      "metadata": {
        "colab": {
          "base_uri": "https://localhost:8080/",
          "height": 458
        },
        "id": "N5XlGAlOJxaj",
        "outputId": "c763e311-0b29-4ee7-bc67-c20a33ce7143"
      },
      "execution_count": 29,
      "outputs": [
        {
          "output_type": "execute_result",
          "data": {
            "text/plain": [
              "0     0.600\n",
              "1     0.500\n",
              "2     0.475\n",
              "3     0.500\n",
              "4     0.500\n",
              "      ...  \n",
              "79    0.525\n",
              "80    0.550\n",
              "81    0.300\n",
              "82    0.525\n",
              "83    0.550\n",
              "Name: S0, Length: 84, dtype: float64"
            ],
            "text/html": [
              "<div>\n",
              "<style scoped>\n",
              "    .dataframe tbody tr th:only-of-type {\n",
              "        vertical-align: middle;\n",
              "    }\n",
              "\n",
              "    .dataframe tbody tr th {\n",
              "        vertical-align: top;\n",
              "    }\n",
              "\n",
              "    .dataframe thead th {\n",
              "        text-align: right;\n",
              "    }\n",
              "</style>\n",
              "<table border=\"1\" class=\"dataframe\">\n",
              "  <thead>\n",
              "    <tr style=\"text-align: right;\">\n",
              "      <th></th>\n",
              "      <th>S0</th>\n",
              "    </tr>\n",
              "  </thead>\n",
              "  <tbody>\n",
              "    <tr>\n",
              "      <th>0</th>\n",
              "      <td>0.600</td>\n",
              "    </tr>\n",
              "    <tr>\n",
              "      <th>1</th>\n",
              "      <td>0.500</td>\n",
              "    </tr>\n",
              "    <tr>\n",
              "      <th>2</th>\n",
              "      <td>0.475</td>\n",
              "    </tr>\n",
              "    <tr>\n",
              "      <th>3</th>\n",
              "      <td>0.500</td>\n",
              "    </tr>\n",
              "    <tr>\n",
              "      <th>4</th>\n",
              "      <td>0.500</td>\n",
              "    </tr>\n",
              "    <tr>\n",
              "      <th>...</th>\n",
              "      <td>...</td>\n",
              "    </tr>\n",
              "    <tr>\n",
              "      <th>79</th>\n",
              "      <td>0.525</td>\n",
              "    </tr>\n",
              "    <tr>\n",
              "      <th>80</th>\n",
              "      <td>0.550</td>\n",
              "    </tr>\n",
              "    <tr>\n",
              "      <th>81</th>\n",
              "      <td>0.300</td>\n",
              "    </tr>\n",
              "    <tr>\n",
              "      <th>82</th>\n",
              "      <td>0.525</td>\n",
              "    </tr>\n",
              "    <tr>\n",
              "      <th>83</th>\n",
              "      <td>0.550</td>\n",
              "    </tr>\n",
              "  </tbody>\n",
              "</table>\n",
              "<p>84 rows × 1 columns</p>\n",
              "</div><br><label><b>dtype:</b> float64</label>"
            ]
          },
          "metadata": {},
          "execution_count": 29
        }
      ]
    },
    {
      "cell_type": "code",
      "source": [
        "def partial_r2(y, X_full, predictors, cov_type=\"HC3\"):\n",
        "    results = {}\n",
        "    # Full model\n",
        "    model_full = sm.OLS(y, sm.add_constant(X_full)).fit(cov_type=cov_type)\n",
        "    r2_full = model_full.rsquared\n",
        "\n",
        "    for j, name in enumerate(predictors):\n",
        "        # Remove predictor j\n",
        "        mask = [k for k in range(X_full.shape[1]) if k != j]\n",
        "        X_reduced = X_full[:, mask]\n",
        "        model_reduced = sm.OLS(y, sm.add_constant(X_reduced)).fit(cov_type=cov_type)\n",
        "        r2_reduced = model_reduced.rsquared\n",
        "        r2_partial = (r2_full - r2_reduced) / (1 - r2_reduced)\n",
        "        results[name] = {\n",
        "            \"R2_full\": r2_full,\n",
        "            \"R2_reduced\": r2_reduced,\n",
        "            \"partial_R2\": r2_partial\n",
        "        }\n",
        "    return results"
      ],
      "metadata": {
        "id": "OQku-MUeA1VM"
      },
      "execution_count": 30,
      "outputs": []
    },
    {
      "cell_type": "markdown",
      "source": [
        "# Fitting using only s0 ("
      ],
      "metadata": {
        "id": "Ew-wJEYTNpBy"
      }
    },
    {
      "cell_type": "code",
      "source": [
        "import statsmodels.api as sm\n",
        "\n",
        "def fit_ssr_on_s0(ssr, s0, robust=True, add_intercept=True):\n",
        "    \"\"\"\n",
        "    Fit SSR ~ S0.\n",
        "    ssr, s0: 1d arrays of same length.\n",
        "    \"\"\"\n",
        "    X = s0[:, None]\n",
        "    if add_intercept:\n",
        "        X = sm.add_constant(X)\n",
        "    cov_type = \"HC3\" if robust else \"nonrobust\"\n",
        "    model = sm.OLS(ssr, X).fit(cov_type=cov_type)\n",
        "    return model\n",
        "\n",
        "model = fit_ssr_on_s0(df[\"SSR\"].to_numpy(), df[\"S0\"].to_numpy())\n",
        "print(model.summary())  # coefficient on S0, its p-value, R^2, etc."
      ],
      "metadata": {
        "colab": {
          "base_uri": "https://localhost:8080/"
        },
        "id": "FDxPfl7EIzCC",
        "outputId": "f286ef35-bfd7-4b82-eb3e-64b4c9e44693"
      },
      "execution_count": 31,
      "outputs": [
        {
          "output_type": "stream",
          "name": "stdout",
          "text": [
            "                            OLS Regression Results                            \n",
            "==============================================================================\n",
            "Dep. Variable:                      y   R-squared:                       0.146\n",
            "Model:                            OLS   Adj. R-squared:                  0.136\n",
            "Method:                 Least Squares   F-statistic:                     30.39\n",
            "Date:                Sun, 24 Aug 2025   Prob (F-statistic):           3.99e-07\n",
            "Time:                        18:12:31   Log-Likelihood:                 31.464\n",
            "No. Observations:                  84   AIC:                            -58.93\n",
            "Df Residuals:                      82   BIC:                            -54.07\n",
            "Df Model:                           1                                         \n",
            "Covariance Type:                  HC3                                         \n",
            "==============================================================================\n",
            "                 coef    std err          z      P>|z|      [0.025      0.975]\n",
            "------------------------------------------------------------------------------\n",
            "const          0.8275      0.083      9.914      0.000       0.664       0.991\n",
            "x1            -0.8888      0.161     -5.513      0.000      -1.205      -0.573\n",
            "==============================================================================\n",
            "Omnibus:                        2.108   Durbin-Watson:                   1.966\n",
            "Prob(Omnibus):                  0.349   Jarque-Bera (JB):                1.949\n",
            "Skew:                           0.276   Prob(JB):                        0.377\n",
            "Kurtosis:                       2.498   Cond. No.                         16.2\n",
            "==============================================================================\n",
            "\n",
            "Notes:\n",
            "[1] Standard Errors are heteroscedasticity robust (HC3)\n"
          ]
        }
      ]
    },
    {
      "cell_type": "code",
      "source": [
        "import matplotlib.pyplot as plt\n",
        "\n",
        "s0 = df[\"S0\"].to_numpy()\n",
        "ssr = df[\"SSR\"].to_numpy()\n",
        "pred = model.predict(sm.add_constant(s0))\n",
        "\n",
        "plt.scatter(s0, ssr, alpha=0.6, label=\"data\")\n",
        "plt.plot(np.sort(s0), pred[np.argsort(s0)], label=\"fit\", linewidth=2)\n",
        "plt.xlabel(\"S0\")\n",
        "plt.ylabel(\"SSR\")\n",
        "plt.legend()\n",
        "plt.tight_layout()\n",
        "plt.show()"
      ],
      "metadata": {
        "colab": {
          "base_uri": "https://localhost:8080/",
          "height": 487
        },
        "id": "6cTNIRYEJNoi",
        "outputId": "a075d4bf-1908-4644-be3a-ed793317e754"
      },
      "execution_count": 32,
      "outputs": [
        {
          "output_type": "display_data",
          "data": {
            "text/plain": [
              "<Figure size 640x480 with 1 Axes>"
            ],
            "image/png": "[encoded data removed]"
          },
          "metadata": {}
        }
      ]
    },
    {
      "cell_type": "code",
      "source": [
        "df[\"mean_solver_acc\"] = [\n",
        "    success_matrix[list(ens), :].mean() for ens in df[\"ensemble\"]\n",
        "]"
      ],
      "metadata": {
        "id": "REh2pi8FwrQ1"
      },
      "execution_count": 33,
      "outputs": []
    },
    {
      "cell_type": "code",
      "source": [
        "def fit_ssr_model(ssr, edc, s0, robust=True):\n",
        "    X = np.column_stack([edc, s0])\n",
        "    Xc = sm.add_constant(X)\n",
        "    cov_type = \"HC3\" if robust else \"nonrobust\"\n",
        "    model = sm.OLS(ssr, Xc).fit(cov_type=cov_type)\n",
        "    return model\n",
        "\n",
        "edc_i_fixed_size = [0.14816353718439737,0.14573178688685098,0.14656327168146768,0.14734911918640137,0.27105091512203217,0.14844022194544473,0.24033634861310324,0.14706761638323465,0.14789910117785135,0.1488547424475352,0.3076301763455073,0.14893513917922974,0.263549084464709,0.1457317272822062,0.14677366614341736,0.2989771415789922,0.14738072951634726,0.2602476229270299,0.14760515093803406,0.2998086263736089,0.14821221431096396,0.2610791077216466,0.2996155818303426,0.14913142720858255,0.26048154135545093,0.30384762585163116,0.3059488733609517,0.26382576922575635,0.14740410447120667,0.14740410447120667,0.14721009135246277,0.308040589094162,0.14766846100489298,0.2629772375027339,0.1465632120768229,0.14645549654960632,0.30071403582890827,0.14744053284327188,0.2610022574663162,0.14645549654960632,0.30071403582890827,0.14744053284327188,0.2610022574663162,0.29937133689721424,0.14721009135246277,0.2592550367116928,0.30398135383923847,0.3067774325609207,0.2629772375027339,0.0005762775739034017,0.0006383558114369711,0.18997053305308023,0.0006126860777537028,0.13689222931861877,0.0006383558114369711,0.18997053305308023,0.0006126860777537028,0.13689222931861877,0.18879762788613638,0.0005520383516947428,0.13531480232874551,0.19239693880081177,0.21791083614031473,0.13802629709243774,0.00014813741048177084,0.18290835618972778,0.0006491343180338541,0.13518162568410239,0.18182174861431122,0.0006747841835021973,0.13369049628575644,0.18594772617022196,0.20971457163492838,0.136928657690684,0.18182174861431122,0.0006747841835021973,0.13369049628575644,0.18594772617022196,0.20971457163492838,0.136928657690684,0.18473839263121286,0.206988458832105,0.13531480232874551,0.21385160088539124]\n",
        "edc_i_variable_size = [0.3344948784002142,0.3344950667613536,0.3344950643502867,0.3344950716700126,0.33449505666093415,0.33449487018758833,0.334494086962233,0.49692708977867994,0.49715749538435067,0.49576636545103153,0.49604683373032427,0.334152885640466,0.4999991959604131,0.3338499482869377,0.49538887236164797,0.4950040790755435,0.49490338995815125,0.4999993230153705,0.4953275460602639,0.49469948565212424,0.4947236464570661,0.4999993315552104,0.494423631459739,0.49244407277776386,0.49999934273278823,0.49476603809200864,0.4999993296742038,0.49999922018822535,0.49692708635529215,0.49715749286796357,0.4957663612832934,0.4960468294140969,0.3341528946814852,0.4999992949564221,0.33384995088157216,0.49538887330493137,0.4950040798703377,0.494903404110192,0.49999942712240103,0.49532754791054795,0.49469948735391905,0.4947236615161075,0.4999994365692417,0.4944236315101828,0.4924440861854542,0.4999994460954684,0.49476605135120977,0.49999943288839477,0.4999993367596629,0.32793500072633225,0.4880827858966465,0.48797847575042397,0.3259840383737658,0.4969271549312773,0.4882518685190007,0.48790429125074297,0.326034703796419,0.4971575723948556,0.4862372981539617,0.3223639912127207,0.4957664446680374,0.3249664396668474,0.4960469147493349,0.33415305700409054,0.3245666450820863,0.3235538062484314,0.32347747776657343,0.3338499691022821,0.48481686715967953,0.4827368191909045,0.4953888953834933,0.484674006079634,0.4950041038993936,0.4949035051266153,0.48445095075294375,0.48249575270650286,0.4953275809400168,0.48418967247319716,0.49469952233388187,0.4947237734834377,0.4816342356304328,0.49442367034799756,0.4924442020106364,0.4947661691268858]\n",
        "\n",
        "\n",
        "df[\"EDC\"] = edc_i_variable_size\n",
        "X = np.column_stack([df[\"EDC\"], df[\"mean_solver_acc\"]])\n",
        "Xc = sm.add_constant(X)\n",
        "model = sm.OLS(df[\"SSR\"], Xc).fit(cov_type=\"HC3\")\n",
        "print(model.summary())"
      ],
      "metadata": {
        "id": "ldmmjQZBNeIq",
        "colab": {
          "base_uri": "https://localhost:8080/"
        },
        "outputId": "36d40475-9318-4ed6-c4bc-c0def3f258b5"
      },
      "execution_count": 34,
      "outputs": [
        {
          "output_type": "stream",
          "name": "stdout",
          "text": [
            "                            OLS Regression Results                            \n",
            "==============================================================================\n",
            "Dep. Variable:                    SSR   R-squared:                       0.621\n",
            "Model:                            OLS   Adj. R-squared:                  0.612\n",
            "Method:                 Least Squares   F-statistic:                     66.68\n",
            "Date:                Sun, 24 Aug 2025   Prob (F-statistic):           7.63e-18\n",
            "Time:                        18:12:31   Log-Likelihood:                 65.581\n",
            "No. Observations:                  84   AIC:                            -125.2\n",
            "Df Residuals:                      81   BIC:                            -117.9\n",
            "Df Model:                           2                                         \n",
            "Covariance Type:                  HC3                                         \n",
            "==============================================================================\n",
            "                 coef    std err          z      P>|z|      [0.025      0.975]\n",
            "------------------------------------------------------------------------------\n",
            "const          0.6985      0.092      7.595      0.000       0.518       0.879\n",
            "x1             0.3724      0.160      2.322      0.020       0.058       0.687\n",
            "x2            -1.5652      0.145    -10.766      0.000      -1.850      -1.280\n",
            "==============================================================================\n",
            "Omnibus:                        1.610   Durbin-Watson:                   1.960\n",
            "Prob(Omnibus):                  0.447   Jarque-Bera (JB):                1.178\n",
            "Skew:                          -0.283   Prob(JB):                        0.555\n",
            "Kurtosis:                       3.130   Cond. No.                         20.9\n",
            "==============================================================================\n",
            "\n",
            "Notes:\n",
            "[1] Standard Errors are heteroscedasticity robust (HC3)\n"
          ]
        }
      ]
    },
    {
      "cell_type": "code",
      "source": [
        "y = df[\"SSR\"].values\n",
        "X = np.column_stack([df[\"EDC\"], df[\"mean_solver_acc\"]])\n",
        "predictors = [\"EDC\", \"mean_solver_acc\"]\n",
        "\n",
        "partial_r2_results = partial_r2(y, X, predictors)\n",
        "for k, v in partial_r2_results.items():\n",
        "    print(k, v)"
      ],
      "metadata": {
        "colab": {
          "base_uri": "https://localhost:8080/"
        },
        "id": "NEN5Ve-hA6W5",
        "outputId": "ab504f65-058b-434e-fd7c-fe9a044be8b7"
      },
      "execution_count": 35,
      "outputs": [
        {
          "output_type": "stream",
          "name": "stdout",
          "text": [
            "EDC {'R2_full': np.float64(0.6209444125885536), 'R2_reduced': np.float64(0.6016252176448329), 'partial_R2': np.float64(0.04849502478421654)}\n",
            "mean_solver_acc {'R2_full': np.float64(0.6209444125885536), 'R2_reduced': np.float64(0.14560276132511762), 'partial_R2': np.float64(0.5563473636696926)}\n"
          ]
        }
      ]
    },
    {
      "cell_type": "code",
      "source": [
        "from sklearn.linear_model import RidgeCV, LassoCV\n",
        "\n",
        "def fit_regularized(ssr: np.ndarray, edc: np.ndarray, s0: np.ndarray):\n",
        "    \"\"\"\n",
        "    Fit regularized alternatives (ridge and lasso) to SSR ~ EDC + S0 for comparison.\n",
        "    \"\"\"\n",
        "    X = np.column_stack([edc, s0])\n",
        "    # no intercept here; these estimators include their own internal handling if needed\n",
        "    ridge = RidgeCV(alphas=np.logspace(-4, 4, 50), store_cv_values=True).fit(X, ssr)\n",
        "    lasso = LassoCV(cv=5, max_iter=5000).fit(X, ssr)\n",
        "    return ridge, lasso\n",
        "\n",
        "\n",
        "ridge, lasso = fit_regularized(df[\"SSR\"], df[\"EDC\"], df[\"S0\"])\n",
        "print(\"Ridge alpha:\", ridge.alpha_)\n",
        "print(\"Ridge coefs:\", ridge.coef_)\n",
        "\n",
        "print(\"Lasso alpha:\", lasso.alpha_)\n",
        "print(\"Lasso coefs:\", lasso.coef_)"
      ],
      "metadata": {
        "colab": {
          "base_uri": "https://localhost:8080/"
        },
        "id": "wE7CEEleAZd0",
        "outputId": "122a1997-a3f4-4a7c-bbf0-d51701a536ea"
      },
      "execution_count": 36,
      "outputs": [
        {
          "output_type": "stream",
          "name": "stdout",
          "text": [
            "Ridge alpha: 0.02811768697974228\n",
            "Ridge coefs: [ 0.81744915 -0.75936834]\n",
            "Lasso alpha: 0.0005322378954023762\n",
            "Lasso coefs: [ 0.77137373 -0.71783862]\n"
          ]
        },
        {
          "output_type": "stream",
          "name": "stderr",
          "text": [
            "/usr/local/lib/python3.12/dist-packages/sklearn/linear_model/_ridge.py:2385: FutureWarning: 'store_cv_values' is deprecated in version 1.5 and will be removed in 1.7. Use 'store_cv_results' instead.\n",
            "  warnings.warn(\n"
          ]
        }
      ]
    },
    {
      "cell_type": "markdown",
      "source": [
        "# MODEL LOO (Leave-One-Out) Rate"
      ],
      "metadata": {
        "id": "oOax6mBRi9fN"
      }
    },
    {
      "cell_type": "code",
      "source": [
        "import numpy as np\n",
        "import pandas as pd\n",
        "import statsmodels.api as sm\n",
        "from itertools import combinations\n",
        "from typing import Iterable, Tuple, Optional\n",
        "from statsmodels.stats.outliers_influence import variance_inflation_factor\n",
        "from sklearn.utils import resample\n",
        "\n",
        "# leave-one-out coverage for ensembles of size 3 (conditional: among left-out failures)\n",
        "def leave_one_out_coverage_for_3(\n",
        "    success_matrix: np.ndarray,\n",
        "    ensembles: Optional[Iterable[Tuple[int,int,int]]] = None,\n",
        "    conditional: bool = True\n",
        ") -> pd.DataFrame:\n",
        "    n_solvers, n_problems = success_matrix.shape\n",
        "    if ensembles is None:\n",
        "        ensembles = list(combinations(range(n_solvers), 3))\n",
        "    else:\n",
        "        ensembles = list(ensembles)\n",
        "\n",
        "    records = []\n",
        "    for ens in ensembles:\n",
        "        i0, i1, i2 = ens\n",
        "        per_rates = []\n",
        "        for idx in (i0, i1, i2):\n",
        "            others = [m for m in ens if m != idx]\n",
        "            fails = success_matrix[idx, :] == 0\n",
        "            others_or = np.logical_xor(success_matrix[others[0], :] == 1,\n",
        "                                      success_matrix[others[1], :] == 1)\n",
        "            if conditional:\n",
        "                rate = np.mean(others_or[fails]) if np.any(fails) else np.nan\n",
        "            else:\n",
        "                rate = np.mean((fails & others_or).astype(float))\n",
        "            per_rates.append(rate)\n",
        "        loo_avg = np.nanmean(per_rates)\n",
        "        records.append({\n",
        "            \"ensemble\": ens,\n",
        "            \"left_out_0_rate\": per_rates[0],\n",
        "            \"left_out_1_rate\": per_rates[1],\n",
        "            \"left_out_2_rate\": per_rates[2],\n",
        "            \"loo_avg\": loo_avg,\n",
        "        })\n",
        "    return pd.DataFrame.from_records(records)"
      ],
      "metadata": {
        "id": "6M6DtNXri1d9"
      },
      "execution_count": 37,
      "outputs": []
    },
    {
      "cell_type": "markdown",
      "source": [
        "# OLS Metric (conditional = True)"
      ],
      "metadata": {
        "id": "cnVSEEDYqLQI"
      }
    },
    {
      "cell_type": "markdown",
      "source": [
        "conditional=True means that we are conditioning over problems where the LOO model fails."
      ],
      "metadata": {
        "id": "QTeZv83BqPJT"
      }
    },
    {
      "cell_type": "code",
      "source": [
        "df_loo = leave_one_out_coverage_for_3(success_matrix, conditional=True)\n",
        "\n",
        "assert all(df[\"ensemble\"] == df_loo[\"ensemble\"]) # Sanity Check\n",
        "\n",
        "X = np.column_stack([df[\"EDC\"], df[\"SSR\"], df[\"mean_solver_acc\"]])\n",
        "Xc = sm.add_constant(X)\n",
        "model = sm.OLS(df_loo[\"loo_avg\"], Xc).fit(cov_type=\"HC3\")\n",
        "print(model.summary())"
      ],
      "metadata": {
        "colab": {
          "base_uri": "https://localhost:8080/"
        },
        "id": "BdHxDKnVjGSk",
        "outputId": "23a23af8-832e-40c8-cfbd-2d558c4bdcef"
      },
      "execution_count": 38,
      "outputs": [
        {
          "output_type": "stream",
          "name": "stdout",
          "text": [
            "                            OLS Regression Results                            \n",
            "==============================================================================\n",
            "Dep. Variable:                loo_avg   R-squared:                       0.898\n",
            "Model:                            OLS   Adj. R-squared:                  0.895\n",
            "Method:                 Least Squares   F-statistic:                     311.9\n",
            "Date:                Sun, 24 Aug 2025   Prob (F-statistic):           4.91e-44\n",
            "Time:                        18:12:31   Log-Likelihood:                 209.58\n",
            "No. Observations:                  84   AIC:                            -411.2\n",
            "Df Residuals:                      80   BIC:                            -401.4\n",
            "Df Model:                           3                                         \n",
            "Covariance Type:                  HC3                                         \n",
            "==============================================================================\n",
            "                 coef    std err          z      P>|z|      [0.025      0.975]\n",
            "------------------------------------------------------------------------------\n",
            "const         -0.2664      0.026    -10.398      0.000      -0.317      -0.216\n",
            "x1             0.0840      0.035      2.418      0.016       0.016       0.152\n",
            "x2             0.4919      0.017     28.152      0.000       0.458       0.526\n",
            "x3             0.6619      0.053     12.526      0.000       0.558       0.765\n",
            "==============================================================================\n",
            "Omnibus:                        9.123   Durbin-Watson:                   2.116\n",
            "Prob(Omnibus):                  0.010   Jarque-Bera (JB):                8.987\n",
            "Skew:                          -0.672   Prob(JB):                       0.0112\n",
            "Kurtosis:                       3.872   Cond. No.                         26.9\n",
            "==============================================================================\n",
            "\n",
            "Notes:\n",
            "[1] Standard Errors are heteroscedasticity robust (HC3)\n"
          ]
        }
      ]
    },
    {
      "cell_type": "code",
      "source": [
        "y = df_loo[\"loo_avg\"].values\n",
        "X = np.column_stack([df[\"EDC\"], df[\"SSR\"], df[\"mean_solver_acc\"]])\n",
        "predictors = [\"EDC\",\"SSR\", \"mean_solver_acc\"]\n",
        "\n",
        "partial_r2_results = partial_r2(y, X, predictors)\n",
        "for k, v in partial_r2_results.items():\n",
        "    print(k, v)"
      ],
      "metadata": {
        "colab": {
          "base_uri": "https://localhost:8080/"
        },
        "id": "6TGDFynS9aXg",
        "outputId": "65e9b5a0-31d9-47f6-c571-8515e3b401a1"
      },
      "execution_count": 39,
      "outputs": [
        {
          "output_type": "stream",
          "name": "stdout",
          "text": [
            "EDC {'R2_full': np.float64(0.898470980266614), 'R2_reduced': np.float64(0.8907378693254215), 'partial_R2': np.float64(0.07077576552322967)}\n",
            "SSR {'R2_full': np.float64(0.898470980266614), 'R2_reduced': np.float64(0.14082585287797467), 'partial_R2': np.float64(0.8818295219037052)}\n",
            "mean_solver_acc {'R2_full': np.float64(0.898470980266614), 'R2_reduced': np.float64(0.5870190150457655), 'partial_R2': np.float64(0.7541557034529394)}\n"
          ]
        }
      ]
    },
    {
      "cell_type": "code",
      "source": [
        "X = np.column_stack([df[\"EDC\"], df[\"S0\"]])\n",
        "Xc = sm.add_constant(X)\n",
        "model = sm.OLS(df_loo[\"loo_avg\"], Xc).fit(cov_type=\"HC3\")\n",
        "print(model.summary())"
      ],
      "metadata": {
        "colab": {
          "base_uri": "https://localhost:8080/"
        },
        "id": "FxRjMltJmg7r",
        "outputId": "6bcec3f8-0ab2-4d95-e12d-8209206fa0fb"
      },
      "execution_count": 40,
      "outputs": [
        {
          "output_type": "stream",
          "name": "stdout",
          "text": [
            "                            OLS Regression Results                            \n",
            "==============================================================================\n",
            "Dep. Variable:                loo_avg   R-squared:                       0.220\n",
            "Model:                            OLS   Adj. R-squared:                  0.201\n",
            "Method:                 Least Squares   F-statistic:                     17.01\n",
            "Date:                Sun, 24 Aug 2025   Prob (F-statistic):           6.79e-07\n",
            "Time:                        18:12:31   Log-Likelihood:                 123.95\n",
            "No. Observations:                  84   AIC:                            -241.9\n",
            "Df Residuals:                      81   BIC:                            -234.6\n",
            "Df Model:                           2                                         \n",
            "Covariance Type:                  HC3                                         \n",
            "==============================================================================\n",
            "                 coef    std err          z      P>|z|      [0.025      0.975]\n",
            "------------------------------------------------------------------------------\n",
            "const         -0.1179      0.050     -2.354      0.019      -0.216      -0.020\n",
            "x1             0.3406      0.087      3.899      0.000       0.169       0.512\n",
            "x2             0.2551      0.056      4.572      0.000       0.146       0.364\n",
            "==============================================================================\n",
            "Omnibus:                        3.580   Durbin-Watson:                   1.868\n",
            "Prob(Omnibus):                  0.167   Jarque-Bera (JB):                2.081\n",
            "Skew:                          -0.124   Prob(JB):                        0.353\n",
            "Kurtosis:                       2.270   Cond. No.                         21.0\n",
            "==============================================================================\n",
            "\n",
            "Notes:\n",
            "[1] Standard Errors are heteroscedasticity robust (HC3)\n"
          ]
        }
      ]
    },
    {
      "cell_type": "code",
      "source": [
        "y = df_loo[\"loo_avg\"].values\n",
        "X = np.column_stack([df[\"EDC\"], df[\"S0\"]])\n",
        "predictors = [\"EDC\", \"S0\"]\n",
        "\n",
        "partial_r2_results = partial_r2(y, X, predictors)\n",
        "for k, v in partial_r2_results.items():\n",
        "    print(k, v)"
      ],
      "metadata": {
        "colab": {
          "base_uri": "https://localhost:8080/"
        },
        "id": "Dd1kKIyA-4l7",
        "outputId": "e7ff8040-5f1c-4a25-da3f-10ca73a469a9"
      },
      "execution_count": 41,
      "outputs": [
        {
          "output_type": "stream",
          "name": "stdout",
          "text": [
            "EDC {'R2_full': np.float64(0.22004118414181795), 'R2_reduced': np.float64(0.07306716344813835), 'partial_R2': np.float64(0.15855951466819834)}\n",
            "S0 {'R2_full': np.float64(0.22004118414181795), 'R2_reduced': np.float64(0.12209375914051812), 'partial_R2': np.float64(0.11156934583971974)}\n"
          ]
        }
      ]
    },
    {
      "cell_type": "code",
      "source": [
        "X = np.column_stack([df[\"EDC\"]])\n",
        "Xc = sm.add_constant(X)\n",
        "model = sm.OLS(df_loo[\"loo_avg\"], Xc).fit(cov_type=\"HC3\")\n",
        "print(model.summary())"
      ],
      "metadata": {
        "colab": {
          "base_uri": "https://localhost:8080/"
        },
        "id": "y6z4HH6J5ck8",
        "outputId": "0c33bfcc-d49b-4fe4-bb58-ac0137782a51"
      },
      "execution_count": 42,
      "outputs": [
        {
          "output_type": "stream",
          "name": "stdout",
          "text": [
            "                            OLS Regression Results                            \n",
            "==============================================================================\n",
            "Dep. Variable:                loo_avg   R-squared:                       0.122\n",
            "Model:                            OLS   Adj. R-squared:                  0.111\n",
            "Method:                 Least Squares   F-statistic:                     13.19\n",
            "Date:                Sun, 24 Aug 2025   Prob (F-statistic):           0.000488\n",
            "Time:                        18:12:31   Log-Likelihood:                 118.98\n",
            "No. Observations:                  84   AIC:                            -234.0\n",
            "Df Residuals:                      82   BIC:                            -229.1\n",
            "Df Model:                           1                                         \n",
            "Covariance Type:                  HC3                                         \n",
            "==============================================================================\n",
            "                 coef    std err          z      P>|z|      [0.025      0.975]\n",
            "------------------------------------------------------------------------------\n",
            "const          0.0250      0.038      0.654      0.513      -0.050       0.100\n",
            "x1             0.3084      0.085      3.632      0.000       0.142       0.475\n",
            "==============================================================================\n",
            "Omnibus:                        3.392   Durbin-Watson:                   1.854\n",
            "Prob(Omnibus):                  0.183   Jarque-Bera (JB):                1.912\n",
            "Skew:                          -0.056   Prob(JB):                        0.384\n",
            "Kurtosis:                       2.269   Cond. No.                         17.0\n",
            "==============================================================================\n",
            "\n",
            "Notes:\n",
            "[1] Standard Errors are heteroscedasticity robust (HC3)\n"
          ]
        }
      ]
    },
    {
      "cell_type": "markdown",
      "source": [
        "# Predicing S0 (coverage)"
      ],
      "metadata": {
        "id": "83ZMCXHw0rrJ"
      }
    },
    {
      "cell_type": "code",
      "source": [
        "X = np.column_stack([df[\"EDC\"], df[\"mean_solver_acc\"]])\n",
        "Xc = sm.add_constant(X)\n",
        "model_s0 = sm.OLS(df[\"S0\"], Xc).fit(cov_type=\"HC3\")\n",
        "print(model_s0.summary())"
      ],
      "metadata": {
        "colab": {
          "base_uri": "https://localhost:8080/"
        },
        "id": "FFUeqAoo0pX2",
        "outputId": "5138cc5b-b042-44b7-efee-dd1d1549d176"
      },
      "execution_count": 43,
      "outputs": [
        {
          "output_type": "stream",
          "name": "stdout",
          "text": [
            "                            OLS Regression Results                            \n",
            "==============================================================================\n",
            "Dep. Variable:                     S0   R-squared:                       0.667\n",
            "Model:                            OLS   Adj. R-squared:                  0.659\n",
            "Method:                 Least Squares   F-statistic:                     46.64\n",
            "Date:                Sun, 24 Aug 2025   Prob (F-statistic):           3.33e-14\n",
            "Time:                        18:12:31   Log-Likelihood:                 142.00\n",
            "No. Observations:                  84   AIC:                            -278.0\n",
            "Df Residuals:                      81   BIC:                            -270.7\n",
            "Df Model:                           2                                         \n",
            "Covariance Type:                  HC3                                         \n",
            "==============================================================================\n",
            "                 coef    std err          z      P>|z|      [0.025      0.975]\n",
            "------------------------------------------------------------------------------\n",
            "const          0.1787      0.040      4.475      0.000       0.100       0.257\n",
            "x1             0.1737      0.054      3.211      0.001       0.068       0.280\n",
            "x2             0.7891      0.082      9.628      0.000       0.628       0.950\n",
            "==============================================================================\n",
            "Omnibus:                        2.140   Durbin-Watson:                   1.888\n",
            "Prob(Omnibus):                  0.343   Jarque-Bera (JB):                2.064\n",
            "Skew:                          -0.309   Prob(JB):                        0.356\n",
            "Kurtosis:                       2.544   Cond. No.                         20.9\n",
            "==============================================================================\n",
            "\n",
            "Notes:\n",
            "[1] Standard Errors are heteroscedasticity robust (HC3)\n"
          ]
        }
      ]
    },
    {
      "cell_type": "code",
      "source": [
        "y = df[\"S0\"].values\n",
        "X = np.column_stack([df[\"EDC\"], df[\"mean_solver_acc\"]])\n",
        "predictors = [\"EDC\", \"mean_solver_acc\"]\n",
        "\n",
        "partial_r2_results = partial_r2(y, X, predictors)\n",
        "for k, v in partial_r2_results.items():\n",
        "    print(k, v)"
      ],
      "metadata": {
        "colab": {
          "base_uri": "https://localhost:8080/"
        },
        "id": "GyWXVvge8dpV",
        "outputId": "f5a27a8e-f1d0-4d2c-816d-ac42db142084"
      },
      "execution_count": 44,
      "outputs": [
        {
          "output_type": "stream",
          "name": "stdout",
          "text": [
            "EDC {'R2_full': np.float64(0.6674413656473248), 'R2_reduced': np.float64(0.6446950596981373), 'partial_R2': np.float64(0.06401910969732787)}\n",
            "mean_solver_acc {'R2_full': np.float64(0.6674413656473248), 'R2_reduced': np.float64(0.013462468878592815), 'partial_R2': np.float64(0.6629032106111032)}\n"
          ]
        }
      ]
    },
    {
      "cell_type": "code",
      "source": [
        "X = np.column_stack([df[\"EDC\"], df[\"mean_solver_acc\"], df[\"SSR\"]])\n",
        "Xc = sm.add_constant(X)\n",
        "model_s0 = sm.OLS(df[\"S0\"], Xc).fit(cov_type=\"HC3\")\n",
        "print(model_s0.summary())"
      ],
      "metadata": {
        "colab": {
          "base_uri": "https://localhost:8080/"
        },
        "id": "mVKJkMmUiaoc",
        "outputId": "f561772c-1103-4657-b245-72fcb38f63a2"
      },
      "execution_count": 45,
      "outputs": [
        {
          "output_type": "stream",
          "name": "stdout",
          "text": [
            "                            OLS Regression Results                            \n",
            "==============================================================================\n",
            "Dep. Variable:                     S0   R-squared:                       0.795\n",
            "Model:                            OLS   Adj. R-squared:                  0.787\n",
            "Method:                 Least Squares   F-statistic:                     44.72\n",
            "Date:                Sun, 24 Aug 2025   Prob (F-statistic):           4.50e-17\n",
            "Time:                        18:12:31   Log-Likelihood:                 162.30\n",
            "No. Observations:                  84   AIC:                            -316.6\n",
            "Df Residuals:                      80   BIC:                            -306.9\n",
            "Df Model:                           3                                         \n",
            "Covariance Type:                  HC3                                         \n",
            "==============================================================================\n",
            "                 coef    std err          z      P>|z|      [0.025      0.975]\n",
            "------------------------------------------------------------------------------\n",
            "const          0.0046      0.052      0.090      0.928      -0.097       0.106\n",
            "x1             0.0809      0.055      1.465      0.143      -0.027       0.189\n",
            "x2             1.1792      0.103     11.487      0.000       0.978       1.380\n",
            "x3             0.2492      0.033      7.567      0.000       0.185       0.314\n",
            "==============================================================================\n",
            "Omnibus:                        5.297   Durbin-Watson:                   2.204\n",
            "Prob(Omnibus):                  0.071   Jarque-Bera (JB):                5.344\n",
            "Skew:                          -0.608   Prob(JB):                       0.0691\n",
            "Kurtosis:                       2.783   Cond. No.                         26.9\n",
            "==============================================================================\n",
            "\n",
            "Notes:\n",
            "[1] Standard Errors are heteroscedasticity robust (HC3)\n"
          ]
        }
      ]
    },
    {
      "cell_type": "code",
      "source": [
        "y = df[\"S0\"].values\n",
        "X = np.column_stack([df[\"EDC\"], df[\"mean_solver_acc\"], df[\"SSR\"]])\n",
        "predictors = [\"EDC\", \"mean_solver_acc\", \"SSR\"]\n",
        "\n",
        "partial_r2_results = partial_r2(y, X, predictors)\n",
        "for k, v in partial_r2_results.items():\n",
        "    print(k, v)"
      ],
      "metadata": {
        "colab": {
          "base_uri": "https://localhost:8080/"
        },
        "id": "_jngnGe5idu9",
        "outputId": "de9f1692-6aec-44fd-87e8-026290f50fe8"
      },
      "execution_count": 46,
      "outputs": [
        {
          "output_type": "stream",
          "name": "stdout",
          "text": [
            "EDC {'R2_full': np.float64(0.794876271492146), 'R2_reduced': np.float64(0.7901835221240852), 'partial_R2': np.float64(0.022365971517433157)}\n",
            "mean_solver_acc {'R2_full': np.float64(0.794876271492146), 'R2_reduced': np.float64(0.1469915362184384), 'partial_R2': np.float64(0.7595290818118048)}\n",
            "SSR {'R2_full': np.float64(0.794876271492146), 'R2_reduced': np.float64(0.6674413656473248), 'partial_R2': np.float64(0.38319530056067563)}\n"
          ]
        }
      ]
    },
    {
      "cell_type": "code",
      "source": [
        "# correlation\n",
        "print(np.corrcoef(df[\"S0\"], df[\"mean_solver_acc\"])[0,1])\n",
        "\n",
        "# VIF\n",
        "from statsmodels.stats.outliers_influence import variance_inflation_factor\n",
        "Xc = sm.add_constant(np.column_stack([df[\"S0\"], df[\"mean_solver_acc\"]]))\n",
        "[vif := variance_inflation_factor(Xc, i) for i in range(Xc.shape[1])]\n"
      ],
      "metadata": {
        "colab": {
          "base_uri": "https://localhost:8080/"
        },
        "id": "XnrXzzB7gQjN",
        "outputId": "5ad01b58-b48b-4565-801d-9fb551a0c9b3"
      },
      "execution_count": 47,
      "outputs": [
        {
          "output_type": "stream",
          "name": "stdout",
          "text": [
            "0.8029290502268166\n"
          ]
        },
        {
          "output_type": "execute_result",
          "data": {
            "text/plain": [
              "[np.float64(49.62322492191112),\n",
              " np.float64(2.814483804110386),\n",
              " np.float64(2.814483804110386)]"
            ]
          },
          "metadata": {},
          "execution_count": 47
        }
      ]
    },
    {
      "cell_type": "code",
      "source": [
        "# correlation\n",
        "print(np.corrcoef(df[\"EDC\"], df[\"SSR\"])[0,1])\n",
        "\n",
        "# VIF\n",
        "from statsmodels.stats.outliers_influence import variance_inflation_factor\n",
        "Xc = sm.add_constant(np.column_stack([df[\"EDC\"], df[\"SSR\"]]))\n",
        "[vif := variance_inflation_factor(Xc, i) for i in range(Xc.shape[1])]\n"
      ],
      "metadata": {
        "colab": {
          "base_uri": "https://localhost:8080/"
        },
        "id": "HSu7GBuilj63",
        "outputId": "e83fe09b-71be-4c4d-8c87-ed92058e5467"
      },
      "execution_count": 48,
      "outputs": [
        {
          "output_type": "stream",
          "name": "stdout",
          "text": [
            "0.3815792988686857\n"
          ]
        },
        {
          "output_type": "execute_result",
          "data": {
            "text/plain": [
              "[np.float64(41.91395357081809),\n",
              " np.float64(1.170415767671416),\n",
              " np.float64(1.1704157676714155)]"
            ]
          },
          "metadata": {},
          "execution_count": 48
        }
      ]
    },
    {
      "cell_type": "markdown",
      "source": [
        "Takeaway: EDC predicts SSR (conditional) stronger than SSR (unconditional). SSR is a strong predictor of coverage even though that's not logically necessary."
      ],
      "metadata": {
        "id": "w7bnwTgs0wLp"
      }
    }
  ]
}
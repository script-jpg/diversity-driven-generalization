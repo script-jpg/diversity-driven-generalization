{
  "nbformat": 4,
  "nbformat_minor": 0,
  "metadata": {
    "colab": {
      "provenance": [],
      "collapsed_sections": [
        "_wL-8j3eszyk",
        "geIVoOsntKnV",
        "9OcCVE0F5WeT",
        "lOgBnQ9G65OI",
        "bwqgkFQC7PXS"
      ]
    },
    "kernelspec": {
      "name": "python3",
      "display_name": "Python 3"
    },
    "language_info": {
      "name": "python"
    },
    "widgets": {
      "application/vnd.jupyter.widget-state+json": {
        "f40ccef3fbd74619ab8e56dce456571f": {
          "model_module": "@jupyter-widgets/controls",
          "model_name": "HBoxModel",
          "model_module_version": "1.5.0",
          "state": {
            "_dom_classes": [],
            "_model_module": "@jupyter-widgets/controls",
            "_model_module_version": "1.5.0",
            "_model_name": "HBoxModel",
            "_view_count": null,
            "_view_module": "@jupyter-widgets/controls",
            "_view_module_version": "1.5.0",
            "_view_name": "HBoxView",
            "box_style": "",
            "children": [
              "IPY_MODEL_910f00342d9546bab8c74997bcd89677",
              "IPY_MODEL_d951a103398a48a296b60d28b8d099d7",
              "IPY_MODEL_712820ee41534926891ded9fd4a7f02a"
            ],
            "layout": "IPY_MODEL_7dd751d8dd0a48379215babb2d8be1aa"
          }
        },
        "910f00342d9546bab8c74997bcd89677": {
          "model_module": "@jupyter-widgets/controls",
          "model_name": "HTMLModel",
          "model_module_version": "1.5.0",
          "state": {
            "_dom_classes": [],
            "_model_module": "@jupyter-widgets/controls",
            "_model_module_version": "1.5.0",
            "_model_name": "HTMLModel",
            "_view_count": null,
            "_view_module": "@jupyter-widgets/controls",
            "_view_module_version": "1.5.0",
            "_view_name": "HTMLView",
            "description": "",
            "description_tooltip": null,
            "layout": "IPY_MODEL_f7391fa5f5e8474ebf6bff190bef1039",
            "placeholder": "​",
            "style": "IPY_MODEL_43208ad69d814392b0f59b83a752efde",
            "value": "README.md: 100%"
          }
        },
        "d951a103398a48a296b60d28b8d099d7": {
          "model_module": "@jupyter-widgets/controls",
          "model_name": "FloatProgressModel",
          "model_module_version": "1.5.0",
          "state": {
            "_dom_classes": [],
            "_model_module": "@jupyter-widgets/controls",
            "_model_module_version": "1.5.0",
            "_model_name": "FloatProgressModel",
            "_view_count": null,
            "_view_module": "@jupyter-widgets/controls",
            "_view_module_version": "1.5.0",
            "_view_name": "ProgressView",
            "bar_style": "success",
            "description": "",
            "description_tooltip": null,
            "layout": "IPY_MODEL_8516d14248d24e19b6cf147be4c429a3",
            "max": 483,
            "min": 0,
            "orientation": "horizontal",
            "style": "IPY_MODEL_cb02b938bdf246799b8c4adbc0da99ef",
            "value": 483
          }
        },
        "712820ee41534926891ded9fd4a7f02a": {
          "model_module": "@jupyter-widgets/controls",
          "model_name": "HTMLModel",
          "model_module_version": "1.5.0",
          "state": {
            "_dom_classes": [],
            "_model_module": "@jupyter-widgets/controls",
            "_model_module_version": "1.5.0",
            "_model_name": "HTMLModel",
            "_view_count": null,
            "_view_module": "@jupyter-widgets/controls",
            "_view_module_version": "1.5.0",
            "_view_name": "HTMLView",
            "description": "",
            "description_tooltip": null,
            "layout": "IPY_MODEL_04cbee2954804dec8255a1d19d79c855",
            "placeholder": "​",
            "style": "IPY_MODEL_f3d2802ab0cb47118a995c6d96827525",
            "value": " 483/483 [00:00&lt;00:00, 5.39kB/s]"
          }
        },
        "7dd751d8dd0a48379215babb2d8be1aa": {
          "model_module": "@jupyter-widgets/base",
          "model_name": "LayoutModel",
          "model_module_version": "1.2.0",
          "state": {
            "_model_module": "@jupyter-widgets/base",
            "_model_module_version": "1.2.0",
            "_model_name": "LayoutModel",
            "_view_count": null,
            "_view_module": "@jupyter-widgets/base",
            "_view_module_version": "1.2.0",
            "_view_name": "LayoutView",
            "align_content": null,
            "align_items": null,
            "align_self": null,
            "border": null,
            "bottom": null,
            "display": null,
            "flex": null,
            "flex_flow": null,
            "grid_area": null,
            "grid_auto_columns": null,
            "grid_auto_flow": null,
            "grid_auto_rows": null,
            "grid_column": null,
            "grid_gap": null,
            "grid_row": null,
            "grid_template_areas": null,
            "grid_template_columns": null,
            "grid_template_rows": null,
            "height": null,
            "justify_content": null,
            "justify_items": null,
            "left": null,
            "margin": null,
            "max_height": null,
            "max_width": null,
            "min_height": null,
            "min_width": null,
            "object_fit": null,
            "object_position": null,
            "order": null,
            "overflow": null,
            "overflow_x": null,
            "overflow_y": null,
            "padding": null,
            "right": null,
            "top": null,
            "visibility": null,
            "width": null
          }
        },
        "f7391fa5f5e8474ebf6bff190bef1039": {
          "model_module": "@jupyter-widgets/base",
          "model_name": "LayoutModel",
          "model_module_version": "1.2.0",
          "state": {
            "_model_module": "@jupyter-widgets/base",
            "_model_module_version": "1.2.0",
            "_model_name": "LayoutModel",
            "_view_count": null,
            "_view_module": "@jupyter-widgets/base",
            "_view_module_version": "1.2.0",
            "_view_name": "LayoutView",
            "align_content": null,
            "align_items": null,
            "align_self": null,
            "border": null,
            "bottom": null,
            "display": null,
            "flex": null,
            "flex_flow": null,
            "grid_area": null,
            "grid_auto_columns": null,
            "grid_auto_flow": null,
            "grid_auto_rows": null,
            "grid_column": null,
            "grid_gap": null,
            "grid_row": null,
            "grid_template_areas": null,
            "grid_template_columns": null,
            "grid_template_rows": null,
            "height": null,
            "justify_content": null,
            "justify_items": null,
            "left": null,
            "margin": null,
            "max_height": null,
            "max_width": null,
            "min_height": null,
            "min_width": null,
            "object_fit": null,
            "object_position": null,
            "order": null,
            "overflow": null,
            "overflow_x": null,
            "overflow_y": null,
            "padding": null,
            "right": null,
            "top": null,
            "visibility": null,
            "width": null
          }
        },
        "43208ad69d814392b0f59b83a752efde": {
          "model_module": "@jupyter-widgets/controls",
          "model_name": "DescriptionStyleModel",
          "model_module_version": "1.5.0",
          "state": {
            "_model_module": "@jupyter-widgets/controls",
            "_model_module_version": "1.5.0",
            "_model_name": "DescriptionStyleModel",
            "_view_count": null,
            "_view_module": "@jupyter-widgets/base",
            "_view_module_version": "1.2.0",
            "_view_name": "StyleView",
            "description_width": ""
          }
        },
        "8516d14248d24e19b6cf147be4c429a3": {
          "model_module": "@jupyter-widgets/base",
          "model_name": "LayoutModel",
          "model_module_version": "1.2.0",
          "state": {
            "_model_module": "@jupyter-widgets/base",
            "_model_module_version": "1.2.0",
            "_model_name": "LayoutModel",
            "_view_count": null,
            "_view_module": "@jupyter-widgets/base",
            "_view_module_version": "1.2.0",
            "_view_name": "LayoutView",
            "align_content": null,
            "align_items": null,
            "align_self": null,
            "border": null,
            "bottom": null,
            "display": null,
            "flex": null,
            "flex_flow": null,
            "grid_area": null,
            "grid_auto_columns": null,
            "grid_auto_flow": null,
            "grid_auto_rows": null,
            "grid_column": null,
            "grid_gap": null,
            "grid_row": null,
            "grid_template_areas": null,
            "grid_template_columns": null,
            "grid_template_rows": null,
            "height": null,
            "justify_content": null,
            "justify_items": null,
            "left": null,
            "margin": null,
            "max_height": null,
            "max_width": null,
            "min_height": null,
            "min_width": null,
            "object_fit": null,
            "object_position": null,
            "order": null,
            "overflow": null,
            "overflow_x": null,
            "overflow_y": null,
            "padding": null,
            "right": null,
            "top": null,
            "visibility": null,
            "width": null
          }
        },
        "cb02b938bdf246799b8c4adbc0da99ef": {
          "model_module": "@jupyter-widgets/controls",
          "model_name": "ProgressStyleModel",
          "model_module_version": "1.5.0",
          "state": {
            "_model_module": "@jupyter-widgets/controls",
            "_model_module_version": "1.5.0",
            "_model_name": "ProgressStyleModel",
            "_view_count": null,
            "_view_module": "@jupyter-widgets/base",
            "_view_module_version": "1.2.0",
            "_view_name": "StyleView",
            "bar_color": null,
            "description_width": ""
          }
        },
        "04cbee2954804dec8255a1d19d79c855": {
          "model_module": "@jupyter-widgets/base",
          "model_name": "LayoutModel",
          "model_module_version": "1.2.0",
          "state": {
            "_model_module": "@jupyter-widgets/base",
            "_model_module_version": "1.2.0",
            "_model_name": "LayoutModel",
            "_view_count": null,
            "_view_module": "@jupyter-widgets/base",
            "_view_module_version": "1.2.0",
            "_view_name": "LayoutView",
            "align_content": null,
            "align_items": null,
            "align_self": null,
            "border": null,
            "bottom": null,
            "display": null,
            "flex": null,
            "flex_flow": null,
            "grid_area": null,
            "grid_auto_columns": null,
            "grid_auto_flow": null,
            "grid_auto_rows": null,
            "grid_column": null,
            "grid_gap": null,
            "grid_row": null,
            "grid_template_areas": null,
            "grid_template_columns": null,
            "grid_template_rows": null,
            "height": null,
            "justify_content": null,
            "justify_items": null,
            "left": null,
            "margin": null,
            "max_height": null,
            "max_width": null,
            "min_height": null,
            "min_width": null,
            "object_fit": null,
            "object_position": null,
            "order": null,
            "overflow": null,
            "overflow_x": null,
            "overflow_y": null,
            "padding": null,
            "right": null,
            "top": null,
            "visibility": null,
            "width": null
          }
        },
        "f3d2802ab0cb47118a995c6d96827525": {
          "model_module": "@jupyter-widgets/controls",
          "model_name": "DescriptionStyleModel",
          "model_module_version": "1.5.0",
          "state": {
            "_model_module": "@jupyter-widgets/controls",
            "_model_module_version": "1.5.0",
            "_model_name": "DescriptionStyleModel",
            "_view_count": null,
            "_view_module": "@jupyter-widgets/base",
            "_view_module_version": "1.2.0",
            "_view_name": "StyleView",
            "description_width": ""
          }
        },
        "2337137d239c4ca3bd14f9a8eff500f9": {
          "model_module": "@jupyter-widgets/controls",
          "model_name": "HBoxModel",
          "model_module_version": "1.5.0",
          "state": {
            "_dom_classes": [],
            "_model_module": "@jupyter-widgets/controls",
            "_model_module_version": "1.5.0",
            "_model_name": "HBoxModel",
            "_view_count": null,
            "_view_module": "@jupyter-widgets/controls",
            "_view_module_version": "1.5.0",
            "_view_name": "HBoxView",
            "box_style": "",
            "children": [
              "IPY_MODEL_a0cb9b1bccb84d57a20b33b054afdcbe",
              "IPY_MODEL_1c1d5e63a73f496895d29f1c48763394",
              "IPY_MODEL_c28c91ffe6bd4443bcffb295c2dba806"
            ],
            "layout": "IPY_MODEL_3b2a9712638241ea8eb77ab6b7c49f2e"
          }
        },
        "a0cb9b1bccb84d57a20b33b054afdcbe": {
          "model_module": "@jupyter-widgets/controls",
          "model_name": "HTMLModel",
          "model_module_version": "1.5.0",
          "state": {
            "_dom_classes": [],
            "_model_module": "@jupyter-widgets/controls",
            "_model_module_version": "1.5.0",
            "_model_name": "HTMLModel",
            "_view_count": null,
            "_view_module": "@jupyter-widgets/controls",
            "_view_module_version": "1.5.0",
            "_view_name": "HTMLView",
            "description": "",
            "description_tooltip": null,
            "layout": "IPY_MODEL_6bd26ef87f3d493fbacd614a7f5d676b",
            "placeholder": "​",
            "style": "IPY_MODEL_008ffc97f7b54e778776f45510109633",
            "value": "data/train-00000-of-00001.parquet: 100%"
          }
        },
        "1c1d5e63a73f496895d29f1c48763394": {
          "model_module": "@jupyter-widgets/controls",
          "model_name": "FloatProgressModel",
          "model_module_version": "1.5.0",
          "state": {
            "_dom_classes": [],
            "_model_module": "@jupyter-widgets/controls",
            "_model_module_version": "1.5.0",
            "_model_name": "FloatProgressModel",
            "_view_count": null,
            "_view_module": "@jupyter-widgets/controls",
            "_view_module_version": "1.5.0",
            "_view_name": "ProgressView",
            "bar_style": "success",
            "description": "",
            "description_tooltip": null,
            "layout": "IPY_MODEL_3946702ee20c4497a680b3725cd733fd",
            "max": 17004,
            "min": 0,
            "orientation": "horizontal",
            "style": "IPY_MODEL_aa1036ab519c4d5db8d3bfc185e05dfa",
            "value": 17004
          }
        },
        "c28c91ffe6bd4443bcffb295c2dba806": {
          "model_module": "@jupyter-widgets/controls",
          "model_name": "HTMLModel",
          "model_module_version": "1.5.0",
          "state": {
            "_dom_classes": [],
            "_model_module": "@jupyter-widgets/controls",
            "_model_module_version": "1.5.0",
            "_model_name": "HTMLModel",
            "_view_count": null,
            "_view_module": "@jupyter-widgets/controls",
            "_view_module_version": "1.5.0",
            "_view_name": "HTMLView",
            "description": "",
            "description_tooltip": null,
            "layout": "IPY_MODEL_847d05f44aa646d39d9942d393a50a87",
            "placeholder": "​",
            "style": "IPY_MODEL_9271d3bb637e46819ccf10d8278af3e0",
            "value": " 17.0k/17.0k [00:00&lt;00:00, 18.5kB/s]"
          }
        },
        "3b2a9712638241ea8eb77ab6b7c49f2e": {
          "model_module": "@jupyter-widgets/base",
          "model_name": "LayoutModel",
          "model_module_version": "1.2.0",
          "state": {
            "_model_module": "@jupyter-widgets/base",
            "_model_module_version": "1.2.0",
            "_model_name": "LayoutModel",
            "_view_count": null,
            "_view_module": "@jupyter-widgets/base",
            "_view_module_version": "1.2.0",
            "_view_name": "LayoutView",
            "align_content": null,
            "align_items": null,
            "align_self": null,
            "border": null,
            "bottom": null,
            "display": null,
            "flex": null,
            "flex_flow": null,
            "grid_area": null,
            "grid_auto_columns": null,
            "grid_auto_flow": null,
            "grid_auto_rows": null,
            "grid_column": null,
            "grid_gap": null,
            "grid_row": null,
            "grid_template_areas": null,
            "grid_template_columns": null,
            "grid_template_rows": null,
            "height": null,
            "justify_content": null,
            "justify_items": null,
            "left": null,
            "margin": null,
            "max_height": null,
            "max_width": null,
            "min_height": null,
            "min_width": null,
            "object_fit": null,
            "object_position": null,
            "order": null,
            "overflow": null,
            "overflow_x": null,
            "overflow_y": null,
            "padding": null,
            "right": null,
            "top": null,
            "visibility": null,
            "width": null
          }
        },
        "6bd26ef87f3d493fbacd614a7f5d676b": {
          "model_module": "@jupyter-widgets/base",
          "model_name": "LayoutModel",
          "model_module_version": "1.2.0",
          "state": {
            "_model_module": "@jupyter-widgets/base",
            "_model_module_version": "1.2.0",
            "_model_name": "LayoutModel",
            "_view_count": null,
            "_view_module": "@jupyter-widgets/base",
            "_view_module_version": "1.2.0",
            "_view_name": "LayoutView",
            "align_content": null,
            "align_items": null,
            "align_self": null,
            "border": null,
            "bottom": null,
            "display": null,
            "flex": null,
            "flex_flow": null,
            "grid_area": null,
            "grid_auto_columns": null,
            "grid_auto_flow": null,
            "grid_auto_rows": null,
            "grid_column": null,
            "grid_gap": null,
            "grid_row": null,
            "grid_template_areas": null,
            "grid_template_columns": null,
            "grid_template_rows": null,
            "height": null,
            "justify_content": null,
            "justify_items": null,
            "left": null,
            "margin": null,
            "max_height": null,
            "max_width": null,
            "min_height": null,
            "min_width": null,
            "object_fit": null,
            "object_position": null,
            "order": null,
            "overflow": null,
            "overflow_x": null,
            "overflow_y": null,
            "padding": null,
            "right": null,
            "top": null,
            "visibility": null,
            "width": null
          }
        },
        "008ffc97f7b54e778776f45510109633": {
          "model_module": "@jupyter-widgets/controls",
          "model_name": "DescriptionStyleModel",
          "model_module_version": "1.5.0",
          "state": {
            "_model_module": "@jupyter-widgets/controls",
            "_model_module_version": "1.5.0",
            "_model_name": "DescriptionStyleModel",
            "_view_count": null,
            "_view_module": "@jupyter-widgets/base",
            "_view_module_version": "1.2.0",
            "_view_name": "StyleView",
            "description_width": ""
          }
        },
        "3946702ee20c4497a680b3725cd733fd": {
          "model_module": "@jupyter-widgets/base",
          "model_name": "LayoutModel",
          "model_module_version": "1.2.0",
          "state": {
            "_model_module": "@jupyter-widgets/base",
            "_model_module_version": "1.2.0",
            "_model_name": "LayoutModel",
            "_view_count": null,
            "_view_module": "@jupyter-widgets/base",
            "_view_module_version": "1.2.0",
            "_view_name": "LayoutView",
            "align_content": null,
            "align_items": null,
            "align_self": null,
            "border": null,
            "bottom": null,
            "display": null,
            "flex": null,
            "flex_flow": null,
            "grid_area": null,
            "grid_auto_columns": null,
            "grid_auto_flow": null,
            "grid_auto_rows": null,
            "grid_column": null,
            "grid_gap": null,
            "grid_row": null,
            "grid_template_areas": null,
            "grid_template_columns": null,
            "grid_template_rows": null,
            "height": null,
            "justify_content": null,
            "justify_items": null,
            "left": null,
            "margin": null,
            "max_height": null,
            "max_width": null,
            "min_height": null,
            "min_width": null,
            "object_fit": null,
            "object_position": null,
            "order": null,
            "overflow": null,
            "overflow_x": null,
            "overflow_y": null,
            "padding": null,
            "right": null,
            "top": null,
            "visibility": null,
            "width": null
          }
        },
        "aa1036ab519c4d5db8d3bfc185e05dfa": {
          "model_module": "@jupyter-widgets/controls",
          "model_name": "ProgressStyleModel",
          "model_module_version": "1.5.0",
          "state": {
            "_model_module": "@jupyter-widgets/controls",
            "_model_module_version": "1.5.0",
            "_model_name": "ProgressStyleModel",
            "_view_count": null,
            "_view_module": "@jupyter-widgets/base",
            "_view_module_version": "1.2.0",
            "_view_name": "StyleView",
            "bar_color": null,
            "description_width": ""
          }
        },
        "847d05f44aa646d39d9942d393a50a87": {
          "model_module": "@jupyter-widgets/base",
          "model_name": "LayoutModel",
          "model_module_version": "1.2.0",
          "state": {
            "_model_module": "@jupyter-widgets/base",
            "_model_module_version": "1.2.0",
            "_model_name": "LayoutModel",
            "_view_count": null,
            "_view_module": "@jupyter-widgets/base",
            "_view_module_version": "1.2.0",
            "_view_name": "LayoutView",
            "align_content": null,
            "align_items": null,
            "align_self": null,
            "border": null,
            "bottom": null,
            "display": null,
            "flex": null,
            "flex_flow": null,
            "grid_area": null,
            "grid_auto_columns": null,
            "grid_auto_flow": null,
            "grid_auto_rows": null,
            "grid_column": null,
            "grid_gap": null,
            "grid_row": null,
            "grid_template_areas": null,
            "grid_template_columns": null,
            "grid_template_rows": null,
            "height": null,
            "justify_content": null,
            "justify_items": null,
            "left": null,
            "margin": null,
            "max_height": null,
            "max_width": null,
            "min_height": null,
            "min_width": null,
            "object_fit": null,
            "object_position": null,
            "order": null,
            "overflow": null,
            "overflow_x": null,
            "overflow_y": null,
            "padding": null,
            "right": null,
            "top": null,
            "visibility": null,
            "width": null
          }
        },
        "9271d3bb637e46819ccf10d8278af3e0": {
          "model_module": "@jupyter-widgets/controls",
          "model_name": "DescriptionStyleModel",
          "model_module_version": "1.5.0",
          "state": {
            "_model_module": "@jupyter-widgets/controls",
            "_model_module_version": "1.5.0",
            "_model_name": "DescriptionStyleModel",
            "_view_count": null,
            "_view_module": "@jupyter-widgets/base",
            "_view_module_version": "1.2.0",
            "_view_name": "StyleView",
            "description_width": ""
          }
        },
        "904b8fdce38644119a66ebf854887865": {
          "model_module": "@jupyter-widgets/controls",
          "model_name": "HBoxModel",
          "model_module_version": "1.5.0",
          "state": {
            "_dom_classes": [],
            "_model_module": "@jupyter-widgets/controls",
            "_model_module_version": "1.5.0",
            "_model_name": "HBoxModel",
            "_view_count": null,
            "_view_module": "@jupyter-widgets/controls",
            "_view_module_version": "1.5.0",
            "_view_name": "HBoxView",
            "box_style": "",
            "children": [
              "IPY_MODEL_9505dd619ad3412dab81e55e16f3544e",
              "IPY_MODEL_e6db8c69e57648dabb7a38fc82feb74e",
              "IPY_MODEL_ceb4c6a577f94c039ad6e0897746ff40"
            ],
            "layout": "IPY_MODEL_3130b69e6d5043d4a057ba368514f6c7"
          }
        },
        "9505dd619ad3412dab81e55e16f3544e": {
          "model_module": "@jupyter-widgets/controls",
          "model_name": "HTMLModel",
          "model_module_version": "1.5.0",
          "state": {
            "_dom_classes": [],
            "_model_module": "@jupyter-widgets/controls",
            "_model_module_version": "1.5.0",
            "_model_name": "HTMLModel",
            "_view_count": null,
            "_view_module": "@jupyter-widgets/controls",
            "_view_module_version": "1.5.0",
            "_view_name": "HTMLView",
            "description": "",
            "description_tooltip": null,
            "layout": "IPY_MODEL_e4332ca5a7794375b9b04ca43bdd2f12",
            "placeholder": "​",
            "style": "IPY_MODEL_4e3c848e666a4e05a6ac4da3c29761a6",
            "value": "Generating train split: 100%"
          }
        },
        "e6db8c69e57648dabb7a38fc82feb74e": {
          "model_module": "@jupyter-widgets/controls",
          "model_name": "FloatProgressModel",
          "model_module_version": "1.5.0",
          "state": {
            "_dom_classes": [],
            "_model_module": "@jupyter-widgets/controls",
            "_model_module_version": "1.5.0",
            "_model_name": "FloatProgressModel",
            "_view_count": null,
            "_view_module": "@jupyter-widgets/controls",
            "_view_module_version": "1.5.0",
            "_view_name": "ProgressView",
            "bar_style": "success",
            "description": "",
            "description_tooltip": null,
            "layout": "IPY_MODEL_b331456dd30642c2aeda437e59c4ee67",
            "max": 40,
            "min": 0,
            "orientation": "horizontal",
            "style": "IPY_MODEL_f3ac168ab2a648a5908ecf555b339e19",
            "value": 40
          }
        },
        "ceb4c6a577f94c039ad6e0897746ff40": {
          "model_module": "@jupyter-widgets/controls",
          "model_name": "HTMLModel",
          "model_module_version": "1.5.0",
          "state": {
            "_dom_classes": [],
            "_model_module": "@jupyter-widgets/controls",
            "_model_module_version": "1.5.0",
            "_model_name": "HTMLModel",
            "_view_count": null,
            "_view_module": "@jupyter-widgets/controls",
            "_view_module_version": "1.5.0",
            "_view_name": "HTMLView",
            "description": "",
            "description_tooltip": null,
            "layout": "IPY_MODEL_53a3fabc16db4fe7ac75bc34644f0dd2",
            "placeholder": "​",
            "style": "IPY_MODEL_39e61b82d6084aee99493c7a1d1e0cbb",
            "value": " 40/40 [00:00&lt;00:00, 163.82 examples/s]"
          }
        },
        "3130b69e6d5043d4a057ba368514f6c7": {
          "model_module": "@jupyter-widgets/base",
          "model_name": "LayoutModel",
          "model_module_version": "1.2.0",
          "state": {
            "_model_module": "@jupyter-widgets/base",
            "_model_module_version": "1.2.0",
            "_model_name": "LayoutModel",
            "_view_count": null,
            "_view_module": "@jupyter-widgets/base",
            "_view_module_version": "1.2.0",
            "_view_name": "LayoutView",
            "align_content": null,
            "align_items": null,
            "align_self": null,
            "border": null,
            "bottom": null,
            "display": null,
            "flex": null,
            "flex_flow": null,
            "grid_area": null,
            "grid_auto_columns": null,
            "grid_auto_flow": null,
            "grid_auto_rows": null,
            "grid_column": null,
            "grid_gap": null,
            "grid_row": null,
            "grid_template_areas": null,
            "grid_template_columns": null,
            "grid_template_rows": null,
            "height": null,
            "justify_content": null,
            "justify_items": null,
            "left": null,
            "margin": null,
            "max_height": null,
            "max_width": null,
            "min_height": null,
            "min_width": null,
            "object_fit": null,
            "object_position": null,
            "order": null,
            "overflow": null,
            "overflow_x": null,
            "overflow_y": null,
            "padding": null,
            "right": null,
            "top": null,
            "visibility": null,
            "width": null
          }
        },
        "e4332ca5a7794375b9b04ca43bdd2f12": {
          "model_module": "@jupyter-widgets/base",
          "model_name": "LayoutModel",
          "model_module_version": "1.2.0",
          "state": {
            "_model_module": "@jupyter-widgets/base",
            "_model_module_version": "1.2.0",
            "_model_name": "LayoutModel",
            "_view_count": null,
            "_view_module": "@jupyter-widgets/base",
            "_view_module_version": "1.2.0",
            "_view_name": "LayoutView",
            "align_content": null,
            "align_items": null,
            "align_self": null,
            "border": null,
            "bottom": null,
            "display": null,
            "flex": null,
            "flex_flow": null,
            "grid_area": null,
            "grid_auto_columns": null,
            "grid_auto_flow": null,
            "grid_auto_rows": null,
            "grid_column": null,
            "grid_gap": null,
            "grid_row": null,
            "grid_template_areas": null,
            "grid_template_columns": null,
            "grid_template_rows": null,
            "height": null,
            "justify_content": null,
            "justify_items": null,
            "left": null,
            "margin": null,
            "max_height": null,
            "max_width": null,
            "min_height": null,
            "min_width": null,
            "object_fit": null,
            "object_position": null,
            "order": null,
            "overflow": null,
            "overflow_x": null,
            "overflow_y": null,
            "padding": null,
            "right": null,
            "top": null,
            "visibility": null,
            "width": null
          }
        },
        "4e3c848e666a4e05a6ac4da3c29761a6": {
          "model_module": "@jupyter-widgets/controls",
          "model_name": "DescriptionStyleModel",
          "model_module_version": "1.5.0",
          "state": {
            "_model_module": "@jupyter-widgets/controls",
            "_model_module_version": "1.5.0",
            "_model_name": "DescriptionStyleModel",
            "_view_count": null,
            "_view_module": "@jupyter-widgets/base",
            "_view_module_version": "1.2.0",
            "_view_name": "StyleView",
            "description_width": ""
          }
        },
        "b331456dd30642c2aeda437e59c4ee67": {
          "model_module": "@jupyter-widgets/base",
          "model_name": "LayoutModel",
          "model_module_version": "1.2.0",
          "state": {
            "_model_module": "@jupyter-widgets/base",
            "_model_module_version": "1.2.0",
            "_model_name": "LayoutModel",
            "_view_count": null,
            "_view_module": "@jupyter-widgets/base",
            "_view_module_version": "1.2.0",
            "_view_name": "LayoutView",
            "align_content": null,
            "align_items": null,
            "align_self": null,
            "border": null,
            "bottom": null,
            "display": null,
            "flex": null,
            "flex_flow": null,
            "grid_area": null,
            "grid_auto_columns": null,
            "grid_auto_flow": null,
            "grid_auto_rows": null,
            "grid_column": null,
            "grid_gap": null,
            "grid_row": null,
            "grid_template_areas": null,
            "grid_template_columns": null,
            "grid_template_rows": null,
            "height": null,
            "justify_content": null,
            "justify_items": null,
            "left": null,
            "margin": null,
            "max_height": null,
            "max_width": null,
            "min_height": null,
            "min_width": null,
            "object_fit": null,
            "object_position": null,
            "order": null,
            "overflow": null,
            "overflow_x": null,
            "overflow_y": null,
            "padding": null,
            "right": null,
            "top": null,
            "visibility": null,
            "width": null
          }
        },
        "f3ac168ab2a648a5908ecf555b339e19": {
          "model_module": "@jupyter-widgets/controls",
          "model_name": "ProgressStyleModel",
          "model_module_version": "1.5.0",
          "state": {
            "_model_module": "@jupyter-widgets/controls",
            "_model_module_version": "1.5.0",
            "_model_name": "ProgressStyleModel",
            "_view_count": null,
            "_view_module": "@jupyter-widgets/base",
            "_view_module_version": "1.2.0",
            "_view_name": "StyleView",
            "bar_color": null,
            "description_width": ""
          }
        },
        "53a3fabc16db4fe7ac75bc34644f0dd2": {
          "model_module": "@jupyter-widgets/base",
          "model_name": "LayoutModel",
          "model_module_version": "1.2.0",
          "state": {
            "_model_module": "@jupyter-widgets/base",
            "_model_module_version": "1.2.0",
            "_model_name": "LayoutModel",
            "_view_count": null,
            "_view_module": "@jupyter-widgets/base",
            "_view_module_version": "1.2.0",
            "_view_name": "LayoutView",
            "align_content": null,
            "align_items": null,
            "align_self": null,
            "border": null,
            "bottom": null,
            "display": null,
            "flex": null,
            "flex_flow": null,
            "grid_area": null,
            "grid_auto_columns": null,
            "grid_auto_flow": null,
            "grid_auto_rows": null,
            "grid_column": null,
            "grid_gap": null,
            "grid_row": null,
            "grid_template_areas": null,
            "grid_template_columns": null,
            "grid_template_rows": null,
            "height": null,
            "justify_content": null,
            "justify_items": null,
            "left": null,
            "margin": null,
            "max_height": null,
            "max_width": null,
            "min_height": null,
            "min_width": null,
            "object_fit": null,
            "object_position": null,
            "order": null,
            "overflow": null,
            "overflow_x": null,
            "overflow_y": null,
            "padding": null,
            "right": null,
            "top": null,
            "visibility": null,
            "width": null
          }
        },
        "39e61b82d6084aee99493c7a1d1e0cbb": {
          "model_module": "@jupyter-widgets/controls",
          "model_name": "DescriptionStyleModel",
          "model_module_version": "1.5.0",
          "state": {
            "_model_module": "@jupyter-widgets/controls",
            "_model_module_version": "1.5.0",
            "_model_name": "DescriptionStyleModel",
            "_view_count": null,
            "_view_module": "@jupyter-widgets/base",
            "_view_module_version": "1.2.0",
            "_view_name": "StyleView",
            "description_width": ""
          }
        },
        "85cc7fcc5c83417c8ad81521f8d36677": {
          "model_module": "@jupyter-widgets/controls",
          "model_name": "HBoxModel",
          "model_module_version": "1.5.0",
          "state": {
            "_dom_classes": [],
            "_model_module": "@jupyter-widgets/controls",
            "_model_module_version": "1.5.0",
            "_model_name": "HBoxModel",
            "_view_count": null,
            "_view_module": "@jupyter-widgets/controls",
            "_view_module_version": "1.5.0",
            "_view_name": "HBoxView",
            "box_style": "",
            "children": [
              "IPY_MODEL_80f3d9a5b8814fc2850c68c7855ebd41",
              "IPY_MODEL_4b5c1eb2f6ee4e908427aca515e7e8ee",
              "IPY_MODEL_1c7dfd3923e440b4a6fcf427c8e580bc"
            ],
            "layout": "IPY_MODEL_0c907e65fb1b4092861d679431e1b002"
          }
        },
        "80f3d9a5b8814fc2850c68c7855ebd41": {
          "model_module": "@jupyter-widgets/controls",
          "model_name": "HTMLModel",
          "model_module_version": "1.5.0",
          "state": {
            "_dom_classes": [],
            "_model_module": "@jupyter-widgets/controls",
            "_model_module_version": "1.5.0",
            "_model_name": "HTMLModel",
            "_view_count": null,
            "_view_module": "@jupyter-widgets/controls",
            "_view_module_version": "1.5.0",
            "_view_name": "HTMLView",
            "description": "",
            "description_tooltip": null,
            "layout": "IPY_MODEL_2690c69a3789478dad96c3f4ec7a65be",
            "placeholder": "​",
            "style": "IPY_MODEL_c746bd9d8b7c41e08cf32d0e609e8624",
            "value": "Map: 100%"
          }
        },
        "4b5c1eb2f6ee4e908427aca515e7e8ee": {
          "model_module": "@jupyter-widgets/controls",
          "model_name": "FloatProgressModel",
          "model_module_version": "1.5.0",
          "state": {
            "_dom_classes": [],
            "_model_module": "@jupyter-widgets/controls",
            "_model_module_version": "1.5.0",
            "_model_name": "FloatProgressModel",
            "_view_count": null,
            "_view_module": "@jupyter-widgets/controls",
            "_view_module_version": "1.5.0",
            "_view_name": "ProgressView",
            "bar_style": "success",
            "description": "",
            "description_tooltip": null,
            "layout": "IPY_MODEL_bbdec1900d6f45c59a718e9e8eeba114",
            "max": 3,
            "min": 0,
            "orientation": "horizontal",
            "style": "IPY_MODEL_d42268723caa4e4aa7d15c280b168081",
            "value": 3
          }
        },
        "1c7dfd3923e440b4a6fcf427c8e580bc": {
          "model_module": "@jupyter-widgets/controls",
          "model_name": "HTMLModel",
          "model_module_version": "1.5.0",
          "state": {
            "_dom_classes": [],
            "_model_module": "@jupyter-widgets/controls",
            "_model_module_version": "1.5.0",
            "_model_name": "HTMLModel",
            "_view_count": null,
            "_view_module": "@jupyter-widgets/controls",
            "_view_module_version": "1.5.0",
            "_view_name": "HTMLView",
            "description": "",
            "description_tooltip": null,
            "layout": "IPY_MODEL_f793127e04c34d3d8c692e64ec8a560f",
            "placeholder": "​",
            "style": "IPY_MODEL_be1d9b8a78b34949b6fc2188b2b7efd6",
            "value": " 3/3 [00:00&lt;00:00, 74.10 examples/s]"
          }
        },
        "0c907e65fb1b4092861d679431e1b002": {
          "model_module": "@jupyter-widgets/base",
          "model_name": "LayoutModel",
          "model_module_version": "1.2.0",
          "state": {
            "_model_module": "@jupyter-widgets/base",
            "_model_module_version": "1.2.0",
            "_model_name": "LayoutModel",
            "_view_count": null,
            "_view_module": "@jupyter-widgets/base",
            "_view_module_version": "1.2.0",
            "_view_name": "LayoutView",
            "align_content": null,
            "align_items": null,
            "align_self": null,
            "border": null,
            "bottom": null,
            "display": null,
            "flex": null,
            "flex_flow": null,
            "grid_area": null,
            "grid_auto_columns": null,
            "grid_auto_flow": null,
            "grid_auto_rows": null,
            "grid_column": null,
            "grid_gap": null,
            "grid_row": null,
            "grid_template_areas": null,
            "grid_template_columns": null,
            "grid_template_rows": null,
            "height": null,
            "justify_content": null,
            "justify_items": null,
            "left": null,
            "margin": null,
            "max_height": null,
            "max_width": null,
            "min_height": null,
            "min_width": null,
            "object_fit": null,
            "object_position": null,
            "order": null,
            "overflow": null,
            "overflow_x": null,
            "overflow_y": null,
            "padding": null,
            "right": null,
            "top": null,
            "visibility": null,
            "width": null
          }
        },
        "2690c69a3789478dad96c3f4ec7a65be": {
          "model_module": "@jupyter-widgets/base",
          "model_name": "LayoutModel",
          "model_module_version": "1.2.0",
          "state": {
            "_model_module": "@jupyter-widgets/base",
            "_model_module_version": "1.2.0",
            "_model_name": "LayoutModel",
            "_view_count": null,
            "_view_module": "@jupyter-widgets/base",
            "_view_module_version": "1.2.0",
            "_view_name": "LayoutView",
            "align_content": null,
            "align_items": null,
            "align_self": null,
            "border": null,
            "bottom": null,
            "display": null,
            "flex": null,
            "flex_flow": null,
            "grid_area": null,
            "grid_auto_columns": null,
            "grid_auto_flow": null,
            "grid_auto_rows": null,
            "grid_column": null,
            "grid_gap": null,
            "grid_row": null,
            "grid_template_areas": null,
            "grid_template_columns": null,
            "grid_template_rows": null,
            "height": null,
            "justify_content": null,
            "justify_items": null,
            "left": null,
            "margin": null,
            "max_height": null,
            "max_width": null,
            "min_height": null,
            "min_width": null,
            "object_fit": null,
            "object_position": null,
            "order": null,
            "overflow": null,
            "overflow_x": null,
            "overflow_y": null,
            "padding": null,
            "right": null,
            "top": null,
            "visibility": null,
            "width": null
          }
        },
        "c746bd9d8b7c41e08cf32d0e609e8624": {
          "model_module": "@jupyter-widgets/controls",
          "model_name": "DescriptionStyleModel",
          "model_module_version": "1.5.0",
          "state": {
            "_model_module": "@jupyter-widgets/controls",
            "_model_module_version": "1.5.0",
            "_model_name": "DescriptionStyleModel",
            "_view_count": null,
            "_view_module": "@jupyter-widgets/base",
            "_view_module_version": "1.2.0",
            "_view_name": "StyleView",
            "description_width": ""
          }
        },
        "bbdec1900d6f45c59a718e9e8eeba114": {
          "model_module": "@jupyter-widgets/base",
          "model_name": "LayoutModel",
          "model_module_version": "1.2.0",
          "state": {
            "_model_module": "@jupyter-widgets/base",
            "_model_module_version": "1.2.0",
            "_model_name": "LayoutModel",
            "_view_count": null,
            "_view_module": "@jupyter-widgets/base",
            "_view_module_version": "1.2.0",
            "_view_name": "LayoutView",
            "align_content": null,
            "align_items": null,
            "align_self": null,
            "border": null,
            "bottom": null,
            "display": null,
            "flex": null,
            "flex_flow": null,
            "grid_area": null,
            "grid_auto_columns": null,
            "grid_auto_flow": null,
            "grid_auto_rows": null,
            "grid_column": null,
            "grid_gap": null,
            "grid_row": null,
            "grid_template_areas": null,
            "grid_template_columns": null,
            "grid_template_rows": null,
            "height": null,
            "justify_content": null,
            "justify_items": null,
            "left": null,
            "margin": null,
            "max_height": null,
            "max_width": null,
            "min_height": null,
            "min_width": null,
            "object_fit": null,
            "object_position": null,
            "order": null,
            "overflow": null,
            "overflow_x": null,
            "overflow_y": null,
            "padding": null,
            "right": null,
            "top": null,
            "visibility": null,
            "width": null
          }
        },
        "d42268723caa4e4aa7d15c280b168081": {
          "model_module": "@jupyter-widgets/controls",
          "model_name": "ProgressStyleModel",
          "model_module_version": "1.5.0",
          "state": {
            "_model_module": "@jupyter-widgets/controls",
            "_model_module_version": "1.5.0",
            "_model_name": "ProgressStyleModel",
            "_view_count": null,
            "_view_module": "@jupyter-widgets/base",
            "_view_module_version": "1.2.0",
            "_view_name": "StyleView",
            "bar_color": null,
            "description_width": ""
          }
        },
        "f793127e04c34d3d8c692e64ec8a560f": {
          "model_module": "@jupyter-widgets/base",
          "model_name": "LayoutModel",
          "model_module_version": "1.2.0",
          "state": {
            "_model_module": "@jupyter-widgets/base",
            "_model_module_version": "1.2.0",
            "_model_name": "LayoutModel",
            "_view_count": null,
            "_view_module": "@jupyter-widgets/base",
            "_view_module_version": "1.2.0",
            "_view_name": "LayoutView",
            "align_content": null,
            "align_items": null,
            "align_self": null,
            "border": null,
            "bottom": null,
            "display": null,
            "flex": null,
            "flex_flow": null,
            "grid_area": null,
            "grid_auto_columns": null,
            "grid_auto_flow": null,
            "grid_auto_rows": null,
            "grid_column": null,
            "grid_gap": null,
            "grid_row": null,
            "grid_template_areas": null,
            "grid_template_columns": null,
            "grid_template_rows": null,
            "height": null,
            "justify_content": null,
            "justify_items": null,
            "left": null,
            "margin": null,
            "max_height": null,
            "max_width": null,
            "min_height": null,
            "min_width": null,
            "object_fit": null,
            "object_position": null,
            "order": null,
            "overflow": null,
            "overflow_x": null,
            "overflow_y": null,
            "padding": null,
            "right": null,
            "top": null,
            "visibility": null,
            "width": null
          }
        },
        "be1d9b8a78b34949b6fc2188b2b7efd6": {
          "model_module": "@jupyter-widgets/controls",
          "model_name": "DescriptionStyleModel",
          "model_module_version": "1.5.0",
          "state": {
            "_model_module": "@jupyter-widgets/controls",
            "_model_module_version": "1.5.0",
            "_model_name": "DescriptionStyleModel",
            "_view_count": null,
            "_view_module": "@jupyter-widgets/base",
            "_view_module_version": "1.2.0",
            "_view_name": "StyleView",
            "description_width": ""
          }
        },
        "0d7333bf537842358c3cfdac9638bd5e": {
          "model_module": "@jupyter-widgets/controls",
          "model_name": "HBoxModel",
          "model_module_version": "1.5.0",
          "state": {
            "_dom_classes": [],
            "_model_module": "@jupyter-widgets/controls",
            "_model_module_version": "1.5.0",
            "_model_name": "HBoxModel",
            "_view_count": null,
            "_view_module": "@jupyter-widgets/controls",
            "_view_module_version": "1.5.0",
            "_view_name": "HBoxView",
            "box_style": "",
            "children": [
              "IPY_MODEL_4d0658dd2d674c42bd458634e8e8e912",
              "IPY_MODEL_fc3564f01036438fa011c0973443ed20",
              "IPY_MODEL_b731cff643b9458b8c204dfce4cfebda"
            ],
            "layout": "IPY_MODEL_93954cd8db3e4aba991d04554eb1ec56"
          }
        },
        "4d0658dd2d674c42bd458634e8e8e912": {
          "model_module": "@jupyter-widgets/controls",
          "model_name": "HTMLModel",
          "model_module_version": "1.5.0",
          "state": {
            "_dom_classes": [],
            "_model_module": "@jupyter-widgets/controls",
            "_model_module_version": "1.5.0",
            "_model_name": "HTMLModel",
            "_view_count": null,
            "_view_module": "@jupyter-widgets/controls",
            "_view_module_version": "1.5.0",
            "_view_name": "HTMLView",
            "description": "",
            "description_tooltip": null,
            "layout": "IPY_MODEL_34dc8f4ea15c4cd98670a45d31bb7fad",
            "placeholder": "​",
            "style": "IPY_MODEL_c24951cdb4a44cb6bbef2bdf8459e3e3",
            "value": "Map: 100%"
          }
        },
        "fc3564f01036438fa011c0973443ed20": {
          "model_module": "@jupyter-widgets/controls",
          "model_name": "FloatProgressModel",
          "model_module_version": "1.5.0",
          "state": {
            "_dom_classes": [],
            "_model_module": "@jupyter-widgets/controls",
            "_model_module_version": "1.5.0",
            "_model_name": "FloatProgressModel",
            "_view_count": null,
            "_view_module": "@jupyter-widgets/controls",
            "_view_module_version": "1.5.0",
            "_view_name": "ProgressView",
            "bar_style": "success",
            "description": "",
            "description_tooltip": null,
            "layout": "IPY_MODEL_9820bc7d846a46608566bf33f9a3653e",
            "max": 8,
            "min": 0,
            "orientation": "horizontal",
            "style": "IPY_MODEL_eef4cf99f7254e3abf95053ce6310196",
            "value": 8
          }
        },
        "b731cff643b9458b8c204dfce4cfebda": {
          "model_module": "@jupyter-widgets/controls",
          "model_name": "HTMLModel",
          "model_module_version": "1.5.0",
          "state": {
            "_dom_classes": [],
            "_model_module": "@jupyter-widgets/controls",
            "_model_module_version": "1.5.0",
            "_model_name": "HTMLModel",
            "_view_count": null,
            "_view_module": "@jupyter-widgets/controls",
            "_view_module_version": "1.5.0",
            "_view_name": "HTMLView",
            "description": "",
            "description_tooltip": null,
            "layout": "IPY_MODEL_29bcf294ea914f97b3720aef1808580b",
            "placeholder": "​",
            "style": "IPY_MODEL_6431a9944c1f450fa8215ac8e2f8b6f3",
            "value": " 8/8 [00:00&lt;00:00, 171.84 examples/s]"
          }
        },
        "93954cd8db3e4aba991d04554eb1ec56": {
          "model_module": "@jupyter-widgets/base",
          "model_name": "LayoutModel",
          "model_module_version": "1.2.0",
          "state": {
            "_model_module": "@jupyter-widgets/base",
            "_model_module_version": "1.2.0",
            "_model_name": "LayoutModel",
            "_view_count": null,
            "_view_module": "@jupyter-widgets/base",
            "_view_module_version": "1.2.0",
            "_view_name": "LayoutView",
            "align_content": null,
            "align_items": null,
            "align_self": null,
            "border": null,
            "bottom": null,
            "display": null,
            "flex": null,
            "flex_flow": null,
            "grid_area": null,
            "grid_auto_columns": null,
            "grid_auto_flow": null,
            "grid_auto_rows": null,
            "grid_column": null,
            "grid_gap": null,
            "grid_row": null,
            "grid_template_areas": null,
            "grid_template_columns": null,
            "grid_template_rows": null,
            "height": null,
            "justify_content": null,
            "justify_items": null,
            "left": null,
            "margin": null,
            "max_height": null,
            "max_width": null,
            "min_height": null,
            "min_width": null,
            "object_fit": null,
            "object_position": null,
            "order": null,
            "overflow": null,
            "overflow_x": null,
            "overflow_y": null,
            "padding": null,
            "right": null,
            "top": null,
            "visibility": null,
            "width": null
          }
        },
        "34dc8f4ea15c4cd98670a45d31bb7fad": {
          "model_module": "@jupyter-widgets/base",
          "model_name": "LayoutModel",
          "model_module_version": "1.2.0",
          "state": {
            "_model_module": "@jupyter-widgets/base",
            "_model_module_version": "1.2.0",
            "_model_name": "LayoutModel",
            "_view_count": null,
            "_view_module": "@jupyter-widgets/base",
            "_view_module_version": "1.2.0",
            "_view_name": "LayoutView",
            "align_content": null,
            "align_items": null,
            "align_self": null,
            "border": null,
            "bottom": null,
            "display": null,
            "flex": null,
            "flex_flow": null,
            "grid_area": null,
            "grid_auto_columns": null,
            "grid_auto_flow": null,
            "grid_auto_rows": null,
            "grid_column": null,
            "grid_gap": null,
            "grid_row": null,
            "grid_template_areas": null,
            "grid_template_columns": null,
            "grid_template_rows": null,
            "height": null,
            "justify_content": null,
            "justify_items": null,
            "left": null,
            "margin": null,
            "max_height": null,
            "max_width": null,
            "min_height": null,
            "min_width": null,
            "object_fit": null,
            "object_position": null,
            "order": null,
            "overflow": null,
            "overflow_x": null,
            "overflow_y": null,
            "padding": null,
            "right": null,
            "top": null,
            "visibility": null,
            "width": null
          }
        },
        "c24951cdb4a44cb6bbef2bdf8459e3e3": {
          "model_module": "@jupyter-widgets/controls",
          "model_name": "DescriptionStyleModel",
          "model_module_version": "1.5.0",
          "state": {
            "_model_module": "@jupyter-widgets/controls",
            "_model_module_version": "1.5.0",
            "_model_name": "DescriptionStyleModel",
            "_view_count": null,
            "_view_module": "@jupyter-widgets/base",
            "_view_module_version": "1.2.0",
            "_view_name": "StyleView",
            "description_width": ""
          }
        },
        "9820bc7d846a46608566bf33f9a3653e": {
          "model_module": "@jupyter-widgets/base",
          "model_name": "LayoutModel",
          "model_module_version": "1.2.0",
          "state": {
            "_model_module": "@jupyter-widgets/base",
            "_model_module_version": "1.2.0",
            "_model_name": "LayoutModel",
            "_view_count": null,
            "_view_module": "@jupyter-widgets/base",
            "_view_module_version": "1.2.0",
            "_view_name": "LayoutView",
            "align_content": null,
            "align_items": null,
            "align_self": null,
            "border": null,
            "bottom": null,
            "display": null,
            "flex": null,
            "flex_flow": null,
            "grid_area": null,
            "grid_auto_columns": null,
            "grid_auto_flow": null,
            "grid_auto_rows": null,
            "grid_column": null,
            "grid_gap": null,
            "grid_row": null,
            "grid_template_areas": null,
            "grid_template_columns": null,
            "grid_template_rows": null,
            "height": null,
            "justify_content": null,
            "justify_items": null,
            "left": null,
            "margin": null,
            "max_height": null,
            "max_width": null,
            "min_height": null,
            "min_width": null,
            "object_fit": null,
            "object_position": null,
            "order": null,
            "overflow": null,
            "overflow_x": null,
            "overflow_y": null,
            "padding": null,
            "right": null,
            "top": null,
            "visibility": null,
            "width": null
          }
        },
        "eef4cf99f7254e3abf95053ce6310196": {
          "model_module": "@jupyter-widgets/controls",
          "model_name": "ProgressStyleModel",
          "model_module_version": "1.5.0",
          "state": {
            "_model_module": "@jupyter-widgets/controls",
            "_model_module_version": "1.5.0",
            "_model_name": "ProgressStyleModel",
            "_view_count": null,
            "_view_module": "@jupyter-widgets/base",
            "_view_module_version": "1.2.0",
            "_view_name": "StyleView",
            "bar_color": null,
            "description_width": ""
          }
        },
        "29bcf294ea914f97b3720aef1808580b": {
          "model_module": "@jupyter-widgets/base",
          "model_name": "LayoutModel",
          "model_module_version": "1.2.0",
          "state": {
            "_model_module": "@jupyter-widgets/base",
            "_model_module_version": "1.2.0",
            "_model_name": "LayoutModel",
            "_view_count": null,
            "_view_module": "@jupyter-widgets/base",
            "_view_module_version": "1.2.0",
            "_view_name": "LayoutView",
            "align_content": null,
            "align_items": null,
            "align_self": null,
            "border": null,
            "bottom": null,
            "display": null,
            "flex": null,
            "flex_flow": null,
            "grid_area": null,
            "grid_auto_columns": null,
            "grid_auto_flow": null,
            "grid_auto_rows": null,
            "grid_column": null,
            "grid_gap": null,
            "grid_row": null,
            "grid_template_areas": null,
            "grid_template_columns": null,
            "grid_template_rows": null,
            "height": null,
            "justify_content": null,
            "justify_items": null,
            "left": null,
            "margin": null,
            "max_height": null,
            "max_width": null,
            "min_height": null,
            "min_width": null,
            "object_fit": null,
            "object_position": null,
            "order": null,
            "overflow": null,
            "overflow_x": null,
            "overflow_y": null,
            "padding": null,
            "right": null,
            "top": null,
            "visibility": null,
            "width": null
          }
        },
        "6431a9944c1f450fa8215ac8e2f8b6f3": {
          "model_module": "@jupyter-widgets/controls",
          "model_name": "DescriptionStyleModel",
          "model_module_version": "1.5.0",
          "state": {
            "_model_module": "@jupyter-widgets/controls",
            "_model_module_version": "1.5.0",
            "_model_name": "DescriptionStyleModel",
            "_view_count": null,
            "_view_module": "@jupyter-widgets/base",
            "_view_module_version": "1.2.0",
            "_view_name": "StyleView",
            "description_width": ""
          }
        }
      }
    }
  },
  "cells": [
    {
      "cell_type": "markdown",
      "source": [
        "**README**: Before you run the notebook, ensure you have the following files in the Current Working Directory\n",
        "\n",
        "- checkpoint.json\n",
        "\n",
        "- corrected_proofs.zip\n",
        "\n",
        "- proof_outcomes_by_model.json"
      ],
      "metadata": {
        "id": "r-mmTry_Bk7W"
      }
    },
    {
      "cell_type": "markdown",
      "source": [
        "# Initialization"
      ],
      "metadata": {
        "id": "JK5z1EBqtNaJ"
      }
    },
    {
      "cell_type": "code",
      "source": [
        "!pip install trl peft transformers torch_ema"
      ],
      "metadata": {
        "colab": {
          "base_uri": "https://localhost:8080/"
        },
        "id": "fy3m_i_ZJixn",
        "outputId": "99b95063-834d-47f0-e8d9-187febab2862"
      },
      "execution_count": null,
      "outputs": [
        {
          "output_type": "stream",
          "name": "stdout",
          "text": [
            "Collecting trl\n",
            "  Downloading trl-0.22.2-py3-none-any.whl.metadata (11 kB)\n",
            "Requirement already satisfied: peft in /usr/local/lib/python3.12/dist-packages (0.17.1)\n",
            "Requirement already satisfied: transformers in /usr/local/lib/python3.12/dist-packages (4.56.0)\n",
            "Collecting torch_ema\n",
            "  Downloading torch_ema-0.3-py3-none-any.whl.metadata (415 bytes)\n",
            "Requirement already satisfied: accelerate>=1.4.0 in /usr/local/lib/python3.12/dist-packages (from trl) (1.10.1)\n",
            "Requirement already satisfied: datasets>=3.0.0 in /usr/local/lib/python3.12/dist-packages (from trl) (4.0.0)\n",
            "Requirement already satisfied: numpy>=1.17 in /usr/local/lib/python3.12/dist-packages (from peft) (2.0.2)\n",
            "Requirement already satisfied: packaging>=20.0 in /usr/local/lib/python3.12/dist-packages (from peft) (25.0)\n",
            "Requirement already satisfied: psutil in /usr/local/lib/python3.12/dist-packages (from peft) (5.9.5)\n",
            "Requirement already satisfied: pyyaml in /usr/local/lib/python3.12/dist-packages (from peft) (6.0.2)\n",
            "Requirement already satisfied: torch>=1.13.0 in /usr/local/lib/python3.12/dist-packages (from peft) (2.8.0+cu126)\n",
            "Requirement already satisfied: tqdm in /usr/local/lib/python3.12/dist-packages (from peft) (4.67.1)\n",
            "Requirement already satisfied: safetensors in /usr/local/lib/python3.12/dist-packages (from peft) (0.6.2)\n",
            "Requirement already satisfied: huggingface_hub>=0.25.0 in /usr/local/lib/python3.12/dist-packages (from peft) (0.34.4)\n",
            "Requirement already satisfied: filelock in /usr/local/lib/python3.12/dist-packages (from transformers) (3.19.1)\n",
            "Requirement already satisfied: regex!=2019.12.17 in /usr/local/lib/python3.12/dist-packages (from transformers) (2024.11.6)\n",
            "Requirement already satisfied: requests in /usr/local/lib/python3.12/dist-packages (from transformers) (2.32.4)\n",
            "Requirement already satisfied: tokenizers<=0.23.0,>=0.22.0 in /usr/local/lib/python3.12/dist-packages (from transformers) (0.22.0)\n",
            "Requirement already satisfied: pyarrow>=15.0.0 in /usr/local/lib/python3.12/dist-packages (from datasets>=3.0.0->trl) (18.1.0)\n",
            "Requirement already satisfied: dill<0.3.9,>=0.3.0 in /usr/local/lib/python3.12/dist-packages (from datasets>=3.0.0->trl) (0.3.8)\n",
            "Requirement already satisfied: pandas in /usr/local/lib/python3.12/dist-packages (from datasets>=3.0.0->trl) (2.2.2)\n",
            "Requirement already satisfied: xxhash in /usr/local/lib/python3.12/dist-packages (from datasets>=3.0.0->trl) (3.5.0)\n",
            "Requirement already satisfied: multiprocess<0.70.17 in /usr/local/lib/python3.12/dist-packages (from datasets>=3.0.0->trl) (0.70.16)\n",
            "Requirement already satisfied: fsspec<=2025.3.0,>=2023.1.0 in /usr/local/lib/python3.12/dist-packages (from fsspec[http]<=2025.3.0,>=2023.1.0->datasets>=3.0.0->trl) (2025.3.0)\n",
            "Requirement already satisfied: typing-extensions>=3.7.4.3 in /usr/local/lib/python3.12/dist-packages (from huggingface_hub>=0.25.0->peft) (4.15.0)\n",
            "Requirement already satisfied: hf-xet<2.0.0,>=1.1.3 in /usr/local/lib/python3.12/dist-packages (from huggingface_hub>=0.25.0->peft) (1.1.9)\n",
            "Requirement already satisfied: charset_normalizer<4,>=2 in /usr/local/lib/python3.12/dist-packages (from requests->transformers) (3.4.3)\n",
            "Requirement already satisfied: idna<4,>=2.5 in /usr/local/lib/python3.12/dist-packages (from requests->transformers) (3.10)\n",
            "Requirement already satisfied: urllib3<3,>=1.21.1 in /usr/local/lib/python3.12/dist-packages (from requests->transformers) (2.5.0)\n",
            "Requirement already satisfied: certifi>=2017.4.17 in /usr/local/lib/python3.12/dist-packages (from requests->transformers) (2025.8.3)\n",
            "Requirement already satisfied: setuptools in /usr/local/lib/python3.12/dist-packages (from torch>=1.13.0->peft) (75.2.0)\n",
            "Requirement already satisfied: sympy>=1.13.3 in /usr/local/lib/python3.12/dist-packages (from torch>=1.13.0->peft) (1.13.3)\n",
            "Requirement already satisfied: networkx in /usr/local/lib/python3.12/dist-packages (from torch>=1.13.0->peft) (3.5)\n",
            "Requirement already satisfied: jinja2 in /usr/local/lib/python3.12/dist-packages (from torch>=1.13.0->peft) (3.1.6)\n",
            "Requirement already satisfied: nvidia-cuda-nvrtc-cu12==12.6.77 in /usr/local/lib/python3.12/dist-packages (from torch>=1.13.0->peft) (12.6.77)\n",
            "Requirement already satisfied: nvidia-cuda-runtime-cu12==12.6.77 in /usr/local/lib/python3.12/dist-packages (from torch>=1.13.0->peft) (12.6.77)\n",
            "Requirement already satisfied: nvidia-cuda-cupti-cu12==12.6.80 in /usr/local/lib/python3.12/dist-packages (from torch>=1.13.0->peft) (12.6.80)\n",
            "Requirement already satisfied: nvidia-cudnn-cu12==9.10.2.21 in /usr/local/lib/python3.12/dist-packages (from torch>=1.13.0->peft) (9.10.2.21)\n",
            "Requirement already satisfied: nvidia-cublas-cu12==12.6.4.1 in /usr/local/lib/python3.12/dist-packages (from torch>=1.13.0->peft) (12.6.4.1)\n",
            "Requirement already satisfied: nvidia-cufft-cu12==11.3.0.4 in /usr/local/lib/python3.12/dist-packages (from torch>=1.13.0->peft) (11.3.0.4)\n",
            "Requirement already satisfied: nvidia-curand-cu12==10.3.7.77 in /usr/local/lib/python3.12/dist-packages (from torch>=1.13.0->peft) (10.3.7.77)\n",
            "Requirement already satisfied: nvidia-cusolver-cu12==11.7.1.2 in /usr/local/lib/python3.12/dist-packages (from torch>=1.13.0->peft) (11.7.1.2)\n",
            "Requirement already satisfied: nvidia-cusparse-cu12==12.5.4.2 in /usr/local/lib/python3.12/dist-packages (from torch>=1.13.0->peft) (12.5.4.2)\n",
            "Requirement already satisfied: nvidia-cusparselt-cu12==0.7.1 in /usr/local/lib/python3.12/dist-packages (from torch>=1.13.0->peft) (0.7.1)\n",
            "Requirement already satisfied: nvidia-nccl-cu12==2.27.3 in /usr/local/lib/python3.12/dist-packages (from torch>=1.13.0->peft) (2.27.3)\n",
            "Requirement already satisfied: nvidia-nvtx-cu12==12.6.77 in /usr/local/lib/python3.12/dist-packages (from torch>=1.13.0->peft) (12.6.77)\n",
            "Requirement already satisfied: nvidia-nvjitlink-cu12==12.6.85 in /usr/local/lib/python3.12/dist-packages (from torch>=1.13.0->peft) (12.6.85)\n",
            "Requirement already satisfied: nvidia-cufile-cu12==1.11.1.6 in /usr/local/lib/python3.12/dist-packages (from torch>=1.13.0->peft) (1.11.1.6)\n",
            "Requirement already satisfied: triton==3.4.0 in /usr/local/lib/python3.12/dist-packages (from torch>=1.13.0->peft) (3.4.0)\n",
            "Requirement already satisfied: aiohttp!=4.0.0a0,!=4.0.0a1 in /usr/local/lib/python3.12/dist-packages (from fsspec[http]<=2025.3.0,>=2023.1.0->datasets>=3.0.0->trl) (3.12.15)\n",
            "Requirement already satisfied: mpmath<1.4,>=1.1.0 in /usr/local/lib/python3.12/dist-packages (from sympy>=1.13.3->torch>=1.13.0->peft) (1.3.0)\n",
            "Requirement already satisfied: MarkupSafe>=2.0 in /usr/local/lib/python3.12/dist-packages (from jinja2->torch>=1.13.0->peft) (3.0.2)\n",
            "Requirement already satisfied: python-dateutil>=2.8.2 in /usr/local/lib/python3.12/dist-packages (from pandas->datasets>=3.0.0->trl) (2.9.0.post0)\n",
            "Requirement already satisfied: pytz>=2020.1 in /usr/local/lib/python3.12/dist-packages (from pandas->datasets>=3.0.0->trl) (2025.2)\n",
            "Requirement already satisfied: tzdata>=2022.7 in /usr/local/lib/python3.12/dist-packages (from pandas->datasets>=3.0.0->trl) (2025.2)\n",
            "Requirement already satisfied: aiohappyeyeballs>=2.5.0 in /usr/local/lib/python3.12/dist-packages (from aiohttp!=4.0.0a0,!=4.0.0a1->fsspec[http]<=2025.3.0,>=2023.1.0->datasets>=3.0.0->trl) (2.6.1)\n",
            "Requirement already satisfied: aiosignal>=1.4.0 in /usr/local/lib/python3.12/dist-packages (from aiohttp!=4.0.0a0,!=4.0.0a1->fsspec[http]<=2025.3.0,>=2023.1.0->datasets>=3.0.0->trl) (1.4.0)\n",
            "Requirement already satisfied: attrs>=17.3.0 in /usr/local/lib/python3.12/dist-packages (from aiohttp!=4.0.0a0,!=4.0.0a1->fsspec[http]<=2025.3.0,>=2023.1.0->datasets>=3.0.0->trl) (25.3.0)\n",
            "Requirement already satisfied: frozenlist>=1.1.1 in /usr/local/lib/python3.12/dist-packages (from aiohttp!=4.0.0a0,!=4.0.0a1->fsspec[http]<=2025.3.0,>=2023.1.0->datasets>=3.0.0->trl) (1.7.0)\n",
            "Requirement already satisfied: multidict<7.0,>=4.5 in /usr/local/lib/python3.12/dist-packages (from aiohttp!=4.0.0a0,!=4.0.0a1->fsspec[http]<=2025.3.0,>=2023.1.0->datasets>=3.0.0->trl) (6.6.4)\n",
            "Requirement already satisfied: propcache>=0.2.0 in /usr/local/lib/python3.12/dist-packages (from aiohttp!=4.0.0a0,!=4.0.0a1->fsspec[http]<=2025.3.0,>=2023.1.0->datasets>=3.0.0->trl) (0.3.2)\n",
            "Requirement already satisfied: yarl<2.0,>=1.17.0 in /usr/local/lib/python3.12/dist-packages (from aiohttp!=4.0.0a0,!=4.0.0a1->fsspec[http]<=2025.3.0,>=2023.1.0->datasets>=3.0.0->trl) (1.20.1)\n",
            "Requirement already satisfied: six>=1.5 in /usr/local/lib/python3.12/dist-packages (from python-dateutil>=2.8.2->pandas->datasets>=3.0.0->trl) (1.17.0)\n",
            "Downloading trl-0.22.2-py3-none-any.whl (544 kB)\n",
            "\u001b[2K   \u001b[90m━━━━━━━━━━━━━━━━━━━━━━━━━━━━━━━━━━━━━━━━\u001b[0m \u001b[32m544.8/544.8 kB\u001b[0m \u001b[31m9.1 MB/s\u001b[0m eta \u001b[36m0:00:00\u001b[0m\n",
            "\u001b[?25hDownloading torch_ema-0.3-py3-none-any.whl (5.5 kB)\n",
            "Installing collected packages: torch_ema, trl\n",
            "Successfully installed torch_ema-0.3 trl-0.22.2\n"
          ]
        }
      ]
    },
    {
      "cell_type": "code",
      "execution_count": null,
      "metadata": {
        "colab": {
          "base_uri": "https://localhost:8080/"
        },
        "id": "AfpBiUpTnJla",
        "outputId": "733d31b9-04b8-4229-a6ab-8a3ebf37add3"
      },
      "outputs": [
        {
          "output_type": "stream",
          "name": "stdout",
          "text": [
            "['AI-MO_Kimina-Prover-Preview-Distill-7B', 'ByteDance-Seed_BFS-Prover', 'Goedel-LM_Goedel-Prover-SFT', 'deepseek-ai_DeepSeek-Prover-V1', 'deepseek-ai_DeepSeek-Prover-V1.5-RL', 'deepseek-ai_DeepSeek-Prover-V2-7B', 'kfdong_STP_model_Lean', 'stoney0062_Leanabell-Prover-DS-SFT', 'wellecks_llmstep-mathlib4-pythia2.8b']\n",
            "[[1 0 0 1 1 1 0 1 1 0 1 1 0 1 1 1 0 1 0 0 0 0 0 1 0 1 1 0 0 1 0 0 1 1 1 1\n",
            "  0 0 0 0]\n",
            " [1 0 0 1 1 1 0 0 1 0 1 0 0 1 1 0 0 1 0 0 1 0 0 1 0 0 0 1 0 0 0 0 1 1 1 1\n",
            "  0 0 1 0]\n",
            " [1 1 0 1 1 1 0 0 1 1 1 1 0 1 1 1 0 1 0 0 0 0 0 1 0 1 0 1 0 1 0 1 1 1 1 0\n",
            "  0 0 1 0]\n",
            " [1 0 0 1 1 1 0 0 1 0 1 1 0 1 1 1 0 1 0 0 1 0 0 1 0 0 0 1 0 1 0 0 1 1 1 1\n",
            "  0 0 1 0]\n",
            " [1 0 0 0 1 1 0 1 1 0 1 1 0 1 1 1 0 1 0 0 1 0 0 1 0 0 0 1 0 1 0 0 0 1 1 1\n",
            "  0 0 1 1]\n",
            " [1 1 1 0 1 1 0 1 1 1 1 1 0 0 1 1 0 1 0 0 0 1 0 1 0 1 0 1 0 1 0 0 1 1 1 1\n",
            "  0 0 1 1]\n",
            " [1 1 0 1 1 1 0 1 1 1 1 1 0 1 1 1 0 1 0 0 1 1 0 1 0 0 0 1 0 1 0 0 1 1 1 1\n",
            "  0 0 1 0]\n",
            " [1 1 0 0 1 1 0 0 1 1 1 0 0 0 0 0 0 0 0 0 1 0 0 0 0 0 0 0 0 0 0 0 0 0 0 0\n",
            "  0 0 0 0]\n",
            " [0 0 0 0 0 0 0 0 0 0 1 0 0 1 0 0 0 0 0 0 0 0 0 0 0 0 0 0 0 0 0 0 0 0 0 1\n",
            "  0 0 0 0]]\n"
          ]
        }
      ],
      "source": [
        "import numpy as np\n",
        "import pandas as pd\n",
        "import statsmodels.api as sm\n",
        "import json\n",
        "\n",
        "model_dict = json.load(open(\"checkpoint.json\"))\n",
        "\n",
        "def parse_success_dict(model_dict: dict):\n",
        "    \"\"\"\n",
        "    model_dict: mapping solver name -> binary string like \"100101...\" indicating\n",
        "    which problems that solver solves.\n",
        "    Returns solver names list and success_matrix of shape (n_solvers, n_problems).\n",
        "    \"\"\"\n",
        "    solvers = list(model_dict.keys())\n",
        "    # assume all strings are same length and consist of '0'/'1'\n",
        "    success_matrix = np.array(\n",
        "        [[int(c) for c in model_dict[name]] for name in solvers],\n",
        "        dtype=int\n",
        "    )  # shape: (n_solvers, n_problems)\n",
        "    return solvers, success_matrix\n",
        "\n",
        "solvers, success_matrix = parse_success_dict(model_dict['model_dict'])\n",
        "print(solvers)\n",
        "print(success_matrix)"
      ]
    },
    {
      "cell_type": "markdown",
      "source": [
        "# Code Exploration"
      ],
      "metadata": {
        "id": "_wL-8j3eszyk"
      }
    },
    {
      "cell_type": "code",
      "source": [
        "type(solvers)"
      ],
      "metadata": {
        "colab": {
          "base_uri": "https://localhost:8080/"
        },
        "id": "QSnDCiFWp0mv",
        "outputId": "392cf1e1-3821-4f54-f932-a3f46f7b68ce"
      },
      "execution_count": null,
      "outputs": [
        {
          "output_type": "execute_result",
          "data": {
            "text/plain": [
              "list"
            ]
          },
          "metadata": {},
          "execution_count": 3
        }
      ]
    },
    {
      "cell_type": "code",
      "source": [
        "arr = np.array(solvers)\n",
        "condition = arr == 'deepseek-ai_DeepSeek-Prover-V2-7B'\n",
        "np.where(condition)[0]"
      ],
      "metadata": {
        "colab": {
          "base_uri": "https://localhost:8080/"
        },
        "id": "FcVwGUh5nbBZ",
        "outputId": "1d3fda16-6157-4f10-9c18-b2e830dd7693"
      },
      "execution_count": null,
      "outputs": [
        {
          "output_type": "execute_result",
          "data": {
            "text/plain": [
              "array([5])"
            ]
          },
          "metadata": {},
          "execution_count": 4
        }
      ]
    },
    {
      "cell_type": "code",
      "source": [
        "print(success_matrix[5])"
      ],
      "metadata": {
        "colab": {
          "base_uri": "https://localhost:8080/"
        },
        "id": "WSc5SUckn0pE",
        "outputId": "4a0d1ba5-4ea3-4f14-ad3c-9ed146b1c160"
      },
      "execution_count": null,
      "outputs": [
        {
          "output_type": "stream",
          "name": "stdout",
          "text": [
            "[1 1 1 0 1 1 0 1 1 1 1 1 0 0 1 1 0 1 0 0 0 1 0 1 0 1 0 1 0 1 0 0 1 1 1 1 0\n",
            " 0 1 1]\n"
          ]
        }
      ]
    },
    {
      "cell_type": "code",
      "source": [
        "ones = np.ones(success_matrix.shape[1], dtype=int)\n",
        "ones"
      ],
      "metadata": {
        "colab": {
          "base_uri": "https://localhost:8080/"
        },
        "id": "gLzk4r8ntSGR",
        "outputId": "2697192d-fe9f-445e-f7a7-312edf5e2d0e"
      },
      "execution_count": null,
      "outputs": [
        {
          "output_type": "execute_result",
          "data": {
            "text/plain": [
              "array([1, 1, 1, 1, 1, 1, 1, 1, 1, 1, 1, 1, 1, 1, 1, 1, 1, 1, 1, 1, 1, 1,\n",
              "       1, 1, 1, 1, 1, 1, 1, 1, 1, 1, 1, 1, 1, 1, 1, 1, 1, 1])"
            ]
          },
          "metadata": {},
          "execution_count": 6
        }
      ]
    },
    {
      "cell_type": "code",
      "source": [
        "success_matrix[0]"
      ],
      "metadata": {
        "colab": {
          "base_uri": "https://localhost:8080/"
        },
        "id": "BN4nD6nBuDQ6",
        "outputId": "86d3d76a-2d3c-406c-8772-692200d393b1"
      },
      "execution_count": null,
      "outputs": [
        {
          "output_type": "execute_result",
          "data": {
            "text/plain": [
              "array([1, 0, 0, 1, 1, 1, 0, 1, 1, 0, 1, 1, 0, 1, 1, 1, 0, 1, 0, 0, 0, 0,\n",
              "       0, 1, 0, 1, 1, 0, 0, 1, 0, 0, 1, 1, 1, 1, 0, 0, 0, 0])"
            ]
          },
          "metadata": {},
          "execution_count": 7
        }
      ]
    },
    {
      "cell_type": "code",
      "source": [
        "np.sum(success_matrix[0])"
      ],
      "metadata": {
        "colab": {
          "base_uri": "https://localhost:8080/"
        },
        "id": "dqGpX7mquUT7",
        "outputId": "e7535f38-1803-42b7-8e8b-01ae68f2c66d"
      },
      "execution_count": null,
      "outputs": [
        {
          "output_type": "execute_result",
          "data": {
            "text/plain": [
              "np.int64(20)"
            ]
          },
          "metadata": {},
          "execution_count": 8
        }
      ]
    },
    {
      "cell_type": "code",
      "source": [
        "comb = success_matrix[0] | ones\n",
        "comb"
      ],
      "metadata": {
        "colab": {
          "base_uri": "https://localhost:8080/"
        },
        "id": "g9NhzLCgvvTY",
        "outputId": "33df7397-c222-491b-b92b-e66548751002"
      },
      "execution_count": null,
      "outputs": [
        {
          "output_type": "execute_result",
          "data": {
            "text/plain": [
              "array([1, 1, 1, 1, 1, 1, 1, 1, 1, 1, 1, 1, 1, 1, 1, 1, 1, 1, 1, 1, 1, 1,\n",
              "       1, 1, 1, 1, 1, 1, 1, 1, 1, 1, 1, 1, 1, 1, 1, 1, 1, 1])"
            ]
          },
          "metadata": {},
          "execution_count": 9
        }
      ]
    },
    {
      "cell_type": "code",
      "source": [
        "a = np.where(success_matrix[0] == 1); a"
      ],
      "metadata": {
        "colab": {
          "base_uri": "https://localhost:8080/"
        },
        "id": "BH9oEDwvuW5h",
        "outputId": "c8b9d799-3563-46e7-a7fc-5c6077553510"
      },
      "execution_count": null,
      "outputs": [
        {
          "output_type": "execute_result",
          "data": {
            "text/plain": [
              "(array([ 0,  3,  4,  5,  7,  8, 10, 11, 13, 14, 15, 17, 23, 25, 26, 29, 32,\n",
              "        33, 34, 35]),)"
            ]
          },
          "metadata": {},
          "execution_count": 10
        }
      ]
    },
    {
      "cell_type": "code",
      "source": [
        "b = np.where(success_matrix[1] == 0); b"
      ],
      "metadata": {
        "colab": {
          "base_uri": "https://localhost:8080/"
        },
        "id": "y0pY6VPZ7xTq",
        "outputId": "02f9c2f6-f7d4-49e7-e44b-e66ebeb61b59"
      },
      "execution_count": null,
      "outputs": [
        {
          "output_type": "execute_result",
          "data": {
            "text/plain": [
              "(array([ 1,  2,  6,  7,  9, 11, 12, 15, 16, 18, 19, 21, 22, 24, 25, 26, 28,\n",
              "        29, 30, 31, 36, 37, 39]),)"
            ]
          },
          "metadata": {},
          "execution_count": 11
        }
      ]
    },
    {
      "cell_type": "code",
      "source": [
        "np.size(np.intersect1d(a, b))"
      ],
      "metadata": {
        "colab": {
          "base_uri": "https://localhost:8080/"
        },
        "id": "pNxGqcR477c-",
        "outputId": "1f082ab7-0440-4237-e03a-be96879f51bd"
      },
      "execution_count": null,
      "outputs": [
        {
          "output_type": "execute_result",
          "data": {
            "text/plain": [
              "6"
            ]
          },
          "metadata": {},
          "execution_count": 12
        }
      ]
    },
    {
      "cell_type": "markdown",
      "source": [
        "# Greedy Selection"
      ],
      "metadata": {
        "id": "geIVoOsntKnV"
      }
    },
    {
      "cell_type": "code",
      "source": [
        "success_arr = np.zeros(success_matrix.shape[1], dtype=int)\n",
        "ensemble = []\n",
        "contribution: dict[str, int] = {}\n",
        "for i, solver in enumerate(solvers):\n",
        "  success_arr_ = success_arr | success_matrix[i]\n",
        "  diff = np.sum(success_arr_) - np.sum(success_arr)\n",
        "  if diff > 0:\n",
        "    contribution[solver] = diff\n",
        "    success_arr = success_arr_\n",
        "    ensemble.append(solver)"
      ],
      "metadata": {
        "id": "tJ8kHmmVumTT"
      },
      "execution_count": null,
      "outputs": []
    },
    {
      "cell_type": "code",
      "source": [
        "ensemble, len(ensemble)"
      ],
      "metadata": {
        "colab": {
          "base_uri": "https://localhost:8080/"
        },
        "id": "xzGfx2g3vPR5",
        "outputId": "a2332c93-0cd1-4d5f-cd4f-4b865dc09e27"
      },
      "execution_count": null,
      "outputs": [
        {
          "output_type": "execute_result",
          "data": {
            "text/plain": [
              "(['AI-MO_Kimina-Prover-Preview-Distill-7B',\n",
              "  'ByteDance-Seed_BFS-Prover',\n",
              "  'Goedel-LM_Goedel-Prover-SFT',\n",
              "  'deepseek-ai_DeepSeek-Prover-V1.5-RL',\n",
              "  'deepseek-ai_DeepSeek-Prover-V2-7B'],\n",
              " 5)"
            ]
          },
          "metadata": {},
          "execution_count": 14
        }
      ]
    },
    {
      "cell_type": "code",
      "source": [
        "contribution.items()"
      ],
      "metadata": {
        "colab": {
          "base_uri": "https://localhost:8080/"
        },
        "id": "YvjQQxI2ARYg",
        "outputId": "b9801476-20d2-45cf-952a-42d5aa7a4b0d"
      },
      "execution_count": null,
      "outputs": [
        {
          "output_type": "execute_result",
          "data": {
            "text/plain": [
              "dict_items([('AI-MO_Kimina-Prover-Preview-Distill-7B', np.int64(20)), ('ByteDance-Seed_BFS-Prover', np.int64(3)), ('Goedel-LM_Goedel-Prover-SFT', np.int64(3)), ('deepseek-ai_DeepSeek-Prover-V1.5-RL', np.int64(1)), ('deepseek-ai_DeepSeek-Prover-V2-7B', np.int64(2))])"
            ]
          },
          "metadata": {},
          "execution_count": 15
        }
      ]
    },
    {
      "cell_type": "markdown",
      "source": [
        "# Find Marginal Contribution"
      ],
      "metadata": {
        "id": "9OcCVE0F5WeT"
      }
    },
    {
      "cell_type": "code",
      "source": [
        "import itertools\n",
        "\n",
        "list(itertools.combinations(range(len(solvers)), 2))"
      ],
      "metadata": {
        "colab": {
          "base_uri": "https://localhost:8080/"
        },
        "id": "92AsB_P4G60R",
        "outputId": "ad8e446c-5689-4a57-c073-d72e6c2dfaf9"
      },
      "execution_count": null,
      "outputs": [
        {
          "output_type": "execute_result",
          "data": {
            "text/plain": [
              "[(0, 1),\n",
              " (0, 2),\n",
              " (0, 3),\n",
              " (0, 4),\n",
              " (0, 5),\n",
              " (0, 6),\n",
              " (0, 7),\n",
              " (0, 8),\n",
              " (1, 2),\n",
              " (1, 3),\n",
              " (1, 4),\n",
              " (1, 5),\n",
              " (1, 6),\n",
              " (1, 7),\n",
              " (1, 8),\n",
              " (2, 3),\n",
              " (2, 4),\n",
              " (2, 5),\n",
              " (2, 6),\n",
              " (2, 7),\n",
              " (2, 8),\n",
              " (3, 4),\n",
              " (3, 5),\n",
              " (3, 6),\n",
              " (3, 7),\n",
              " (3, 8),\n",
              " (4, 5),\n",
              " (4, 6),\n",
              " (4, 7),\n",
              " (4, 8),\n",
              " (5, 6),\n",
              " (5, 7),\n",
              " (5, 8),\n",
              " (6, 7),\n",
              " (6, 8),\n",
              " (7, 8)]"
            ]
          },
          "metadata": {},
          "execution_count": 16
        }
      ]
    },
    {
      "cell_type": "code",
      "source": [
        "from numpy import logical_not as not_\n",
        "def not_1(arr1: np.ndarray, arr2: np.ndarray):\n",
        "  return np.sum(not_(arr1) & arr2)\n",
        "\n",
        "def not_2(arr1: np.ndarray, arr2: np.ndarray):\n",
        "  return np.sum(arr1 & not_(arr2))"
      ],
      "metadata": {
        "id": "FplA7FYfJ18O"
      },
      "execution_count": null,
      "outputs": []
    },
    {
      "cell_type": "code",
      "source": [
        "sucess_matrix_ = success_matrix[:, :15]"
      ],
      "metadata": {
        "id": "R7u72Q8kIgXc"
      },
      "execution_count": null,
      "outputs": []
    },
    {
      "cell_type": "code",
      "source": [
        "res = []\n",
        "for pair in itertools.combinations(range(len(solvers)), 2):\n",
        "    n_1 = not_1(sucess_matrix_[pair[0]], sucess_matrix_[pair[1]])\n",
        "    n_2 = not_2(sucess_matrix_[pair[0]], sucess_matrix_[pair[1]])\n",
        "\n",
        "    # base score (mean of n1 and n2)\n",
        "    base_score = np.mean([n_1, n_2])\n",
        "\n",
        "    # penalty for being far apart\n",
        "    penalty = abs(n_1 - n_2)   # or (n_1 - n_2)**2\n",
        "\n",
        "    # final score (subtract penalty, weight it if needed)\n",
        "    score = base_score - 0.5 * penalty\n",
        "\n",
        "    res.append(((pair[0], pair[1]),\n",
        "                (solvers[pair[0]], solvers[pair[1]]),\n",
        "                score,\n",
        "                (n_1, n_2)))\n",
        "\n",
        "best = sorted(res, key=lambda x: x[2], reverse=True)[0]\n",
        "best"
      ],
      "metadata": {
        "colab": {
          "base_uri": "https://localhost:8080/"
        },
        "id": "JZvhv6aHHQql",
        "outputId": "2941891d-2957-4c44-eb45-952fc8e7c6a8"
      },
      "execution_count": null,
      "outputs": [
        {
          "output_type": "execute_result",
          "data": {
            "text/plain": [
              "((0, 5),\n",
              " ('AI-MO_Kimina-Prover-Preview-Distill-7B',\n",
              "  'deepseek-ai_DeepSeek-Prover-V2-7B'),\n",
              " np.float64(2.0),\n",
              " (np.int64(3), np.int64(2)))"
            ]
          },
          "metadata": {},
          "execution_count": 19
        }
      ]
    },
    {
      "cell_type": "code",
      "source": [
        "import itertools\n",
        "import numpy as np\n",
        "import random\n",
        "\n",
        "# ---- Scoring Functions ----\n",
        "def pair_score_subset(i, j, cols, success_matrix, solvers):\n",
        "    # restrict to the chosen subset of columns\n",
        "    sub_i = success_matrix[i, cols]\n",
        "    sub_j = success_matrix[j, cols]\n",
        "\n",
        "    n1 = not_1(sub_i, sub_j)\n",
        "    n2 = not_2(sub_i, sub_j)\n",
        "    base = np.mean([n1, n2])\n",
        "    penalty = abs(n1 - n2)\n",
        "    return base - 0.45 * penalty\n",
        "\n",
        "\n",
        "# ---- Greedy Search ----\n",
        "def greedy_column_subset(success_matrix, solvers, k=15):\n",
        "    cols = []\n",
        "    best_pair = None\n",
        "    best_score = -np.inf\n",
        "\n",
        "    while len(cols) < k:\n",
        "        best_add, best_score_add = None, -np.inf\n",
        "        for c in range(success_matrix.shape[1]):\n",
        "            if c in cols:\n",
        "                continue\n",
        "            candidate_cols = cols + [c]\n",
        "            # find best pair for this candidate subset\n",
        "            for i, j in itertools.combinations(range(len(solvers)), 2):\n",
        "                score = pair_score_subset(i, j, candidate_cols, success_matrix, solvers)\n",
        "                if score > best_score_add:\n",
        "                    best_score_add = score\n",
        "                    best_pair = (i, j)\n",
        "                    best_add = c\n",
        "        if best_add is None:\n",
        "            break\n",
        "        cols.append(best_add)\n",
        "        best_score = best_score_add\n",
        "\n",
        "    return cols, best_pair, best_score\n",
        "\n",
        "\n",
        "cols_greedy, pair_greedy, score_greedy = greedy_column_subset(success_matrix, solvers, k=15)\n",
        "print(\"Greedy best subset of cols:\", cols_greedy)\n",
        "print(\"Best solver pair:\", pair_greedy)\n",
        "print(\"Score:\", score_greedy)\n",
        "# rand_best, rand_score = random_search(sucess_matrix_, solvers, k=15, iters=10000)\n",
        "# print(\"Random search best subset:\", rand_best)\n",
        "# print(\"Random search score:\", rand_score)"
      ],
      "metadata": {
        "colab": {
          "base_uri": "https://localhost:8080/"
        },
        "id": "XMrF1PY5TNHJ",
        "outputId": "52e7545d-34c4-469b-e550-8015e1f52da0"
      },
      "execution_count": null,
      "outputs": [
        {
          "output_type": "stream",
          "name": "stdout",
          "text": [
            "Greedy best subset of cols: [0, 13, 1, 35, 4, 5, 8, 9, 20, 3, 7, 11, 14, 15, 17]\n",
            "Best solver pair: (0, 7)\n",
            "Score: 3.25\n"
          ]
        }
      ]
    },
    {
      "cell_type": "code",
      "source": [
        "sucess_matrix_ = success_matrix[:, cols_greedy]"
      ],
      "metadata": {
        "id": "xd6BnTtxU42_"
      },
      "execution_count": null,
      "outputs": []
    },
    {
      "cell_type": "code",
      "source": [
        "not_1(sucess_matrix_[pair_greedy[0]], sucess_matrix_[pair_greedy[1]])"
      ],
      "metadata": {
        "colab": {
          "base_uri": "https://localhost:8080/"
        },
        "id": "vQ9W6HQhU719",
        "outputId": "647f54c4-0b60-42b5-c809-44a6a4ec149b"
      },
      "execution_count": null,
      "outputs": [
        {
          "output_type": "execute_result",
          "data": {
            "text/plain": [
              "np.int64(3)"
            ]
          },
          "metadata": {},
          "execution_count": 22
        }
      ]
    },
    {
      "cell_type": "code",
      "source": [
        "a = np.where(sucess_matrix_[pair_greedy[0]]==1)\n",
        "b = np.where(sucess_matrix_[pair_greedy[1]]==0)\n",
        "solver_2_training_ex = np.intersect1d(a,b)\n",
        "solver_2_training_ex"
      ],
      "metadata": {
        "colab": {
          "base_uri": "https://localhost:8080/"
        },
        "id": "rsm40WqSke2p",
        "outputId": "ebc812cc-3d8a-4ec7-e378-dba0cbed7038"
      },
      "execution_count": null,
      "outputs": [
        {
          "output_type": "execute_result",
          "data": {
            "text/plain": [
              "array([ 1,  3,  9, 10, 11, 12, 13, 14])"
            ]
          },
          "metadata": {},
          "execution_count": 23
        }
      ]
    },
    {
      "cell_type": "code",
      "source": [
        "a_ = np.where(sucess_matrix_[pair_greedy[0]]==0)\n",
        "b_ = np.where(sucess_matrix_[pair_greedy[1]]==1)\n",
        "solver_1_training_ex = np.intersect1d(a_, b_)\n",
        "solver_1_training_ex"
      ],
      "metadata": {
        "colab": {
          "base_uri": "https://localhost:8080/"
        },
        "id": "4BC1ctUhlM5Y",
        "outputId": "0637f31d-8f1b-4a93-d85d-b24aaf1e9c23"
      },
      "execution_count": null,
      "outputs": [
        {
          "output_type": "execute_result",
          "data": {
            "text/plain": [
              "array([2, 7, 8])"
            ]
          },
          "metadata": {},
          "execution_count": 24
        }
      ]
    },
    {
      "cell_type": "code",
      "source": [
        "selected_training_problems_solver_1 = [cols_greedy[i] for i in solver_1_training_ex]\n",
        "selected_training_problems_solver_2 = [cols_greedy[i] for i in solver_2_training_ex]\n",
        "selected_training_problems_solver_1, selected_training_problems_solver_2"
      ],
      "metadata": {
        "colab": {
          "base_uri": "https://localhost:8080/"
        },
        "id": "NUGo_t22_teu",
        "outputId": "4941d479-2da8-4e4f-902f-3f9bf0633fd2"
      },
      "execution_count": null,
      "outputs": [
        {
          "output_type": "execute_result",
          "data": {
            "text/plain": [
              "([1, 9, 20], [13, 35, 3, 7, 11, 14, 15, 17])"
            ]
          },
          "metadata": {},
          "execution_count": 25
        }
      ]
    },
    {
      "cell_type": "code",
      "source": [
        "not_2(sucess_matrix_[pair_greedy[0]], sucess_matrix_[pair_greedy[1]])"
      ],
      "metadata": {
        "colab": {
          "base_uri": "https://localhost:8080/"
        },
        "id": "mytsW88OVBhs",
        "outputId": "76795f16-624a-45fb-e56f-0068eee2f7c9"
      },
      "execution_count": null,
      "outputs": [
        {
          "output_type": "execute_result",
          "data": {
            "text/plain": [
              "np.int64(8)"
            ]
          },
          "metadata": {},
          "execution_count": 26
        }
      ]
    },
    {
      "cell_type": "code",
      "source": [
        "np.sum(sucess_matrix_[pair_greedy[0]] | sucess_matrix_[pair_greedy[1]])"
      ],
      "metadata": {
        "colab": {
          "base_uri": "https://localhost:8080/"
        },
        "id": "7TypiMvYN0Dz",
        "outputId": "dcc84ad3-8985-4a2c-cc4d-b7084fbcea86"
      },
      "execution_count": null,
      "outputs": [
        {
          "output_type": "execute_result",
          "data": {
            "text/plain": [
              "np.int64(15)"
            ]
          },
          "metadata": {},
          "execution_count": 27
        }
      ]
    },
    {
      "cell_type": "code",
      "source": [
        "solvers[pair_greedy[0]], solvers[pair_greedy[1]]"
      ],
      "metadata": {
        "colab": {
          "base_uri": "https://localhost:8080/"
        },
        "id": "r4cQfYQuVw7e",
        "outputId": "48e4e1ea-c245-4915-89f8-50f3e6a85005"
      },
      "execution_count": null,
      "outputs": [
        {
          "output_type": "execute_result",
          "data": {
            "text/plain": [
              "('AI-MO_Kimina-Prover-Preview-Distill-7B',\n",
              " 'stoney0062_Leanabell-Prover-DS-SFT')"
            ]
          },
          "metadata": {},
          "execution_count": 28
        }
      ]
    },
    {
      "cell_type": "code",
      "source": [
        "all_cols = set(range(success_matrix.shape[1]))\n",
        "cols_not_greedy = list(all_cols - set(cols_greedy))\n",
        "\n",
        "success_matrix_other = success_matrix[:, cols_not_greedy]"
      ],
      "metadata": {
        "id": "QRrn_D13V2X9"
      },
      "execution_count": null,
      "outputs": []
    },
    {
      "cell_type": "code",
      "source": [
        "np.sum(success_matrix_other[pair_greedy[0]] | success_matrix_other[pair_greedy[1]])"
      ],
      "metadata": {
        "colab": {
          "base_uri": "https://localhost:8080/"
        },
        "id": "9H47RikpWILQ",
        "outputId": "9b77b415-a382-49ee-a1b5-ce7ef22af959"
      },
      "execution_count": null,
      "outputs": [
        {
          "output_type": "execute_result",
          "data": {
            "text/plain": [
              "np.int64(8)"
            ]
          },
          "metadata": {},
          "execution_count": 30
        }
      ]
    },
    {
      "cell_type": "code",
      "source": [
        "np.shape(success_matrix_other)"
      ],
      "metadata": {
        "colab": {
          "base_uri": "https://localhost:8080/"
        },
        "id": "yPDIqfxPWNtG",
        "outputId": "be95a9bc-34c8-4a5a-978a-786b736622c7"
      },
      "execution_count": null,
      "outputs": [
        {
          "output_type": "execute_result",
          "data": {
            "text/plain": [
              "(9, 25)"
            ]
          },
          "metadata": {},
          "execution_count": 31
        }
      ]
    },
    {
      "cell_type": "markdown",
      "source": [
        "# Peer Fine-Tuning (PFT)\n",
        "Implementation of $L_{prove}$"
      ],
      "metadata": {
        "id": "CXrun_arqZAd"
      }
    },
    {
      "cell_type": "markdown",
      "source": [
        "## Datasets"
      ],
      "metadata": {
        "id": "lOgBnQ9G65OI"
      }
    },
    {
      "cell_type": "code",
      "source": [
        "from datasets import load_dataset\n",
        "\n",
        "ds = load_dataset('script-jpg/minif2f_test-first40-in-fix')"
      ],
      "metadata": {
        "colab": {
          "base_uri": "https://localhost:8080/",
          "referenced_widgets": [
            "f40ccef3fbd74619ab8e56dce456571f",
            "910f00342d9546bab8c74997bcd89677",
            "d951a103398a48a296b60d28b8d099d7",
            "712820ee41534926891ded9fd4a7f02a",
            "7dd751d8dd0a48379215babb2d8be1aa",
            "f7391fa5f5e8474ebf6bff190bef1039",
            "43208ad69d814392b0f59b83a752efde",
            "8516d14248d24e19b6cf147be4c429a3",
            "cb02b938bdf246799b8c4adbc0da99ef",
            "04cbee2954804dec8255a1d19d79c855",
            "f3d2802ab0cb47118a995c6d96827525",
            "2337137d239c4ca3bd14f9a8eff500f9",
            "a0cb9b1bccb84d57a20b33b054afdcbe",
            "1c1d5e63a73f496895d29f1c48763394",
            "c28c91ffe6bd4443bcffb295c2dba806",
            "3b2a9712638241ea8eb77ab6b7c49f2e",
            "6bd26ef87f3d493fbacd614a7f5d676b",
            "008ffc97f7b54e778776f45510109633",
            "3946702ee20c4497a680b3725cd733fd",
            "aa1036ab519c4d5db8d3bfc185e05dfa",
            "847d05f44aa646d39d9942d393a50a87",
            "9271d3bb637e46819ccf10d8278af3e0",
            "904b8fdce38644119a66ebf854887865",
            "9505dd619ad3412dab81e55e16f3544e",
            "e6db8c69e57648dabb7a38fc82feb74e",
            "ceb4c6a577f94c039ad6e0897746ff40",
            "3130b69e6d5043d4a057ba368514f6c7",
            "e4332ca5a7794375b9b04ca43bdd2f12",
            "4e3c848e666a4e05a6ac4da3c29761a6",
            "b331456dd30642c2aeda437e59c4ee67",
            "f3ac168ab2a648a5908ecf555b339e19",
            "53a3fabc16db4fe7ac75bc34644f0dd2",
            "39e61b82d6084aee99493c7a1d1e0cbb"
          ]
        },
        "id": "ID-n6OKZqcJc",
        "outputId": "9f85ac39-429c-493d-f547-66afa40e16cc"
      },
      "execution_count": null,
      "outputs": [
        {
          "output_type": "stream",
          "name": "stderr",
          "text": [
            "/usr/local/lib/python3.12/dist-packages/huggingface_hub/utils/_auth.py:94: UserWarning: \n",
            "The secret `HF_TOKEN` does not exist in your Colab secrets.\n",
            "To authenticate with the Hugging Face Hub, create a token in your settings tab (https://huggingface.co/settings/tokens), set it as secret in your Google Colab and restart your session.\n",
            "You will be able to reuse this secret in all of your notebooks.\n",
            "Please note that authentication is recommended but still optional to access public models or datasets.\n",
            "  warnings.warn(\n"
          ]
        },
        {
          "output_type": "display_data",
          "data": {
            "text/plain": [
              "README.md:   0%|          | 0.00/483 [00:00<?, ?B/s]"
            ],
            "application/vnd.jupyter.widget-view+json": {
              "version_major": 2,
              "version_minor": 0,
              "model_id": "f40ccef3fbd74619ab8e56dce456571f"
            }
          },
          "metadata": {}
        },
        {
          "output_type": "stream",
          "name": "stderr",
          "text": [
            "Repo card metadata block was not found. Setting CardData to empty.\n",
            "WARNING:huggingface_hub.repocard:Repo card metadata block was not found. Setting CardData to empty.\n"
          ]
        },
        {
          "output_type": "display_data",
          "data": {
            "text/plain": [
              "data/train-00000-of-00001.parquet:   0%|          | 0.00/17.0k [00:00<?, ?B/s]"
            ],
            "application/vnd.jupyter.widget-view+json": {
              "version_major": 2,
              "version_minor": 0,
              "model_id": "2337137d239c4ca3bd14f9a8eff500f9"
            }
          },
          "metadata": {}
        },
        {
          "output_type": "display_data",
          "data": {
            "text/plain": [
              "Generating train split:   0%|          | 0/40 [00:00<?, ? examples/s]"
            ],
            "application/vnd.jupyter.widget-view+json": {
              "version_major": 2,
              "version_minor": 0,
              "model_id": "904b8fdce38644119a66ebf854887865"
            }
          },
          "metadata": {}
        }
      ]
    },
    {
      "cell_type": "code",
      "source": [
        "ds['train'][selected_training_problems_solver_1]['name']"
      ],
      "metadata": {
        "colab": {
          "base_uri": "https://localhost:8080/"
        },
        "id": "ntLPxNBfsRbQ",
        "outputId": "a7fccfcc-607e-46c2-8404-bcbf7b352200"
      },
      "execution_count": null,
      "outputs": [
        {
          "output_type": "execute_result",
          "data": {
            "text/plain": [
              "['numbertheory_4x3m7y3neq2003', 'imo_1983_p6', 'mathd_numbertheory_427']"
            ]
          },
          "metadata": {},
          "execution_count": 33
        }
      ]
    },
    {
      "cell_type": "code",
      "source": [
        "selected_training_formal_statements_solver_1 = ds['train'][selected_training_problems_solver_1]['formal_statement']\n",
        "selected_training_formal_statements_solver_1"
      ],
      "metadata": {
        "colab": {
          "base_uri": "https://localhost:8080/"
        },
        "id": "HFhTMaLtrGHb",
        "outputId": "190dc273-f916-491f-853a-1abf36352e56"
      },
      "execution_count": null,
      "outputs": [
        {
          "output_type": "execute_result",
          "data": {
            "text/plain": [
              "['import Mathlib\\nimport Aesop\\n\\nset_option maxHeartbeats 0\\n\\nopen BigOperators Real Nat Topology Rat\\n\\n/-- Show that there are no integers $x$ and $y$ such that $4x^3 - 7y^3 = 2003$.-/\\ntheorem numbertheory_4x3m7y3neq2003 (x y : ℤ) : 4 * x ^ 3 - 7 * y ^ 3 ≠ 2003 := by\\n',\n",
              " 'import Mathlib\\nimport Aesop\\n\\nset_option maxHeartbeats 0\\n\\nopen BigOperators Real Nat Topology Rat\\n\\n/-- Let $a$, $b$ and $c$ be the lengths of the sides of a triangle. Prove that\\n\\n$a^2 b(a-b) + b^2 c(b-c) + c^2 a(c-a) \\\\geq 0$.\\n\\nDetermine when equality occurs.-/\\ntheorem imo_1983_p6 (a b c : ℝ) (h₀ : 0 < a ∧ 0 < b ∧ 0 < c) (h₁ : c < a + b) (h₂ : b < a + c)\\n    (h₃ : a < b + c) : 0 ≤ a ^ 2 * b * (a - b) + b ^ 2 * c * (b - c) + c ^ 2 * a * (c - a) := by\\n',\n",
              " 'import Mathlib\\nimport Aesop\\n\\nset_option maxHeartbeats 0\\n\\nopen BigOperators Real Nat Topology Rat\\n\\n/-- If $A$ is the sum of the positive divisors of $500$, what is the sum of the distinct prime divisors of $A$? Show that it is 25.-/\\ntheorem mathd_numbertheory_427 (a : ℕ) (h₀ : a = ∑ k ∈ Nat.divisors 500, k) :\\n    (∑ k ∈ Finset.filter (fun x => Nat.Prime x) (Nat.divisors a), k) = 25 := by\\n']"
            ]
          },
          "metadata": {},
          "execution_count": 34
        }
      ]
    },
    {
      "cell_type": "code",
      "source": [
        "selected_training_formal_statements_solver_2 = ds['train'][selected_training_problems_solver_2]['formal_statement']\n",
        "selected_training_formal_statements_solver_2"
      ],
      "metadata": {
        "colab": {
          "base_uri": "https://localhost:8080/"
        },
        "id": "vKMjvgsRLnHX",
        "outputId": "3e484c43-410e-42ba-87c5-ce41bef82f19"
      },
      "execution_count": null,
      "outputs": [
        {
          "output_type": "execute_result",
          "data": {
            "text/plain": [
              "['import Mathlib\\nimport Aesop\\n\\nset_option maxHeartbeats 0\\n\\nopen BigOperators Real Nat Topology Rat\\n\\n/-- What is the ones digit of $1 \\\\cdot 3 \\\\cdot 5 \\\\cdot 7 \\\\cdot 9 \\\\cdot 11 \\\\cdot 13$? Show that it is 5.-/\\ntheorem mathd_numbertheory_299 : 1 * 3 * 5 * 7 * 9 * 11 * 13 % 10 = 5 := by\\n',\n",
              " 'import Mathlib\\nimport Aesop\\n\\nset_option maxHeartbeats 0\\n\\nopen BigOperators Real Nat Topology Rat\\n\\n/-- Expand the product $(x+1)^2 \\\\cdot x$. Show that it is x^3 + 2x^2 + x.-/\\ntheorem mathd_algebra_176 (x : ℝ) : (x + 1) ^ 2 * x = x ^ 3 + 2 * x ^ 2 + x := by\\n',\n",
              " 'import Mathlib\\nimport Aesop\\n\\nset_option maxHeartbeats 0\\n\\nopen BigOperators Real Nat Topology Rat\\n\\n/-- What is the product of all positive odd integers less than $10000$?\\n\\n$\\\\text{(A)}\\\\ \\\\dfrac{10000!}{(5000!)^2}\\\\qquad \\\\text{(B)}\\\\ \\\\dfrac{10000!}{2^{5000}}\\\\qquad\\n\\\\text{(C)}\\\\ \\\\dfrac{9999!}{2^{5000}}\\\\qquad \\\\text{(D)}\\\\ \\\\dfrac{10000!}{2^{5000} \\\\cdot 5000!}\\\\qquad\\n\\\\text{(E)}\\\\ \\\\dfrac{5000!}{2^{5000}}$ Show that it is \\\\text{(D)} \\\\dfrac{10000!}{2^{5000} \\\\cdot 5000!}.-/\\ntheorem amc12_2001_p5 :\\n    Finset.prod (Finset.filter (fun x => ¬Even x) (Finset.range 10000)) (id : ℕ → ℕ) =\\n      10000! / (2 ^ 5000 * 5000!) := by\\n',\n",
              " 'import Mathlib\\nimport Aesop\\n\\nset_option maxHeartbeats 0\\n\\nopen BigOperators Real Nat Topology Rat\\n\\n/-- Suppose that $h(x)=f^{-1}(x)$. If $h(2)=10$, $h(10)=1$ and $h(1)=2$, what is $f(f(10))$? Show that it is 1.-/\\ntheorem mathd_algebra_209 (σ : Equiv ℝ ℝ) (h₀ : σ.2 2 = 10) (h₁ : σ.2 10 = 1) (h₂ : σ.2 1 = 2) :\\n    σ.1 (σ.1 10) = 1 := by\\n',\n",
              " 'import Mathlib\\nimport Aesop\\n\\nset_option maxHeartbeats 0\\n\\nopen BigOperators Real Nat Topology Rat\\n\\n/-- If $2x = 5y$ and $7y = 10z$, what is the value of $\\\\frac{z}{x}$ expressed as a common fraction? Show that it is \\\\frac{7}{25}.-/\\ntheorem mathd_algebra_33 (x y z : ℝ) (h₀ : x ≠ 0) (h₁ : 2 * x = 5 * y) (h₂ : 7 * y = 10 * z) :\\n    z / x = 7 / 25 := by\\n',\n",
              " 'import Mathlib\\nimport Aesop\\n\\nset_option maxHeartbeats 0\\n\\nopen BigOperators Real Nat Topology Rat\\n\\n/-- What is the value of the following expression?\\n\\n$\\\\frac{100^2-7^2}{70^2-11^2} \\\\cdot \\\\frac{(70-11)(70+11)}{(100-7)(100+7)}$\\n\\n$\\\\textbf{(A) } 1 \\\\qquad \\\\textbf{(B) } \\\\frac{9951}{9950} \\\\qquad \\\\textbf{(C) } \\\\frac{4780}{4779} \\\\qquad \\\\textbf{(D) } \\\\frac{108}{107} \\\\qquad \\\\textbf{(E) } \\\\frac{81}{80} $ Show that it is \\\\textbf{(A) } 1.-/\\ntheorem amc12b_2020_p2 :\\n    (100 ^ 2 - 7 ^ 2 : ℝ) / (70 ^ 2 - 11 ^ 2) * ((70 - 11) * (70 + 11) / ((100 - 7) * (100 + 7))) =\\n      1 := by\\n',\n",
              " 'import Mathlib\\nimport Aesop\\n\\nset_option maxHeartbeats 0\\n\\nopen BigOperators Real Nat Topology Rat\\n\\n/-- Let $a$ and $b$ be real numbers such that $a^2+b^2=1$. Show that $ab+\\\\lvert a-b\\\\rvert \\\\leq 1$.-/\\ntheorem algebra_sqineq_unitcircatbpabsamblt1 (a b : ℝ) (h₀ : a ^ 2 + b ^ 2 = 1) :\\n    a * b + abs (a - b) ≤ 1 := by\\n',\n",
              " 'import Mathlib\\nimport Aesop\\n\\nset_option maxHeartbeats 0\\n\\nopen BigOperators Real Nat Topology Rat\\n\\n/-- What is the value of $-a-b^2+3ab$ if $a=-1$ and $b=5$? Show that it is -39.-/\\ntheorem mathd_algebra_419 (a b : ℝ) (h₀ : a = -1) (h₁ : b = 5) : -a - b ^ 2 + 3 * (a * b) = -39 := by\\n']"
            ]
          },
          "metadata": {},
          "execution_count": 35
        }
      ]
    },
    {
      "cell_type": "markdown",
      "source": [
        "## Process Proofs"
      ],
      "metadata": {
        "id": "aYRxZ_-J67yT"
      }
    },
    {
      "cell_type": "code",
      "source": [
        "!unzip corrected_proofs.zip -d proofs"
      ],
      "metadata": {
        "collapsed": true,
        "id": "0TAva1KovL2D",
        "colab": {
          "base_uri": "https://localhost:8080/"
        },
        "outputId": "a7bd7709-fcfc-4e64-913e-775bd4f5f79c"
      },
      "execution_count": null,
      "outputs": [
        {
          "output_type": "stream",
          "name": "stdout",
          "text": [
            "Archive:  corrected_proofs.zip\n",
            "   creating: proofs/corrected_proofs/\n",
            "   creating: proofs/corrected_proofs/32/\n",
            "   creating: proofs/corrected_proofs/35/\n",
            "   creating: proofs/corrected_proofs/34/\n",
            "   creating: proofs/corrected_proofs/33/\n",
            "  inflating: proofs/corrected_proofs/.DS_Store  \n",
            "   creating: proofs/corrected_proofs/20/\n",
            "   creating: proofs/corrected_proofs/18/\n",
            "   creating: proofs/corrected_proofs/27/\n",
            "   creating: proofs/corrected_proofs/9/\n",
            "   creating: proofs/corrected_proofs/0/\n",
            "   creating: proofs/corrected_proofs/11/\n",
            "   creating: proofs/corrected_proofs/7/\n",
            "   creating: proofs/corrected_proofs/29/\n",
            "   creating: proofs/corrected_proofs/16/\n",
            "   creating: proofs/corrected_proofs/6/\n",
            "   creating: proofs/corrected_proofs/28/\n",
            "   creating: proofs/corrected_proofs/17/\n",
            "   creating: proofs/corrected_proofs/1/\n",
            "   creating: proofs/corrected_proofs/10/\n",
            "   creating: proofs/corrected_proofs/19/\n",
            "   creating: proofs/corrected_proofs/26/\n",
            "   creating: proofs/corrected_proofs/8/\n",
            "   creating: proofs/corrected_proofs/21/\n",
            "   creating: proofs/corrected_proofs/38/\n",
            "   creating: proofs/corrected_proofs/36/\n",
            "   creating: proofs/corrected_proofs/31/\n",
            "   creating: proofs/corrected_proofs/30/\n",
            "   creating: proofs/corrected_proofs/37/\n",
            "   creating: proofs/corrected_proofs/39/\n",
            "   creating: proofs/corrected_proofs/.ipynb_checkpoints/\n",
            "   creating: proofs/corrected_proofs/24/\n",
            "   creating: proofs/corrected_proofs/23/\n",
            "   creating: proofs/corrected_proofs/4/\n",
            "   creating: proofs/corrected_proofs/15/\n",
            "   creating: proofs/corrected_proofs/3/\n",
            "   creating: proofs/corrected_proofs/12/\n",
            "   creating: proofs/corrected_proofs/2/\n",
            "   creating: proofs/corrected_proofs/13/\n",
            "   creating: proofs/corrected_proofs/5/\n",
            "   creating: proofs/corrected_proofs/14/\n",
            "   creating: proofs/corrected_proofs/22/\n",
            "   creating: proofs/corrected_proofs/25/\n",
            "   creating: proofs/corrected_proofs/32/AI-MO_Kimina-Prover-Preview-Distill-7B/\n",
            "   creating: proofs/corrected_proofs/32/kfdong_STP_model_Lean/\n",
            "   creating: proofs/corrected_proofs/32/ByteDance-Seed_BFS-Prover/\n",
            "   creating: proofs/corrected_proofs/32/deepseek-ai_DeepSeek-Prover-V1/\n",
            "   creating: proofs/corrected_proofs/32/Goedel-LM_Goedel-Prover-SFT/\n",
            "   creating: proofs/corrected_proofs/32/wellecks_llmstep-mathlib4-pythia2.8b/\n",
            "   creating: proofs/corrected_proofs/32/deepseek-ai_DeepSeek-Prover-V2-7B/\n",
            "   creating: proofs/corrected_proofs/32/deepseek-ai_DeepSeek-Prover-V1.5-RL/\n",
            "   creating: proofs/corrected_proofs/35/AI-MO_Kimina-Prover-Preview-Distill-7B/\n",
            "   creating: proofs/corrected_proofs/35/kfdong_STP_model_Lean/\n",
            "   creating: proofs/corrected_proofs/35/ByteDance-Seed_BFS-Prover/\n",
            "   creating: proofs/corrected_proofs/35/deepseek-ai_DeepSeek-Prover-V1/\n",
            "   creating: proofs/corrected_proofs/35/Goedel-LM_Goedel-Prover-SFT/\n",
            "   creating: proofs/corrected_proofs/35/wellecks_llmstep-mathlib4-pythia2.8b/\n",
            "   creating: proofs/corrected_proofs/35/deepseek-ai_DeepSeek-Prover-V2-7B/\n",
            "   creating: proofs/corrected_proofs/35/deepseek-ai_DeepSeek-Prover-V1.5-RL/\n",
            "   creating: proofs/corrected_proofs/34/AI-MO_Kimina-Prover-Preview-Distill-7B/\n",
            "   creating: proofs/corrected_proofs/34/kfdong_STP_model_Lean/\n",
            "   creating: proofs/corrected_proofs/34/ByteDance-Seed_BFS-Prover/\n",
            "   creating: proofs/corrected_proofs/34/deepseek-ai_DeepSeek-Prover-V1/\n",
            "   creating: proofs/corrected_proofs/34/Goedel-LM_Goedel-Prover-SFT/\n",
            "   creating: proofs/corrected_proofs/34/wellecks_llmstep-mathlib4-pythia2.8b/\n",
            "   creating: proofs/corrected_proofs/34/deepseek-ai_DeepSeek-Prover-V2-7B/\n",
            "   creating: proofs/corrected_proofs/34/deepseek-ai_DeepSeek-Prover-V1.5-RL/\n",
            "   creating: proofs/corrected_proofs/33/AI-MO_Kimina-Prover-Preview-Distill-7B/\n",
            "   creating: proofs/corrected_proofs/33/kfdong_STP_model_Lean/\n",
            "   creating: proofs/corrected_proofs/33/ByteDance-Seed_BFS-Prover/\n",
            "   creating: proofs/corrected_proofs/33/deepseek-ai_DeepSeek-Prover-V1/\n",
            "   creating: proofs/corrected_proofs/33/Goedel-LM_Goedel-Prover-SFT/\n",
            "   creating: proofs/corrected_proofs/33/wellecks_llmstep-mathlib4-pythia2.8b/\n",
            "   creating: proofs/corrected_proofs/33/deepseek-ai_DeepSeek-Prover-V2-7B/\n",
            "   creating: proofs/corrected_proofs/33/deepseek-ai_DeepSeek-Prover-V1.5-RL/\n",
            "   creating: proofs/corrected_proofs/20/AI-MO_Kimina-Prover-Preview-Distill-7B/\n",
            "   creating: proofs/corrected_proofs/20/kfdong_STP_model_Lean/\n",
            "   creating: proofs/corrected_proofs/20/ByteDance-Seed_BFS-Prover/\n",
            "   creating: proofs/corrected_proofs/20/stoney0062_Leanabell-Prover-DS-SFT/\n",
            "   creating: proofs/corrected_proofs/20/deepseek-ai_DeepSeek-Prover-V1/\n",
            "   creating: proofs/corrected_proofs/20/Goedel-LM_Goedel-Prover-SFT/\n",
            "   creating: proofs/corrected_proofs/20/wellecks_llmstep-mathlib4-pythia2.8b/\n",
            "   creating: proofs/corrected_proofs/20/deepseek-ai_DeepSeek-Prover-V2-7B/\n",
            "   creating: proofs/corrected_proofs/20/deepseek-ai_DeepSeek-Prover-V1.5-RL/\n",
            "   creating: proofs/corrected_proofs/18/AI-MO_Kimina-Prover-Preview-Distill-7B/\n",
            "   creating: proofs/corrected_proofs/18/kfdong_STP_model_Lean/\n",
            "   creating: proofs/corrected_proofs/18/ByteDance-Seed_BFS-Prover/\n",
            "   creating: proofs/corrected_proofs/18/deepseek-ai_DeepSeek-Prover-V1/\n",
            "   creating: proofs/corrected_proofs/18/Goedel-LM_Goedel-Prover-SFT/\n",
            "   creating: proofs/corrected_proofs/18/wellecks_llmstep-mathlib4-pythia2.8b/\n",
            "   creating: proofs/corrected_proofs/18/deepseek-ai_DeepSeek-Prover-V2-7B/\n",
            "   creating: proofs/corrected_proofs/18/deepseek-ai_DeepSeek-Prover-V1.5-RL/\n",
            "   creating: proofs/corrected_proofs/27/AI-MO_Kimina-Prover-Preview-Distill-7B/\n",
            "   creating: proofs/corrected_proofs/27/kfdong_STP_model_Lean/\n",
            "   creating: proofs/corrected_proofs/27/ByteDance-Seed_BFS-Prover/\n",
            "   creating: proofs/corrected_proofs/27/deepseek-ai_DeepSeek-Prover-V1/\n",
            "   creating: proofs/corrected_proofs/27/Goedel-LM_Goedel-Prover-SFT/\n",
            "   creating: proofs/corrected_proofs/27/wellecks_llmstep-mathlib4-pythia2.8b/\n",
            "   creating: proofs/corrected_proofs/27/deepseek-ai_DeepSeek-Prover-V2-7B/\n",
            "   creating: proofs/corrected_proofs/27/deepseek-ai_DeepSeek-Prover-V1.5-RL/\n",
            "   creating: proofs/corrected_proofs/9/AI-MO_Kimina-Prover-Preview-Distill-7B/\n",
            "   creating: proofs/corrected_proofs/9/kfdong_STP_model_Lean/\n",
            "   creating: proofs/corrected_proofs/9/ByteDance-Seed_BFS-Prover/\n",
            "   creating: proofs/corrected_proofs/9/stoney0062_Leanabell-Prover-DS-SFT/\n",
            "   creating: proofs/corrected_proofs/9/deepseek-ai_DeepSeek-Prover-V1/\n",
            "   creating: proofs/corrected_proofs/9/Goedel-LM_Goedel-Prover-SFT/\n",
            "   creating: proofs/corrected_proofs/9/wellecks_llmstep-mathlib4-pythia2.8b/\n",
            "   creating: proofs/corrected_proofs/9/deepseek-ai_DeepSeek-Prover-V2-7B/\n",
            "   creating: proofs/corrected_proofs/9/deepseek-ai_DeepSeek-Prover-V1.5-RL/\n",
            "   creating: proofs/corrected_proofs/0/AI-MO_Kimina-Prover-Preview-Distill-7B/\n",
            "   creating: proofs/corrected_proofs/0/kfdong_STP_model_Lean/\n",
            "   creating: proofs/corrected_proofs/0/ByteDance-Seed_BFS-Prover/\n",
            "   creating: proofs/corrected_proofs/0/stoney0062_Leanabell-Prover-DS-SFT/\n",
            "   creating: proofs/corrected_proofs/0/deepseek-ai_DeepSeek-Prover-V1/\n",
            "   creating: proofs/corrected_proofs/0/Goedel-LM_Goedel-Prover-SFT/\n",
            "   creating: proofs/corrected_proofs/0/wellecks_llmstep-mathlib4-pythia2.8b/\n",
            "   creating: proofs/corrected_proofs/0/deepseek-ai_DeepSeek-Prover-V2-7B/\n",
            "   creating: proofs/corrected_proofs/0/deepseek-ai_DeepSeek-Prover-V1.5-RL/\n",
            "   creating: proofs/corrected_proofs/11/AI-MO_Kimina-Prover-Preview-Distill-7B/\n",
            "   creating: proofs/corrected_proofs/11/kfdong_STP_model_Lean/\n",
            "   creating: proofs/corrected_proofs/11/ByteDance-Seed_BFS-Prover/\n",
            "   creating: proofs/corrected_proofs/11/stoney0062_Leanabell-Prover-DS-SFT/\n",
            "   creating: proofs/corrected_proofs/11/deepseek-ai_DeepSeek-Prover-V1/\n",
            "   creating: proofs/corrected_proofs/11/Goedel-LM_Goedel-Prover-SFT/\n",
            "   creating: proofs/corrected_proofs/11/wellecks_llmstep-mathlib4-pythia2.8b/\n",
            "   creating: proofs/corrected_proofs/11/deepseek-ai_DeepSeek-Prover-V2-7B/\n",
            "   creating: proofs/corrected_proofs/11/deepseek-ai_DeepSeek-Prover-V1.5-RL/\n",
            "   creating: proofs/corrected_proofs/7/AI-MO_Kimina-Prover-Preview-Distill-7B/\n",
            "   creating: proofs/corrected_proofs/7/kfdong_STP_model_Lean/\n",
            "   creating: proofs/corrected_proofs/7/ByteDance-Seed_BFS-Prover/\n",
            "   creating: proofs/corrected_proofs/7/stoney0062_Leanabell-Prover-DS-SFT/\n",
            "   creating: proofs/corrected_proofs/7/deepseek-ai_DeepSeek-Prover-V1/\n",
            "   creating: proofs/corrected_proofs/7/Goedel-LM_Goedel-Prover-SFT/\n",
            "   creating: proofs/corrected_proofs/7/wellecks_llmstep-mathlib4-pythia2.8b/\n",
            "   creating: proofs/corrected_proofs/7/deepseek-ai_DeepSeek-Prover-V2-7B/\n",
            "   creating: proofs/corrected_proofs/7/deepseek-ai_DeepSeek-Prover-V1.5-RL/\n",
            "   creating: proofs/corrected_proofs/29/AI-MO_Kimina-Prover-Preview-Distill-7B/\n",
            "   creating: proofs/corrected_proofs/29/kfdong_STP_model_Lean/\n",
            "   creating: proofs/corrected_proofs/29/ByteDance-Seed_BFS-Prover/\n",
            "   creating: proofs/corrected_proofs/29/deepseek-ai_DeepSeek-Prover-V1/\n",
            "   creating: proofs/corrected_proofs/29/Goedel-LM_Goedel-Prover-SFT/\n",
            "   creating: proofs/corrected_proofs/29/wellecks_llmstep-mathlib4-pythia2.8b/\n",
            "   creating: proofs/corrected_proofs/29/deepseek-ai_DeepSeek-Prover-V2-7B/\n",
            "   creating: proofs/corrected_proofs/29/deepseek-ai_DeepSeek-Prover-V1.5-RL/\n",
            "   creating: proofs/corrected_proofs/16/AI-MO_Kimina-Prover-Preview-Distill-7B/\n",
            "   creating: proofs/corrected_proofs/16/kfdong_STP_model_Lean/\n",
            "   creating: proofs/corrected_proofs/16/ByteDance-Seed_BFS-Prover/\n",
            "   creating: proofs/corrected_proofs/16/deepseek-ai_DeepSeek-Prover-V1/\n",
            "   creating: proofs/corrected_proofs/16/Goedel-LM_Goedel-Prover-SFT/\n",
            "   creating: proofs/corrected_proofs/16/wellecks_llmstep-mathlib4-pythia2.8b/\n",
            "   creating: proofs/corrected_proofs/16/deepseek-ai_DeepSeek-Prover-V2-7B/\n",
            "   creating: proofs/corrected_proofs/16/deepseek-ai_DeepSeek-Prover-V1.5-RL/\n",
            "   creating: proofs/corrected_proofs/6/AI-MO_Kimina-Prover-Preview-Distill-7B/\n",
            "   creating: proofs/corrected_proofs/6/kfdong_STP_model_Lean/\n",
            "   creating: proofs/corrected_proofs/6/ByteDance-Seed_BFS-Prover/\n",
            "   creating: proofs/corrected_proofs/6/stoney0062_Leanabell-Prover-DS-SFT/\n",
            "   creating: proofs/corrected_proofs/6/deepseek-ai_DeepSeek-Prover-V1/\n",
            "   creating: proofs/corrected_proofs/6/Goedel-LM_Goedel-Prover-SFT/\n",
            "   creating: proofs/corrected_proofs/6/wellecks_llmstep-mathlib4-pythia2.8b/\n",
            "   creating: proofs/corrected_proofs/6/deepseek-ai_DeepSeek-Prover-V2-7B/\n",
            "   creating: proofs/corrected_proofs/6/deepseek-ai_DeepSeek-Prover-V1.5-RL/\n",
            "   creating: proofs/corrected_proofs/28/AI-MO_Kimina-Prover-Preview-Distill-7B/\n",
            "   creating: proofs/corrected_proofs/28/kfdong_STP_model_Lean/\n",
            "   creating: proofs/corrected_proofs/28/ByteDance-Seed_BFS-Prover/\n",
            "   creating: proofs/corrected_proofs/28/deepseek-ai_DeepSeek-Prover-V1/\n",
            "   creating: proofs/corrected_proofs/28/Goedel-LM_Goedel-Prover-SFT/\n",
            "   creating: proofs/corrected_proofs/28/wellecks_llmstep-mathlib4-pythia2.8b/\n",
            "   creating: proofs/corrected_proofs/28/deepseek-ai_DeepSeek-Prover-V2-7B/\n",
            "   creating: proofs/corrected_proofs/28/deepseek-ai_DeepSeek-Prover-V1.5-RL/\n",
            "   creating: proofs/corrected_proofs/17/AI-MO_Kimina-Prover-Preview-Distill-7B/\n",
            "   creating: proofs/corrected_proofs/17/kfdong_STP_model_Lean/\n",
            "   creating: proofs/corrected_proofs/17/ByteDance-Seed_BFS-Prover/\n",
            "   creating: proofs/corrected_proofs/17/deepseek-ai_DeepSeek-Prover-V1/\n",
            "   creating: proofs/corrected_proofs/17/Goedel-LM_Goedel-Prover-SFT/\n",
            "   creating: proofs/corrected_proofs/17/wellecks_llmstep-mathlib4-pythia2.8b/\n",
            "   creating: proofs/corrected_proofs/17/deepseek-ai_DeepSeek-Prover-V2-7B/\n",
            "   creating: proofs/corrected_proofs/17/deepseek-ai_DeepSeek-Prover-V1.5-RL/\n",
            "   creating: proofs/corrected_proofs/1/AI-MO_Kimina-Prover-Preview-Distill-7B/\n",
            "   creating: proofs/corrected_proofs/1/kfdong_STP_model_Lean/\n",
            "   creating: proofs/corrected_proofs/1/ByteDance-Seed_BFS-Prover/\n",
            "   creating: proofs/corrected_proofs/1/stoney0062_Leanabell-Prover-DS-SFT/\n",
            "   creating: proofs/corrected_proofs/1/deepseek-ai_DeepSeek-Prover-V1/\n",
            "   creating: proofs/corrected_proofs/1/Goedel-LM_Goedel-Prover-SFT/\n",
            "   creating: proofs/corrected_proofs/1/wellecks_llmstep-mathlib4-pythia2.8b/\n",
            "   creating: proofs/corrected_proofs/1/deepseek-ai_DeepSeek-Prover-V2-7B/\n",
            "   creating: proofs/corrected_proofs/1/deepseek-ai_DeepSeek-Prover-V1.5-RL/\n",
            "   creating: proofs/corrected_proofs/10/AI-MO_Kimina-Prover-Preview-Distill-7B/\n",
            "   creating: proofs/corrected_proofs/10/kfdong_STP_model_Lean/\n",
            "   creating: proofs/corrected_proofs/10/ByteDance-Seed_BFS-Prover/\n",
            "   creating: proofs/corrected_proofs/10/stoney0062_Leanabell-Prover-DS-SFT/\n",
            "   creating: proofs/corrected_proofs/10/deepseek-ai_DeepSeek-Prover-V1/\n",
            "   creating: proofs/corrected_proofs/10/Goedel-LM_Goedel-Prover-SFT/\n",
            "   creating: proofs/corrected_proofs/10/wellecks_llmstep-mathlib4-pythia2.8b/\n",
            "   creating: proofs/corrected_proofs/10/deepseek-ai_DeepSeek-Prover-V2-7B/\n",
            "   creating: proofs/corrected_proofs/10/deepseek-ai_DeepSeek-Prover-V1.5-RL/\n",
            "   creating: proofs/corrected_proofs/19/AI-MO_Kimina-Prover-Preview-Distill-7B/\n",
            "   creating: proofs/corrected_proofs/19/kfdong_STP_model_Lean/\n",
            "   creating: proofs/corrected_proofs/19/ByteDance-Seed_BFS-Prover/\n",
            "   creating: proofs/corrected_proofs/19/deepseek-ai_DeepSeek-Prover-V1/\n",
            "   creating: proofs/corrected_proofs/19/Goedel-LM_Goedel-Prover-SFT/\n",
            "   creating: proofs/corrected_proofs/19/wellecks_llmstep-mathlib4-pythia2.8b/\n",
            "   creating: proofs/corrected_proofs/19/deepseek-ai_DeepSeek-Prover-V2-7B/\n",
            "   creating: proofs/corrected_proofs/19/deepseek-ai_DeepSeek-Prover-V1.5-RL/\n",
            "   creating: proofs/corrected_proofs/26/AI-MO_Kimina-Prover-Preview-Distill-7B/\n",
            "   creating: proofs/corrected_proofs/26/kfdong_STP_model_Lean/\n",
            "   creating: proofs/corrected_proofs/26/ByteDance-Seed_BFS-Prover/\n",
            "   creating: proofs/corrected_proofs/26/deepseek-ai_DeepSeek-Prover-V1/\n",
            "   creating: proofs/corrected_proofs/26/Goedel-LM_Goedel-Prover-SFT/\n",
            "   creating: proofs/corrected_proofs/26/wellecks_llmstep-mathlib4-pythia2.8b/\n",
            "   creating: proofs/corrected_proofs/26/deepseek-ai_DeepSeek-Prover-V2-7B/\n",
            "   creating: proofs/corrected_proofs/26/deepseek-ai_DeepSeek-Prover-V1.5-RL/\n",
            "   creating: proofs/corrected_proofs/8/AI-MO_Kimina-Prover-Preview-Distill-7B/\n",
            "   creating: proofs/corrected_proofs/8/kfdong_STP_model_Lean/\n",
            "   creating: proofs/corrected_proofs/8/ByteDance-Seed_BFS-Prover/\n",
            "   creating: proofs/corrected_proofs/8/stoney0062_Leanabell-Prover-DS-SFT/\n",
            "   creating: proofs/corrected_proofs/8/deepseek-ai_DeepSeek-Prover-V1/\n",
            "   creating: proofs/corrected_proofs/8/Goedel-LM_Goedel-Prover-SFT/\n",
            "   creating: proofs/corrected_proofs/8/wellecks_llmstep-mathlib4-pythia2.8b/\n",
            "   creating: proofs/corrected_proofs/8/deepseek-ai_DeepSeek-Prover-V2-7B/\n",
            "   creating: proofs/corrected_proofs/8/deepseek-ai_DeepSeek-Prover-V1.5-RL/\n",
            "   creating: proofs/corrected_proofs/21/AI-MO_Kimina-Prover-Preview-Distill-7B/\n",
            "   creating: proofs/corrected_proofs/21/kfdong_STP_model_Lean/\n",
            "   creating: proofs/corrected_proofs/21/ByteDance-Seed_BFS-Prover/\n",
            "   creating: proofs/corrected_proofs/21/deepseek-ai_DeepSeek-Prover-V1/\n",
            "   creating: proofs/corrected_proofs/21/Goedel-LM_Goedel-Prover-SFT/\n",
            "   creating: proofs/corrected_proofs/21/wellecks_llmstep-mathlib4-pythia2.8b/\n",
            "   creating: proofs/corrected_proofs/21/deepseek-ai_DeepSeek-Prover-V2-7B/\n",
            "   creating: proofs/corrected_proofs/21/deepseek-ai_DeepSeek-Prover-V1.5-RL/\n",
            "   creating: proofs/corrected_proofs/38/AI-MO_Kimina-Prover-Preview-Distill-7B/\n",
            "   creating: proofs/corrected_proofs/38/kfdong_STP_model_Lean/\n",
            "   creating: proofs/corrected_proofs/38/ByteDance-Seed_BFS-Prover/\n",
            "   creating: proofs/corrected_proofs/38/deepseek-ai_DeepSeek-Prover-V1/\n",
            "   creating: proofs/corrected_proofs/38/Goedel-LM_Goedel-Prover-SFT/\n",
            "   creating: proofs/corrected_proofs/38/wellecks_llmstep-mathlib4-pythia2.8b/\n",
            "   creating: proofs/corrected_proofs/38/deepseek-ai_DeepSeek-Prover-V2-7B/\n",
            "   creating: proofs/corrected_proofs/38/deepseek-ai_DeepSeek-Prover-V1.5-RL/\n",
            "   creating: proofs/corrected_proofs/36/AI-MO_Kimina-Prover-Preview-Distill-7B/\n",
            "   creating: proofs/corrected_proofs/36/kfdong_STP_model_Lean/\n",
            "   creating: proofs/corrected_proofs/36/ByteDance-Seed_BFS-Prover/\n",
            "   creating: proofs/corrected_proofs/36/deepseek-ai_DeepSeek-Prover-V1/\n",
            "   creating: proofs/corrected_proofs/36/Goedel-LM_Goedel-Prover-SFT/\n",
            "   creating: proofs/corrected_proofs/36/wellecks_llmstep-mathlib4-pythia2.8b/\n",
            "   creating: proofs/corrected_proofs/36/deepseek-ai_DeepSeek-Prover-V2-7B/\n",
            "   creating: proofs/corrected_proofs/36/deepseek-ai_DeepSeek-Prover-V1.5-RL/\n",
            "   creating: proofs/corrected_proofs/31/AI-MO_Kimina-Prover-Preview-Distill-7B/\n",
            "   creating: proofs/corrected_proofs/31/kfdong_STP_model_Lean/\n",
            "   creating: proofs/corrected_proofs/31/ByteDance-Seed_BFS-Prover/\n",
            "   creating: proofs/corrected_proofs/31/deepseek-ai_DeepSeek-Prover-V1/\n",
            "   creating: proofs/corrected_proofs/31/Goedel-LM_Goedel-Prover-SFT/\n",
            "   creating: proofs/corrected_proofs/31/wellecks_llmstep-mathlib4-pythia2.8b/\n",
            "   creating: proofs/corrected_proofs/31/deepseek-ai_DeepSeek-Prover-V2-7B/\n",
            "   creating: proofs/corrected_proofs/31/deepseek-ai_DeepSeek-Prover-V1.5-RL/\n",
            "   creating: proofs/corrected_proofs/30/AI-MO_Kimina-Prover-Preview-Distill-7B/\n",
            "   creating: proofs/corrected_proofs/30/kfdong_STP_model_Lean/\n",
            "   creating: proofs/corrected_proofs/30/ByteDance-Seed_BFS-Prover/\n",
            "   creating: proofs/corrected_proofs/30/deepseek-ai_DeepSeek-Prover-V1/\n",
            "   creating: proofs/corrected_proofs/30/Goedel-LM_Goedel-Prover-SFT/\n",
            "   creating: proofs/corrected_proofs/30/wellecks_llmstep-mathlib4-pythia2.8b/\n",
            "   creating: proofs/corrected_proofs/30/deepseek-ai_DeepSeek-Prover-V2-7B/\n",
            "   creating: proofs/corrected_proofs/30/deepseek-ai_DeepSeek-Prover-V1.5-RL/\n",
            "   creating: proofs/corrected_proofs/37/AI-MO_Kimina-Prover-Preview-Distill-7B/\n",
            "   creating: proofs/corrected_proofs/37/kfdong_STP_model_Lean/\n",
            "   creating: proofs/corrected_proofs/37/ByteDance-Seed_BFS-Prover/\n",
            "   creating: proofs/corrected_proofs/37/deepseek-ai_DeepSeek-Prover-V1/\n",
            "   creating: proofs/corrected_proofs/37/Goedel-LM_Goedel-Prover-SFT/\n",
            "   creating: proofs/corrected_proofs/37/wellecks_llmstep-mathlib4-pythia2.8b/\n",
            "   creating: proofs/corrected_proofs/37/deepseek-ai_DeepSeek-Prover-V2-7B/\n",
            "   creating: proofs/corrected_proofs/37/deepseek-ai_DeepSeek-Prover-V1.5-RL/\n",
            "   creating: proofs/corrected_proofs/39/AI-MO_Kimina-Prover-Preview-Distill-7B/\n",
            "   creating: proofs/corrected_proofs/39/kfdong_STP_model_Lean/\n",
            "   creating: proofs/corrected_proofs/39/ByteDance-Seed_BFS-Prover/\n",
            "   creating: proofs/corrected_proofs/39/deepseek-ai_DeepSeek-Prover-V1/\n",
            "   creating: proofs/corrected_proofs/39/Goedel-LM_Goedel-Prover-SFT/\n",
            "   creating: proofs/corrected_proofs/39/wellecks_llmstep-mathlib4-pythia2.8b/\n",
            "   creating: proofs/corrected_proofs/39/deepseek-ai_DeepSeek-Prover-V2-7B/\n",
            "   creating: proofs/corrected_proofs/39/deepseek-ai_DeepSeek-Prover-V1.5-RL/\n",
            "   creating: proofs/corrected_proofs/24/AI-MO_Kimina-Prover-Preview-Distill-7B/\n",
            "   creating: proofs/corrected_proofs/24/kfdong_STP_model_Lean/\n",
            "   creating: proofs/corrected_proofs/24/ByteDance-Seed_BFS-Prover/\n",
            "   creating: proofs/corrected_proofs/24/deepseek-ai_DeepSeek-Prover-V1/\n",
            "   creating: proofs/corrected_proofs/24/Goedel-LM_Goedel-Prover-SFT/\n",
            "   creating: proofs/corrected_proofs/24/wellecks_llmstep-mathlib4-pythia2.8b/\n",
            "   creating: proofs/corrected_proofs/24/deepseek-ai_DeepSeek-Prover-V2-7B/\n",
            "   creating: proofs/corrected_proofs/24/deepseek-ai_DeepSeek-Prover-V1.5-RL/\n",
            "   creating: proofs/corrected_proofs/23/AI-MO_Kimina-Prover-Preview-Distill-7B/\n",
            "   creating: proofs/corrected_proofs/23/kfdong_STP_model_Lean/\n",
            "   creating: proofs/corrected_proofs/23/ByteDance-Seed_BFS-Prover/\n",
            "   creating: proofs/corrected_proofs/23/deepseek-ai_DeepSeek-Prover-V1/\n",
            "   creating: proofs/corrected_proofs/23/Goedel-LM_Goedel-Prover-SFT/\n",
            "   creating: proofs/corrected_proofs/23/wellecks_llmstep-mathlib4-pythia2.8b/\n",
            "   creating: proofs/corrected_proofs/23/deepseek-ai_DeepSeek-Prover-V2-7B/\n",
            "   creating: proofs/corrected_proofs/23/deepseek-ai_DeepSeek-Prover-V1.5-RL/\n",
            "   creating: proofs/corrected_proofs/4/AI-MO_Kimina-Prover-Preview-Distill-7B/\n",
            "   creating: proofs/corrected_proofs/4/kfdong_STP_model_Lean/\n",
            "   creating: proofs/corrected_proofs/4/ByteDance-Seed_BFS-Prover/\n",
            "   creating: proofs/corrected_proofs/4/stoney0062_Leanabell-Prover-DS-SFT/\n",
            "   creating: proofs/corrected_proofs/4/deepseek-ai_DeepSeek-Prover-V1/\n",
            "   creating: proofs/corrected_proofs/4/Goedel-LM_Goedel-Prover-SFT/\n",
            "   creating: proofs/corrected_proofs/4/wellecks_llmstep-mathlib4-pythia2.8b/\n",
            "   creating: proofs/corrected_proofs/4/deepseek-ai_DeepSeek-Prover-V2-7B/\n",
            "   creating: proofs/corrected_proofs/4/deepseek-ai_DeepSeek-Prover-V1.5-RL/\n",
            "   creating: proofs/corrected_proofs/15/AI-MO_Kimina-Prover-Preview-Distill-7B/\n",
            "   creating: proofs/corrected_proofs/15/kfdong_STP_model_Lean/\n",
            "   creating: proofs/corrected_proofs/15/ByteDance-Seed_BFS-Prover/\n",
            "   creating: proofs/corrected_proofs/15/deepseek-ai_DeepSeek-Prover-V1/\n",
            "   creating: proofs/corrected_proofs/15/Goedel-LM_Goedel-Prover-SFT/\n",
            "   creating: proofs/corrected_proofs/15/wellecks_llmstep-mathlib4-pythia2.8b/\n",
            "   creating: proofs/corrected_proofs/15/deepseek-ai_DeepSeek-Prover-V2-7B/\n",
            "   creating: proofs/corrected_proofs/15/deepseek-ai_DeepSeek-Prover-V1.5-RL/\n",
            "   creating: proofs/corrected_proofs/3/AI-MO_Kimina-Prover-Preview-Distill-7B/\n",
            "   creating: proofs/corrected_proofs/3/kfdong_STP_model_Lean/\n",
            "   creating: proofs/corrected_proofs/3/ByteDance-Seed_BFS-Prover/\n",
            "   creating: proofs/corrected_proofs/3/stoney0062_Leanabell-Prover-DS-SFT/\n",
            "   creating: proofs/corrected_proofs/3/deepseek-ai_DeepSeek-Prover-V1/\n",
            "   creating: proofs/corrected_proofs/3/Goedel-LM_Goedel-Prover-SFT/\n",
            "   creating: proofs/corrected_proofs/3/wellecks_llmstep-mathlib4-pythia2.8b/\n",
            "   creating: proofs/corrected_proofs/3/deepseek-ai_DeepSeek-Prover-V2-7B/\n",
            "   creating: proofs/corrected_proofs/3/deepseek-ai_DeepSeek-Prover-V1.5-RL/\n",
            "   creating: proofs/corrected_proofs/12/AI-MO_Kimina-Prover-Preview-Distill-7B/\n",
            "   creating: proofs/corrected_proofs/12/kfdong_STP_model_Lean/\n",
            "   creating: proofs/corrected_proofs/12/ByteDance-Seed_BFS-Prover/\n",
            "   creating: proofs/corrected_proofs/12/deepseek-ai_DeepSeek-Prover-V1/\n",
            "   creating: proofs/corrected_proofs/12/Goedel-LM_Goedel-Prover-SFT/\n",
            "   creating: proofs/corrected_proofs/12/wellecks_llmstep-mathlib4-pythia2.8b/\n",
            "   creating: proofs/corrected_proofs/12/deepseek-ai_DeepSeek-Prover-V2-7B/\n",
            "   creating: proofs/corrected_proofs/12/deepseek-ai_DeepSeek-Prover-V1.5-RL/\n",
            "   creating: proofs/corrected_proofs/2/AI-MO_Kimina-Prover-Preview-Distill-7B/\n",
            "   creating: proofs/corrected_proofs/2/kfdong_STP_model_Lean/\n",
            "   creating: proofs/corrected_proofs/2/ByteDance-Seed_BFS-Prover/\n",
            "   creating: proofs/corrected_proofs/2/stoney0062_Leanabell-Prover-DS-SFT/\n",
            "   creating: proofs/corrected_proofs/2/deepseek-ai_DeepSeek-Prover-V1/\n",
            "   creating: proofs/corrected_proofs/2/Goedel-LM_Goedel-Prover-SFT/\n",
            "   creating: proofs/corrected_proofs/2/wellecks_llmstep-mathlib4-pythia2.8b/\n",
            "   creating: proofs/corrected_proofs/2/deepseek-ai_DeepSeek-Prover-V2-7B/\n",
            "   creating: proofs/corrected_proofs/2/deepseek-ai_DeepSeek-Prover-V1.5-RL/\n",
            "   creating: proofs/corrected_proofs/13/AI-MO_Kimina-Prover-Preview-Distill-7B/\n",
            "   creating: proofs/corrected_proofs/13/kfdong_STP_model_Lean/\n",
            "   creating: proofs/corrected_proofs/13/ByteDance-Seed_BFS-Prover/\n",
            "   creating: proofs/corrected_proofs/13/deepseek-ai_DeepSeek-Prover-V1/\n",
            "   creating: proofs/corrected_proofs/13/Goedel-LM_Goedel-Prover-SFT/\n",
            "   creating: proofs/corrected_proofs/13/wellecks_llmstep-mathlib4-pythia2.8b/\n",
            "   creating: proofs/corrected_proofs/13/deepseek-ai_DeepSeek-Prover-V2-7B/\n",
            "   creating: proofs/corrected_proofs/13/deepseek-ai_DeepSeek-Prover-V1.5-RL/\n",
            "   creating: proofs/corrected_proofs/5/AI-MO_Kimina-Prover-Preview-Distill-7B/\n",
            "   creating: proofs/corrected_proofs/5/kfdong_STP_model_Lean/\n",
            "   creating: proofs/corrected_proofs/5/ByteDance-Seed_BFS-Prover/\n",
            "   creating: proofs/corrected_proofs/5/stoney0062_Leanabell-Prover-DS-SFT/\n",
            "   creating: proofs/corrected_proofs/5/deepseek-ai_DeepSeek-Prover-V1/\n",
            "   creating: proofs/corrected_proofs/5/Goedel-LM_Goedel-Prover-SFT/\n",
            "   creating: proofs/corrected_proofs/5/wellecks_llmstep-mathlib4-pythia2.8b/\n",
            "   creating: proofs/corrected_proofs/5/deepseek-ai_DeepSeek-Prover-V2-7B/\n",
            "   creating: proofs/corrected_proofs/5/deepseek-ai_DeepSeek-Prover-V1.5-RL/\n",
            "   creating: proofs/corrected_proofs/14/AI-MO_Kimina-Prover-Preview-Distill-7B/\n",
            "   creating: proofs/corrected_proofs/14/kfdong_STP_model_Lean/\n",
            "   creating: proofs/corrected_proofs/14/ByteDance-Seed_BFS-Prover/\n",
            "   creating: proofs/corrected_proofs/14/deepseek-ai_DeepSeek-Prover-V1/\n",
            "   creating: proofs/corrected_proofs/14/Goedel-LM_Goedel-Prover-SFT/\n",
            "   creating: proofs/corrected_proofs/14/wellecks_llmstep-mathlib4-pythia2.8b/\n",
            "   creating: proofs/corrected_proofs/14/deepseek-ai_DeepSeek-Prover-V2-7B/\n",
            "   creating: proofs/corrected_proofs/14/deepseek-ai_DeepSeek-Prover-V1.5-RL/\n",
            "   creating: proofs/corrected_proofs/22/AI-MO_Kimina-Prover-Preview-Distill-7B/\n",
            "   creating: proofs/corrected_proofs/22/kfdong_STP_model_Lean/\n",
            "   creating: proofs/corrected_proofs/22/ByteDance-Seed_BFS-Prover/\n",
            "   creating: proofs/corrected_proofs/22/stoney0062_Leanabell-Prover-DS-SFT/\n",
            "   creating: proofs/corrected_proofs/22/deepseek-ai_DeepSeek-Prover-V1/\n",
            "   creating: proofs/corrected_proofs/22/Goedel-LM_Goedel-Prover-SFT/\n",
            "   creating: proofs/corrected_proofs/22/wellecks_llmstep-mathlib4-pythia2.8b/\n",
            "   creating: proofs/corrected_proofs/22/deepseek-ai_DeepSeek-Prover-V2-7B/\n",
            "   creating: proofs/corrected_proofs/22/deepseek-ai_DeepSeek-Prover-V1.5-RL/\n",
            "   creating: proofs/corrected_proofs/25/AI-MO_Kimina-Prover-Preview-Distill-7B/\n",
            "   creating: proofs/corrected_proofs/25/kfdong_STP_model_Lean/\n",
            "   creating: proofs/corrected_proofs/25/ByteDance-Seed_BFS-Prover/\n",
            "   creating: proofs/corrected_proofs/25/deepseek-ai_DeepSeek-Prover-V1/\n",
            "   creating: proofs/corrected_proofs/25/Goedel-LM_Goedel-Prover-SFT/\n",
            "   creating: proofs/corrected_proofs/25/wellecks_llmstep-mathlib4-pythia2.8b/\n",
            "   creating: proofs/corrected_proofs/25/deepseek-ai_DeepSeek-Prover-V2-7B/\n",
            "   creating: proofs/corrected_proofs/25/deepseek-ai_DeepSeek-Prover-V1.5-RL/\n",
            "  inflating: proofs/corrected_proofs/32/AI-MO_Kimina-Prover-Preview-Distill-7B/4.txt  \n",
            "  inflating: proofs/corrected_proofs/32/kfdong_STP_model_Lean/6.txt  \n",
            "  inflating: proofs/corrected_proofs/32/kfdong_STP_model_Lean/7.txt  \n",
            "  inflating: proofs/corrected_proofs/32/kfdong_STP_model_Lean/1.txt  \n",
            "  inflating: proofs/corrected_proofs/32/ByteDance-Seed_BFS-Prover/5.txt  \n",
            "  inflating: proofs/corrected_proofs/32/ByteDance-Seed_BFS-Prover/6.txt  \n",
            "  inflating: proofs/corrected_proofs/32/ByteDance-Seed_BFS-Prover/7.txt  \n",
            "  inflating: proofs/corrected_proofs/32/deepseek-ai_DeepSeek-Prover-V1/5.txt  \n",
            "  inflating: proofs/corrected_proofs/32/deepseek-ai_DeepSeek-Prover-V1/7.txt  \n",
            "  inflating: proofs/corrected_proofs/32/deepseek-ai_DeepSeek-Prover-V1/3.txt  \n",
            "  inflating: proofs/corrected_proofs/32/deepseek-ai_DeepSeek-Prover-V1/2.txt  \n",
            "  inflating: proofs/corrected_proofs/32/Goedel-LM_Goedel-Prover-SFT/5.txt  \n",
            "  inflating: proofs/corrected_proofs/32/Goedel-LM_Goedel-Prover-SFT/6.txt  \n",
            "  inflating: proofs/corrected_proofs/32/Goedel-LM_Goedel-Prover-SFT/7.txt  \n",
            "  inflating: proofs/corrected_proofs/32/Goedel-LM_Goedel-Prover-SFT/2.txt  \n",
            "  inflating: proofs/corrected_proofs/32/Goedel-LM_Goedel-Prover-SFT/1.txt  \n",
            "  inflating: proofs/corrected_proofs/32/deepseek-ai_DeepSeek-Prover-V2-7B/8.txt  \n",
            "  inflating: proofs/corrected_proofs/32/deepseek-ai_DeepSeek-Prover-V2-7B/3.txt  \n",
            "  inflating: proofs/corrected_proofs/32/deepseek-ai_DeepSeek-Prover-V2-7B/1.txt  \n",
            "  inflating: proofs/corrected_proofs/35/AI-MO_Kimina-Prover-Preview-Distill-7B/8.txt  \n",
            "  inflating: proofs/corrected_proofs/35/AI-MO_Kimina-Prover-Preview-Distill-7B/5.txt  \n",
            "  inflating: proofs/corrected_proofs/35/AI-MO_Kimina-Prover-Preview-Distill-7B/4.txt  \n",
            "  inflating: proofs/corrected_proofs/35/AI-MO_Kimina-Prover-Preview-Distill-7B/6.txt  \n",
            "  inflating: proofs/corrected_proofs/35/AI-MO_Kimina-Prover-Preview-Distill-7B/7.txt  \n",
            "  inflating: proofs/corrected_proofs/35/AI-MO_Kimina-Prover-Preview-Distill-7B/3.txt  \n",
            "  inflating: proofs/corrected_proofs/35/AI-MO_Kimina-Prover-Preview-Distill-7B/2.txt  \n",
            "  inflating: proofs/corrected_proofs/35/kfdong_STP_model_Lean/8.txt  \n",
            "  inflating: proofs/corrected_proofs/35/kfdong_STP_model_Lean/5.txt  \n",
            "  inflating: proofs/corrected_proofs/35/kfdong_STP_model_Lean/4.txt  \n",
            "  inflating: proofs/corrected_proofs/35/kfdong_STP_model_Lean/6.txt  \n",
            "  inflating: proofs/corrected_proofs/35/kfdong_STP_model_Lean/7.txt  \n",
            "  inflating: proofs/corrected_proofs/35/kfdong_STP_model_Lean/3.txt  \n",
            "  inflating: proofs/corrected_proofs/35/kfdong_STP_model_Lean/2.txt  \n",
            "  inflating: proofs/corrected_proofs/35/ByteDance-Seed_BFS-Prover/8.txt  \n",
            "  inflating: proofs/corrected_proofs/35/ByteDance-Seed_BFS-Prover/5.txt  \n",
            "  inflating: proofs/corrected_proofs/35/ByteDance-Seed_BFS-Prover/4.txt  \n",
            "  inflating: proofs/corrected_proofs/35/ByteDance-Seed_BFS-Prover/6.txt  \n",
            "  inflating: proofs/corrected_proofs/35/ByteDance-Seed_BFS-Prover/7.txt  \n",
            "  inflating: proofs/corrected_proofs/35/ByteDance-Seed_BFS-Prover/3.txt  \n",
            "  inflating: proofs/corrected_proofs/35/ByteDance-Seed_BFS-Prover/2.txt  \n",
            "  inflating: proofs/corrected_proofs/35/ByteDance-Seed_BFS-Prover/1.txt  \n",
            "   creating: proofs/corrected_proofs/35/ByteDance-Seed_BFS-Prover/.ipynb_checkpoints/\n",
            "  inflating: proofs/corrected_proofs/35/deepseek-ai_DeepSeek-Prover-V1/8.txt  \n",
            "  inflating: proofs/corrected_proofs/35/deepseek-ai_DeepSeek-Prover-V1/5.txt  \n",
            "  inflating: proofs/corrected_proofs/35/deepseek-ai_DeepSeek-Prover-V1/6.txt  \n",
            "  inflating: proofs/corrected_proofs/35/deepseek-ai_DeepSeek-Prover-V1/7.txt  \n",
            "  inflating: proofs/corrected_proofs/35/deepseek-ai_DeepSeek-Prover-V1/3.txt  \n",
            "  inflating: proofs/corrected_proofs/35/deepseek-ai_DeepSeek-Prover-V1/2.txt  \n",
            "  inflating: proofs/corrected_proofs/35/deepseek-ai_DeepSeek-Prover-V1/1.txt  \n",
            "  inflating: proofs/corrected_proofs/35/wellecks_llmstep-mathlib4-pythia2.8b/5.txt  \n",
            "  inflating: proofs/corrected_proofs/35/deepseek-ai_DeepSeek-Prover-V2-7B/8.txt  \n",
            "  inflating: proofs/corrected_proofs/35/deepseek-ai_DeepSeek-Prover-V2-7B/5.txt  \n",
            "  inflating: proofs/corrected_proofs/35/deepseek-ai_DeepSeek-Prover-V2-7B/2.txt  \n",
            "  inflating: proofs/corrected_proofs/35/deepseek-ai_DeepSeek-Prover-V1.5-RL/8.txt  \n",
            "  inflating: proofs/corrected_proofs/35/deepseek-ai_DeepSeek-Prover-V1.5-RL/5.txt  \n",
            "  inflating: proofs/corrected_proofs/35/deepseek-ai_DeepSeek-Prover-V1.5-RL/4.txt  \n",
            "  inflating: proofs/corrected_proofs/35/deepseek-ai_DeepSeek-Prover-V1.5-RL/6.txt  \n",
            "  inflating: proofs/corrected_proofs/35/deepseek-ai_DeepSeek-Prover-V1.5-RL/7.txt  \n",
            "  inflating: proofs/corrected_proofs/35/deepseek-ai_DeepSeek-Prover-V1.5-RL/3.txt  \n",
            "  inflating: proofs/corrected_proofs/35/deepseek-ai_DeepSeek-Prover-V1.5-RL/2.txt  \n",
            "  inflating: proofs/corrected_proofs/35/deepseek-ai_DeepSeek-Prover-V1.5-RL/1.txt  \n",
            "  inflating: proofs/corrected_proofs/34/AI-MO_Kimina-Prover-Preview-Distill-7B/8.txt  \n",
            "  inflating: proofs/corrected_proofs/34/AI-MO_Kimina-Prover-Preview-Distill-7B/5.txt  \n",
            "  inflating: proofs/corrected_proofs/34/AI-MO_Kimina-Prover-Preview-Distill-7B/4.txt  \n",
            "  inflating: proofs/corrected_proofs/34/AI-MO_Kimina-Prover-Preview-Distill-7B/7.txt  \n",
            "  inflating: proofs/corrected_proofs/34/AI-MO_Kimina-Prover-Preview-Distill-7B/2.txt  \n",
            "  inflating: proofs/corrected_proofs/34/AI-MO_Kimina-Prover-Preview-Distill-7B/1.txt  \n",
            "  inflating: proofs/corrected_proofs/34/kfdong_STP_model_Lean/8.txt  \n",
            "  inflating: proofs/corrected_proofs/34/kfdong_STP_model_Lean/5.txt  \n",
            "  inflating: proofs/corrected_proofs/34/kfdong_STP_model_Lean/4.txt  \n",
            "  inflating: proofs/corrected_proofs/34/kfdong_STP_model_Lean/6.txt  \n",
            "  inflating: proofs/corrected_proofs/34/kfdong_STP_model_Lean/7.txt  \n",
            "  inflating: proofs/corrected_proofs/34/kfdong_STP_model_Lean/3.txt  \n",
            "  inflating: proofs/corrected_proofs/34/kfdong_STP_model_Lean/2.txt  \n",
            "  inflating: proofs/corrected_proofs/34/kfdong_STP_model_Lean/1.txt  \n",
            "  inflating: proofs/corrected_proofs/34/ByteDance-Seed_BFS-Prover/8.txt  \n",
            "  inflating: proofs/corrected_proofs/34/ByteDance-Seed_BFS-Prover/5.txt  \n",
            "  inflating: proofs/corrected_proofs/34/ByteDance-Seed_BFS-Prover/4.txt  \n",
            "  inflating: proofs/corrected_proofs/34/ByteDance-Seed_BFS-Prover/6.txt  \n",
            "  inflating: proofs/corrected_proofs/34/ByteDance-Seed_BFS-Prover/7.txt  \n",
            "  inflating: proofs/corrected_proofs/34/ByteDance-Seed_BFS-Prover/3.txt  \n",
            "  inflating: proofs/corrected_proofs/34/ByteDance-Seed_BFS-Prover/1.txt  \n",
            "  inflating: proofs/corrected_proofs/34/deepseek-ai_DeepSeek-Prover-V1/8.txt  \n",
            "  inflating: proofs/corrected_proofs/34/deepseek-ai_DeepSeek-Prover-V1/5.txt  \n",
            "  inflating: proofs/corrected_proofs/34/deepseek-ai_DeepSeek-Prover-V1/4.txt  \n",
            "  inflating: proofs/corrected_proofs/34/deepseek-ai_DeepSeek-Prover-V1/6.txt  \n",
            "  inflating: proofs/corrected_proofs/34/deepseek-ai_DeepSeek-Prover-V1/7.txt  \n",
            "  inflating: proofs/corrected_proofs/34/deepseek-ai_DeepSeek-Prover-V1/3.txt  \n",
            "  inflating: proofs/corrected_proofs/34/deepseek-ai_DeepSeek-Prover-V1/2.txt  \n",
            "  inflating: proofs/corrected_proofs/34/deepseek-ai_DeepSeek-Prover-V1/1.txt  \n",
            "  inflating: proofs/corrected_proofs/34/Goedel-LM_Goedel-Prover-SFT/4.txt  \n",
            "  inflating: proofs/corrected_proofs/34/Goedel-LM_Goedel-Prover-SFT/6.txt  \n",
            "  inflating: proofs/corrected_proofs/34/Goedel-LM_Goedel-Prover-SFT/7.txt  \n",
            "  inflating: proofs/corrected_proofs/34/Goedel-LM_Goedel-Prover-SFT/1.txt  \n",
            "  inflating: proofs/corrected_proofs/34/deepseek-ai_DeepSeek-Prover-V2-7B/8.txt  \n",
            "  inflating: proofs/corrected_proofs/34/deepseek-ai_DeepSeek-Prover-V2-7B/5.txt  \n",
            "  inflating: proofs/corrected_proofs/34/deepseek-ai_DeepSeek-Prover-V2-7B/4.txt  \n",
            "  inflating: proofs/corrected_proofs/34/deepseek-ai_DeepSeek-Prover-V2-7B/6.txt  \n",
            "  inflating: proofs/corrected_proofs/34/deepseek-ai_DeepSeek-Prover-V2-7B/2.txt  \n",
            "  inflating: proofs/corrected_proofs/34/deepseek-ai_DeepSeek-Prover-V2-7B/1.txt  \n",
            "  inflating: proofs/corrected_proofs/34/deepseek-ai_DeepSeek-Prover-V1.5-RL/8.txt  \n",
            "  inflating: proofs/corrected_proofs/34/deepseek-ai_DeepSeek-Prover-V1.5-RL/5.txt  \n",
            "  inflating: proofs/corrected_proofs/34/deepseek-ai_DeepSeek-Prover-V1.5-RL/4.txt  \n",
            "  inflating: proofs/corrected_proofs/34/deepseek-ai_DeepSeek-Prover-V1.5-RL/6.txt  \n",
            "  inflating: proofs/corrected_proofs/34/deepseek-ai_DeepSeek-Prover-V1.5-RL/7.txt  \n",
            "  inflating: proofs/corrected_proofs/34/deepseek-ai_DeepSeek-Prover-V1.5-RL/3.txt  \n",
            "  inflating: proofs/corrected_proofs/34/deepseek-ai_DeepSeek-Prover-V1.5-RL/2.txt  \n",
            "  inflating: proofs/corrected_proofs/34/deepseek-ai_DeepSeek-Prover-V1.5-RL/1.txt  \n",
            "  inflating: proofs/corrected_proofs/33/AI-MO_Kimina-Prover-Preview-Distill-7B/8.txt  \n",
            "  inflating: proofs/corrected_proofs/33/AI-MO_Kimina-Prover-Preview-Distill-7B/5.txt  \n",
            "  inflating: proofs/corrected_proofs/33/AI-MO_Kimina-Prover-Preview-Distill-7B/4.txt  \n",
            "  inflating: proofs/corrected_proofs/33/AI-MO_Kimina-Prover-Preview-Distill-7B/7.txt  \n",
            "  inflating: proofs/corrected_proofs/33/AI-MO_Kimina-Prover-Preview-Distill-7B/2.txt  \n",
            "  inflating: proofs/corrected_proofs/33/AI-MO_Kimina-Prover-Preview-Distill-7B/1.txt  \n",
            "  inflating: proofs/corrected_proofs/33/kfdong_STP_model_Lean/8.txt  \n",
            "  inflating: proofs/corrected_proofs/33/kfdong_STP_model_Lean/5.txt  \n",
            "  inflating: proofs/corrected_proofs/33/kfdong_STP_model_Lean/4.txt  \n",
            "  inflating: proofs/corrected_proofs/33/kfdong_STP_model_Lean/6.txt  \n",
            "  inflating: proofs/corrected_proofs/33/kfdong_STP_model_Lean/7.txt  \n",
            "  inflating: proofs/corrected_proofs/33/kfdong_STP_model_Lean/3.txt  \n",
            "  inflating: proofs/corrected_proofs/33/kfdong_STP_model_Lean/2.txt  \n",
            "  inflating: proofs/corrected_proofs/33/kfdong_STP_model_Lean/1.txt  \n",
            "  inflating: proofs/corrected_proofs/33/ByteDance-Seed_BFS-Prover/8.txt  \n",
            "  inflating: proofs/corrected_proofs/33/ByteDance-Seed_BFS-Prover/5.txt  \n",
            "  inflating: proofs/corrected_proofs/33/ByteDance-Seed_BFS-Prover/6.txt  \n",
            "  inflating: proofs/corrected_proofs/33/ByteDance-Seed_BFS-Prover/7.txt  \n",
            "  inflating: proofs/corrected_proofs/33/ByteDance-Seed_BFS-Prover/3.txt  \n",
            "  inflating: proofs/corrected_proofs/33/ByteDance-Seed_BFS-Prover/2.txt  \n",
            "  inflating: proofs/corrected_proofs/33/ByteDance-Seed_BFS-Prover/1.txt  \n",
            "  inflating: proofs/corrected_proofs/33/deepseek-ai_DeepSeek-Prover-V1/8.txt  \n",
            "  inflating: proofs/corrected_proofs/33/deepseek-ai_DeepSeek-Prover-V1/6.txt  \n",
            "  inflating: proofs/corrected_proofs/33/deepseek-ai_DeepSeek-Prover-V1/7.txt  \n",
            "  inflating: proofs/corrected_proofs/33/deepseek-ai_DeepSeek-Prover-V1/3.txt  \n",
            "  inflating: proofs/corrected_proofs/33/deepseek-ai_DeepSeek-Prover-V1/2.txt  \n",
            "  inflating: proofs/corrected_proofs/33/deepseek-ai_DeepSeek-Prover-V1/1.txt  \n",
            "  inflating: proofs/corrected_proofs/33/Goedel-LM_Goedel-Prover-SFT/4.txt  \n",
            "  inflating: proofs/corrected_proofs/33/Goedel-LM_Goedel-Prover-SFT/6.txt  \n",
            "  inflating: proofs/corrected_proofs/33/deepseek-ai_DeepSeek-Prover-V2-7B/8.txt  \n",
            "  inflating: proofs/corrected_proofs/33/deepseek-ai_DeepSeek-Prover-V2-7B/6.txt  \n",
            "  inflating: proofs/corrected_proofs/33/deepseek-ai_DeepSeek-Prover-V2-7B/7.txt  \n",
            "  inflating: proofs/corrected_proofs/33/deepseek-ai_DeepSeek-Prover-V2-7B/3.txt  \n",
            "  inflating: proofs/corrected_proofs/33/deepseek-ai_DeepSeek-Prover-V2-7B/2.txt  \n",
            "  inflating: proofs/corrected_proofs/33/deepseek-ai_DeepSeek-Prover-V2-7B/1.txt  \n",
            "  inflating: proofs/corrected_proofs/33/deepseek-ai_DeepSeek-Prover-V1.5-RL/8.txt  \n",
            "  inflating: proofs/corrected_proofs/33/deepseek-ai_DeepSeek-Prover-V1.5-RL/5.txt  \n",
            "  inflating: proofs/corrected_proofs/33/deepseek-ai_DeepSeek-Prover-V1.5-RL/4.txt  \n",
            "  inflating: proofs/corrected_proofs/33/deepseek-ai_DeepSeek-Prover-V1.5-RL/6.txt  \n",
            "  inflating: proofs/corrected_proofs/33/deepseek-ai_DeepSeek-Prover-V1.5-RL/7.txt  \n",
            "  inflating: proofs/corrected_proofs/33/deepseek-ai_DeepSeek-Prover-V1.5-RL/2.txt  \n",
            "  inflating: proofs/corrected_proofs/33/deepseek-ai_DeepSeek-Prover-V1.5-RL/1.txt  \n",
            "  inflating: proofs/corrected_proofs/20/kfdong_STP_model_Lean/8.txt  \n",
            "  inflating: proofs/corrected_proofs/20/kfdong_STP_model_Lean/5.txt  \n",
            "  inflating: proofs/corrected_proofs/20/kfdong_STP_model_Lean/4.txt  \n",
            "   creating: proofs/corrected_proofs/20/kfdong_STP_model_Lean/.ipynb_checkpoints/\n",
            "  inflating: proofs/corrected_proofs/20/ByteDance-Seed_BFS-Prover/5.txt  \n",
            "  inflating: proofs/corrected_proofs/20/ByteDance-Seed_BFS-Prover/6.txt  \n",
            "  inflating: proofs/corrected_proofs/20/ByteDance-Seed_BFS-Prover/3.txt  \n",
            "  inflating: proofs/corrected_proofs/20/ByteDance-Seed_BFS-Prover/1.txt  \n",
            "  inflating: proofs/corrected_proofs/20/stoney0062_Leanabell-Prover-DS-SFT/8.txt  \n",
            "  inflating: proofs/corrected_proofs/20/stoney0062_Leanabell-Prover-DS-SFT/4.txt  \n",
            "  inflating: proofs/corrected_proofs/20/stoney0062_Leanabell-Prover-DS-SFT/6.txt  \n",
            "  inflating: proofs/corrected_proofs/20/stoney0062_Leanabell-Prover-DS-SFT/7.txt  \n",
            "  inflating: proofs/corrected_proofs/20/deepseek-ai_DeepSeek-Prover-V1/8.txt  \n",
            "  inflating: proofs/corrected_proofs/20/deepseek-ai_DeepSeek-Prover-V1/5.txt  \n",
            "  inflating: proofs/corrected_proofs/20/deepseek-ai_DeepSeek-Prover-V1/4.txt  \n",
            "  inflating: proofs/corrected_proofs/20/deepseek-ai_DeepSeek-Prover-V1/6.txt  \n",
            "  inflating: proofs/corrected_proofs/20/deepseek-ai_DeepSeek-Prover-V1/7.txt  \n",
            "  inflating: proofs/corrected_proofs/20/deepseek-ai_DeepSeek-Prover-V1/3.txt  \n",
            "  inflating: proofs/corrected_proofs/20/deepseek-ai_DeepSeek-Prover-V1/1.txt  \n",
            "  inflating: proofs/corrected_proofs/20/deepseek-ai_DeepSeek-Prover-V1.5-RL/1.txt  \n",
            "  inflating: proofs/corrected_proofs/27/kfdong_STP_model_Lean/8.txt  \n",
            "  inflating: proofs/corrected_proofs/27/kfdong_STP_model_Lean/5.txt  \n",
            "  inflating: proofs/corrected_proofs/27/kfdong_STP_model_Lean/4.txt  \n",
            "  inflating: proofs/corrected_proofs/27/kfdong_STP_model_Lean/6.txt  \n",
            "  inflating: proofs/corrected_proofs/27/kfdong_STP_model_Lean/7.txt  \n",
            "  inflating: proofs/corrected_proofs/27/kfdong_STP_model_Lean/3.txt  \n",
            "  inflating: proofs/corrected_proofs/27/kfdong_STP_model_Lean/2.txt  \n",
            "  inflating: proofs/corrected_proofs/27/kfdong_STP_model_Lean/1.txt  \n",
            "  inflating: proofs/corrected_proofs/27/ByteDance-Seed_BFS-Prover/6.txt  \n",
            "  inflating: proofs/corrected_proofs/27/deepseek-ai_DeepSeek-Prover-V1/8.txt  \n",
            "  inflating: proofs/corrected_proofs/27/deepseek-ai_DeepSeek-Prover-V1/5.txt  \n",
            "  inflating: proofs/corrected_proofs/27/deepseek-ai_DeepSeek-Prover-V1/4.txt  \n",
            "  inflating: proofs/corrected_proofs/27/deepseek-ai_DeepSeek-Prover-V1/6.txt  \n",
            "  inflating: proofs/corrected_proofs/27/deepseek-ai_DeepSeek-Prover-V1/3.txt  \n",
            "  inflating: proofs/corrected_proofs/27/deepseek-ai_DeepSeek-Prover-V1/2.txt  \n",
            "  inflating: proofs/corrected_proofs/27/Goedel-LM_Goedel-Prover-SFT/5.txt  \n",
            "  inflating: proofs/corrected_proofs/27/Goedel-LM_Goedel-Prover-SFT/3.txt  \n",
            "  inflating: proofs/corrected_proofs/27/Goedel-LM_Goedel-Prover-SFT/1.txt  \n",
            "  inflating: proofs/corrected_proofs/27/deepseek-ai_DeepSeek-Prover-V2-7B/8.txt  \n",
            "  inflating: proofs/corrected_proofs/27/deepseek-ai_DeepSeek-Prover-V2-7B/5.txt  \n",
            "  inflating: proofs/corrected_proofs/27/deepseek-ai_DeepSeek-Prover-V2-7B/4.txt  \n",
            "  inflating: proofs/corrected_proofs/27/deepseek-ai_DeepSeek-Prover-V2-7B/6.txt  \n",
            "  inflating: proofs/corrected_proofs/27/deepseek-ai_DeepSeek-Prover-V2-7B/3.txt  \n",
            "  inflating: proofs/corrected_proofs/27/deepseek-ai_DeepSeek-Prover-V2-7B/2.txt  \n",
            "  inflating: proofs/corrected_proofs/27/deepseek-ai_DeepSeek-Prover-V2-7B/1.txt  \n",
            "  inflating: proofs/corrected_proofs/27/deepseek-ai_DeepSeek-Prover-V1.5-RL/8.txt  \n",
            "  inflating: proofs/corrected_proofs/27/deepseek-ai_DeepSeek-Prover-V1.5-RL/5.txt  \n",
            "  inflating: proofs/corrected_proofs/27/deepseek-ai_DeepSeek-Prover-V1.5-RL/4.txt  \n",
            "  inflating: proofs/corrected_proofs/27/deepseek-ai_DeepSeek-Prover-V1.5-RL/6.txt  \n",
            "  inflating: proofs/corrected_proofs/27/deepseek-ai_DeepSeek-Prover-V1.5-RL/7.txt  \n",
            "  inflating: proofs/corrected_proofs/27/deepseek-ai_DeepSeek-Prover-V1.5-RL/3.txt  \n",
            "  inflating: proofs/corrected_proofs/27/deepseek-ai_DeepSeek-Prover-V1.5-RL/2.txt  \n",
            "  inflating: proofs/corrected_proofs/27/deepseek-ai_DeepSeek-Prover-V1.5-RL/1.txt  \n",
            "  inflating: proofs/corrected_proofs/9/kfdong_STP_model_Lean/3.txt  \n",
            "  inflating: proofs/corrected_proofs/9/stoney0062_Leanabell-Prover-DS-SFT/5.txt  \n",
            "  inflating: proofs/corrected_proofs/9/stoney0062_Leanabell-Prover-DS-SFT/6.txt  \n",
            "  inflating: proofs/corrected_proofs/9/stoney0062_Leanabell-Prover-DS-SFT/7.txt  \n",
            "  inflating: proofs/corrected_proofs/9/stoney0062_Leanabell-Prover-DS-SFT/3.txt  \n",
            "  inflating: proofs/corrected_proofs/9/stoney0062_Leanabell-Prover-DS-SFT/2.txt  \n",
            "  inflating: proofs/corrected_proofs/9/Goedel-LM_Goedel-Prover-SFT/1.txt  \n",
            "  inflating: proofs/corrected_proofs/9/deepseek-ai_DeepSeek-Prover-V2-7B/8.txt  \n",
            "  inflating: proofs/corrected_proofs/9/deepseek-ai_DeepSeek-Prover-V2-7B/5.txt  \n",
            "  inflating: proofs/corrected_proofs/9/deepseek-ai_DeepSeek-Prover-V2-7B/1.txt  \n",
            "  inflating: proofs/corrected_proofs/0/AI-MO_Kimina-Prover-Preview-Distill-7B/6.txt  \n",
            "  inflating: proofs/corrected_proofs/0/AI-MO_Kimina-Prover-Preview-Distill-7B/7.txt  \n",
            "  inflating: proofs/corrected_proofs/0/AI-MO_Kimina-Prover-Preview-Distill-7B/3.txt  \n",
            "  inflating: proofs/corrected_proofs/0/AI-MO_Kimina-Prover-Preview-Distill-7B/1.txt  \n",
            "  inflating: proofs/corrected_proofs/0/kfdong_STP_model_Lean/8.txt  \n",
            "  inflating: proofs/corrected_proofs/0/kfdong_STP_model_Lean/5.txt  \n",
            "  inflating: proofs/corrected_proofs/0/kfdong_STP_model_Lean/4.txt  \n",
            "  inflating: proofs/corrected_proofs/0/kfdong_STP_model_Lean/6.txt  \n",
            "  inflating: proofs/corrected_proofs/0/kfdong_STP_model_Lean/7.txt  \n",
            "  inflating: proofs/corrected_proofs/0/kfdong_STP_model_Lean/3.txt  \n",
            "  inflating: proofs/corrected_proofs/0/kfdong_STP_model_Lean/1.txt  \n",
            "  inflating: proofs/corrected_proofs/0/ByteDance-Seed_BFS-Prover/8.txt  \n",
            "  inflating: proofs/corrected_proofs/0/ByteDance-Seed_BFS-Prover/5.txt  \n",
            "  inflating: proofs/corrected_proofs/0/ByteDance-Seed_BFS-Prover/6.txt  \n",
            "  inflating: proofs/corrected_proofs/0/ByteDance-Seed_BFS-Prover/7.txt  \n",
            "  inflating: proofs/corrected_proofs/0/ByteDance-Seed_BFS-Prover/1.txt  \n",
            "  inflating: proofs/corrected_proofs/0/stoney0062_Leanabell-Prover-DS-SFT/8.txt  \n",
            "  inflating: proofs/corrected_proofs/0/stoney0062_Leanabell-Prover-DS-SFT/5.txt  \n",
            "  inflating: proofs/corrected_proofs/0/stoney0062_Leanabell-Prover-DS-SFT/4.txt  \n",
            "  inflating: proofs/corrected_proofs/0/stoney0062_Leanabell-Prover-DS-SFT/6.txt  \n",
            "  inflating: proofs/corrected_proofs/0/stoney0062_Leanabell-Prover-DS-SFT/7.txt  \n",
            "  inflating: proofs/corrected_proofs/0/stoney0062_Leanabell-Prover-DS-SFT/3.txt  \n",
            "  inflating: proofs/corrected_proofs/0/stoney0062_Leanabell-Prover-DS-SFT/2.txt  \n",
            "  inflating: proofs/corrected_proofs/0/stoney0062_Leanabell-Prover-DS-SFT/1.txt  \n",
            "  inflating: proofs/corrected_proofs/0/deepseek-ai_DeepSeek-Prover-V1/5.txt  \n",
            "  inflating: proofs/corrected_proofs/0/deepseek-ai_DeepSeek-Prover-V1/4.txt  \n",
            "  inflating: proofs/corrected_proofs/0/deepseek-ai_DeepSeek-Prover-V1/3.txt  \n",
            "  inflating: proofs/corrected_proofs/0/deepseek-ai_DeepSeek-Prover-V1/2.txt  \n",
            "  inflating: proofs/corrected_proofs/0/deepseek-ai_DeepSeek-Prover-V1/1.txt  \n",
            "  inflating: proofs/corrected_proofs/0/Goedel-LM_Goedel-Prover-SFT/8.txt  \n",
            "  inflating: proofs/corrected_proofs/0/Goedel-LM_Goedel-Prover-SFT/5.txt  \n",
            "  inflating: proofs/corrected_proofs/0/Goedel-LM_Goedel-Prover-SFT/7.txt  \n",
            "  inflating: proofs/corrected_proofs/0/Goedel-LM_Goedel-Prover-SFT/3.txt  \n",
            "  inflating: proofs/corrected_proofs/0/deepseek-ai_DeepSeek-Prover-V2-7B/5.txt  \n",
            "  inflating: proofs/corrected_proofs/0/deepseek-ai_DeepSeek-Prover-V2-7B/4.txt  \n",
            "  inflating: proofs/corrected_proofs/0/deepseek-ai_DeepSeek-Prover-V2-7B/7.txt  \n",
            "  inflating: proofs/corrected_proofs/0/deepseek-ai_DeepSeek-Prover-V2-7B/3.txt  \n",
            "  inflating: proofs/corrected_proofs/0/deepseek-ai_DeepSeek-Prover-V2-7B/1.txt  \n",
            "  inflating: proofs/corrected_proofs/0/deepseek-ai_DeepSeek-Prover-V1.5-RL/8.txt  \n",
            "  inflating: proofs/corrected_proofs/0/deepseek-ai_DeepSeek-Prover-V1.5-RL/5.txt  \n",
            "  inflating: proofs/corrected_proofs/0/deepseek-ai_DeepSeek-Prover-V1.5-RL/6.txt  \n",
            "  inflating: proofs/corrected_proofs/0/deepseek-ai_DeepSeek-Prover-V1.5-RL/7.txt  \n",
            "  inflating: proofs/corrected_proofs/0/deepseek-ai_DeepSeek-Prover-V1.5-RL/3.txt  \n",
            "  inflating: proofs/corrected_proofs/0/deepseek-ai_DeepSeek-Prover-V1.5-RL/2.txt  \n",
            "  inflating: proofs/corrected_proofs/11/AI-MO_Kimina-Prover-Preview-Distill-7B/5.txt  \n",
            "  inflating: proofs/corrected_proofs/11/AI-MO_Kimina-Prover-Preview-Distill-7B/4.txt  \n",
            "  inflating: proofs/corrected_proofs/11/AI-MO_Kimina-Prover-Preview-Distill-7B/6.txt  \n",
            "  inflating: proofs/corrected_proofs/11/AI-MO_Kimina-Prover-Preview-Distill-7B/7.txt  \n",
            "  inflating: proofs/corrected_proofs/11/AI-MO_Kimina-Prover-Preview-Distill-7B/3.txt  \n",
            "  inflating: proofs/corrected_proofs/11/kfdong_STP_model_Lean/6.txt  \n",
            "  inflating: proofs/corrected_proofs/11/kfdong_STP_model_Lean/7.txt  \n",
            "  inflating: proofs/corrected_proofs/11/kfdong_STP_model_Lean/3.txt  \n",
            "  inflating: proofs/corrected_proofs/11/kfdong_STP_model_Lean/1.txt  \n",
            "  inflating: proofs/corrected_proofs/11/deepseek-ai_DeepSeek-Prover-V1/8.txt  \n",
            "  inflating: proofs/corrected_proofs/11/deepseek-ai_DeepSeek-Prover-V1/5.txt  \n",
            "  inflating: proofs/corrected_proofs/11/deepseek-ai_DeepSeek-Prover-V1/6.txt  \n",
            "  inflating: proofs/corrected_proofs/11/deepseek-ai_DeepSeek-Prover-V1/7.txt  \n",
            "  inflating: proofs/corrected_proofs/11/deepseek-ai_DeepSeek-Prover-V1/2.txt  \n",
            "  inflating: proofs/corrected_proofs/11/deepseek-ai_DeepSeek-Prover-V1/1.txt  \n",
            "  inflating: proofs/corrected_proofs/11/Goedel-LM_Goedel-Prover-SFT/4.txt  \n",
            "  inflating: proofs/corrected_proofs/11/Goedel-LM_Goedel-Prover-SFT/6.txt  \n",
            "  inflating: proofs/corrected_proofs/11/deepseek-ai_DeepSeek-Prover-V2-7B/8.txt  \n",
            "  inflating: proofs/corrected_proofs/11/deepseek-ai_DeepSeek-Prover-V2-7B/7.txt  \n",
            "  inflating: proofs/corrected_proofs/11/deepseek-ai_DeepSeek-Prover-V2-7B/3.txt  \n",
            "  inflating: proofs/corrected_proofs/11/deepseek-ai_DeepSeek-Prover-V2-7B/2.txt  \n",
            "  inflating: proofs/corrected_proofs/11/deepseek-ai_DeepSeek-Prover-V2-7B/1.txt  \n",
            "  inflating: proofs/corrected_proofs/11/deepseek-ai_DeepSeek-Prover-V1.5-RL/8.txt  \n",
            "  inflating: proofs/corrected_proofs/11/deepseek-ai_DeepSeek-Prover-V1.5-RL/5.txt  \n",
            "  inflating: proofs/corrected_proofs/11/deepseek-ai_DeepSeek-Prover-V1.5-RL/6.txt  \n",
            "  inflating: proofs/corrected_proofs/11/deepseek-ai_DeepSeek-Prover-V1.5-RL/1.txt  \n",
            "  inflating: proofs/corrected_proofs/7/AI-MO_Kimina-Prover-Preview-Distill-7B/5.txt  \n",
            "   creating: proofs/corrected_proofs/7/AI-MO_Kimina-Prover-Preview-Distill-7B/.ipynb_checkpoints/\n",
            "  inflating: proofs/corrected_proofs/7/kfdong_STP_model_Lean/8.txt  \n",
            "  inflating: proofs/corrected_proofs/7/kfdong_STP_model_Lean/5.txt  \n",
            "  inflating: proofs/corrected_proofs/7/kfdong_STP_model_Lean/4.txt  \n",
            "  inflating: proofs/corrected_proofs/7/kfdong_STP_model_Lean/6.txt  \n",
            "  inflating: proofs/corrected_proofs/7/kfdong_STP_model_Lean/7.txt  \n",
            "  inflating: proofs/corrected_proofs/7/kfdong_STP_model_Lean/3.txt  \n",
            "  inflating: proofs/corrected_proofs/7/kfdong_STP_model_Lean/2.txt  \n",
            "  inflating: proofs/corrected_proofs/7/kfdong_STP_model_Lean/1.txt  \n",
            "  inflating: proofs/corrected_proofs/7/deepseek-ai_DeepSeek-Prover-V2-7B/6.txt  \n",
            "  inflating: proofs/corrected_proofs/7/deepseek-ai_DeepSeek-Prover-V1.5-RL/8.txt  \n",
            "  inflating: proofs/corrected_proofs/7/deepseek-ai_DeepSeek-Prover-V1.5-RL/4.txt  \n",
            "  inflating: proofs/corrected_proofs/7/deepseek-ai_DeepSeek-Prover-V1.5-RL/6.txt  \n",
            "  inflating: proofs/corrected_proofs/7/deepseek-ai_DeepSeek-Prover-V1.5-RL/7.txt  \n",
            "  inflating: proofs/corrected_proofs/7/deepseek-ai_DeepSeek-Prover-V1.5-RL/2.txt  \n",
            "  inflating: proofs/corrected_proofs/7/deepseek-ai_DeepSeek-Prover-V1.5-RL/1.txt  \n",
            "  inflating: proofs/corrected_proofs/29/AI-MO_Kimina-Prover-Preview-Distill-7B/4.txt  \n",
            "  inflating: proofs/corrected_proofs/29/AI-MO_Kimina-Prover-Preview-Distill-7B/6.txt  \n",
            "  inflating: proofs/corrected_proofs/29/AI-MO_Kimina-Prover-Preview-Distill-7B/7.txt  \n",
            "  inflating: proofs/corrected_proofs/29/AI-MO_Kimina-Prover-Preview-Distill-7B/3.txt  \n",
            "  inflating: proofs/corrected_proofs/29/AI-MO_Kimina-Prover-Preview-Distill-7B/1.txt  \n",
            "   creating: proofs/corrected_proofs/29/AI-MO_Kimina-Prover-Preview-Distill-7B/.ipynb_checkpoints/\n",
            "  inflating: proofs/corrected_proofs/29/kfdong_STP_model_Lean/5.txt  \n",
            "  inflating: proofs/corrected_proofs/29/kfdong_STP_model_Lean/4.txt  \n",
            "  inflating: proofs/corrected_proofs/29/kfdong_STP_model_Lean/6.txt  \n",
            "  inflating: proofs/corrected_proofs/29/kfdong_STP_model_Lean/7.txt  \n",
            "  inflating: proofs/corrected_proofs/29/kfdong_STP_model_Lean/2.txt  \n",
            "  inflating: proofs/corrected_proofs/29/kfdong_STP_model_Lean/1.txt  \n",
            "  inflating: proofs/corrected_proofs/29/deepseek-ai_DeepSeek-Prover-V1/8.txt  \n",
            "  inflating: proofs/corrected_proofs/29/deepseek-ai_DeepSeek-Prover-V1/6.txt  \n",
            "  inflating: proofs/corrected_proofs/29/deepseek-ai_DeepSeek-Prover-V1/7.txt  \n",
            "  inflating: proofs/corrected_proofs/29/deepseek-ai_DeepSeek-Prover-V1/3.txt  \n",
            "  inflating: proofs/corrected_proofs/29/deepseek-ai_DeepSeek-Prover-V1/2.txt  \n",
            "  inflating: proofs/corrected_proofs/29/Goedel-LM_Goedel-Prover-SFT/5.txt  \n",
            "  inflating: proofs/corrected_proofs/29/Goedel-LM_Goedel-Prover-SFT/4.txt  \n",
            "  inflating: proofs/corrected_proofs/29/Goedel-LM_Goedel-Prover-SFT/6.txt  \n",
            "  inflating: proofs/corrected_proofs/29/Goedel-LM_Goedel-Prover-SFT/3.txt  \n",
            "  inflating: proofs/corrected_proofs/29/Goedel-LM_Goedel-Prover-SFT/2.txt  \n",
            "  inflating: proofs/corrected_proofs/29/Goedel-LM_Goedel-Prover-SFT/1.txt  \n",
            "  inflating: proofs/corrected_proofs/29/deepseek-ai_DeepSeek-Prover-V2-7B/8.txt  \n",
            "  inflating: proofs/corrected_proofs/29/deepseek-ai_DeepSeek-Prover-V2-7B/5.txt  \n",
            "  inflating: proofs/corrected_proofs/29/deepseek-ai_DeepSeek-Prover-V2-7B/4.txt  \n",
            "  inflating: proofs/corrected_proofs/29/deepseek-ai_DeepSeek-Prover-V2-7B/7.txt  \n",
            "  inflating: proofs/corrected_proofs/29/deepseek-ai_DeepSeek-Prover-V1.5-RL/8.txt  \n",
            "  inflating: proofs/corrected_proofs/29/deepseek-ai_DeepSeek-Prover-V1.5-RL/4.txt  \n",
            "  inflating: proofs/corrected_proofs/29/deepseek-ai_DeepSeek-Prover-V1.5-RL/3.txt  \n",
            "  inflating: proofs/corrected_proofs/29/deepseek-ai_DeepSeek-Prover-V1.5-RL/1.txt  \n",
            "  inflating: proofs/corrected_proofs/17/AI-MO_Kimina-Prover-Preview-Distill-7B/8.txt  \n",
            "  inflating: proofs/corrected_proofs/17/AI-MO_Kimina-Prover-Preview-Distill-7B/4.txt  \n",
            "  inflating: proofs/corrected_proofs/17/AI-MO_Kimina-Prover-Preview-Distill-7B/6.txt  \n",
            "  inflating: proofs/corrected_proofs/17/AI-MO_Kimina-Prover-Preview-Distill-7B/7.txt  \n",
            "  inflating: proofs/corrected_proofs/17/AI-MO_Kimina-Prover-Preview-Distill-7B/2.txt  \n",
            "  inflating: proofs/corrected_proofs/17/AI-MO_Kimina-Prover-Preview-Distill-7B/1.txt  \n",
            "  inflating: proofs/corrected_proofs/17/kfdong_STP_model_Lean/8.txt  \n",
            "  inflating: proofs/corrected_proofs/17/kfdong_STP_model_Lean/5.txt  \n",
            "  inflating: proofs/corrected_proofs/17/kfdong_STP_model_Lean/6.txt  \n",
            "  inflating: proofs/corrected_proofs/17/kfdong_STP_model_Lean/3.txt  \n",
            "  inflating: proofs/corrected_proofs/17/kfdong_STP_model_Lean/2.txt  \n",
            "  inflating: proofs/corrected_proofs/17/kfdong_STP_model_Lean/1.txt  \n",
            "  inflating: proofs/corrected_proofs/17/ByteDance-Seed_BFS-Prover/8.txt  \n",
            "  inflating: proofs/corrected_proofs/17/ByteDance-Seed_BFS-Prover/5.txt  \n",
            "  inflating: proofs/corrected_proofs/17/ByteDance-Seed_BFS-Prover/4.txt  \n",
            "  inflating: proofs/corrected_proofs/17/ByteDance-Seed_BFS-Prover/6.txt  \n",
            "  inflating: proofs/corrected_proofs/17/ByteDance-Seed_BFS-Prover/7.txt  \n",
            "  inflating: proofs/corrected_proofs/17/ByteDance-Seed_BFS-Prover/3.txt  \n",
            "  inflating: proofs/corrected_proofs/17/ByteDance-Seed_BFS-Prover/2.txt  \n",
            "  inflating: proofs/corrected_proofs/17/ByteDance-Seed_BFS-Prover/1.txt  \n",
            "  inflating: proofs/corrected_proofs/17/deepseek-ai_DeepSeek-Prover-V1/8.txt  \n",
            "  inflating: proofs/corrected_proofs/17/deepseek-ai_DeepSeek-Prover-V1/5.txt  \n",
            "  inflating: proofs/corrected_proofs/17/deepseek-ai_DeepSeek-Prover-V1/4.txt  \n",
            "  inflating: proofs/corrected_proofs/17/deepseek-ai_DeepSeek-Prover-V1/7.txt  \n",
            "  inflating: proofs/corrected_proofs/17/deepseek-ai_DeepSeek-Prover-V1/2.txt  \n",
            "  inflating: proofs/corrected_proofs/17/deepseek-ai_DeepSeek-Prover-V1/1.txt  \n",
            "  inflating: proofs/corrected_proofs/17/Goedel-LM_Goedel-Prover-SFT/8.txt  \n",
            "  inflating: proofs/corrected_proofs/17/Goedel-LM_Goedel-Prover-SFT/5.txt  \n",
            "  inflating: proofs/corrected_proofs/17/Goedel-LM_Goedel-Prover-SFT/6.txt  \n",
            "  inflating: proofs/corrected_proofs/17/Goedel-LM_Goedel-Prover-SFT/3.txt  \n",
            "  inflating: proofs/corrected_proofs/17/Goedel-LM_Goedel-Prover-SFT/2.txt  \n",
            "  inflating: proofs/corrected_proofs/17/deepseek-ai_DeepSeek-Prover-V2-7B/4.txt  \n",
            "  inflating: proofs/corrected_proofs/17/deepseek-ai_DeepSeek-Prover-V2-7B/6.txt  \n",
            "  inflating: proofs/corrected_proofs/17/deepseek-ai_DeepSeek-Prover-V2-7B/7.txt  \n",
            "  inflating: proofs/corrected_proofs/17/deepseek-ai_DeepSeek-Prover-V2-7B/2.txt  \n",
            "  inflating: proofs/corrected_proofs/17/deepseek-ai_DeepSeek-Prover-V1.5-RL/8.txt  \n",
            "  inflating: proofs/corrected_proofs/17/deepseek-ai_DeepSeek-Prover-V1.5-RL/4.txt  \n",
            "  inflating: proofs/corrected_proofs/17/deepseek-ai_DeepSeek-Prover-V1.5-RL/6.txt  \n",
            "  inflating: proofs/corrected_proofs/17/deepseek-ai_DeepSeek-Prover-V1.5-RL/7.txt  \n",
            "  inflating: proofs/corrected_proofs/17/deepseek-ai_DeepSeek-Prover-V1.5-RL/3.txt  \n",
            "  inflating: proofs/corrected_proofs/17/deepseek-ai_DeepSeek-Prover-V1.5-RL/2.txt  \n",
            "  inflating: proofs/corrected_proofs/17/deepseek-ai_DeepSeek-Prover-V1.5-RL/1.txt  \n",
            "  inflating: proofs/corrected_proofs/1/kfdong_STP_model_Lean/5.txt  \n",
            "  inflating: proofs/corrected_proofs/1/kfdong_STP_model_Lean/1.txt  \n",
            "  inflating: proofs/corrected_proofs/1/stoney0062_Leanabell-Prover-DS-SFT/8.txt  \n",
            "  inflating: proofs/corrected_proofs/1/stoney0062_Leanabell-Prover-DS-SFT/5.txt  \n",
            "  inflating: proofs/corrected_proofs/1/stoney0062_Leanabell-Prover-DS-SFT/4.txt  \n",
            "  inflating: proofs/corrected_proofs/1/stoney0062_Leanabell-Prover-DS-SFT/6.txt  \n",
            "  inflating: proofs/corrected_proofs/1/stoney0062_Leanabell-Prover-DS-SFT/7.txt  \n",
            "  inflating: proofs/corrected_proofs/1/stoney0062_Leanabell-Prover-DS-SFT/3.txt  \n",
            "  inflating: proofs/corrected_proofs/1/stoney0062_Leanabell-Prover-DS-SFT/2.txt  \n",
            "  inflating: proofs/corrected_proofs/1/stoney0062_Leanabell-Prover-DS-SFT/1.txt  \n",
            "  inflating: proofs/corrected_proofs/1/Goedel-LM_Goedel-Prover-SFT/5.txt  \n",
            "  inflating: proofs/corrected_proofs/1/Goedel-LM_Goedel-Prover-SFT/4.txt  \n",
            "  inflating: proofs/corrected_proofs/1/Goedel-LM_Goedel-Prover-SFT/7.txt  \n",
            "  inflating: proofs/corrected_proofs/1/Goedel-LM_Goedel-Prover-SFT/1.txt  \n",
            "  inflating: proofs/corrected_proofs/1/deepseek-ai_DeepSeek-Prover-V2-7B/8.txt  \n",
            "  inflating: proofs/corrected_proofs/1/deepseek-ai_DeepSeek-Prover-V2-7B/4.txt  \n",
            "  inflating: proofs/corrected_proofs/1/deepseek-ai_DeepSeek-Prover-V2-7B/6.txt  \n",
            "  inflating: proofs/corrected_proofs/1/deepseek-ai_DeepSeek-Prover-V2-7B/7.txt  \n",
            "  inflating: proofs/corrected_proofs/1/deepseek-ai_DeepSeek-Prover-V2-7B/3.txt  \n",
            "  inflating: proofs/corrected_proofs/1/deepseek-ai_DeepSeek-Prover-V2-7B/2.txt  \n",
            "  inflating: proofs/corrected_proofs/10/AI-MO_Kimina-Prover-Preview-Distill-7B/8.txt  \n",
            "  inflating: proofs/corrected_proofs/10/AI-MO_Kimina-Prover-Preview-Distill-7B/5.txt  \n",
            "  inflating: proofs/corrected_proofs/10/AI-MO_Kimina-Prover-Preview-Distill-7B/4.txt  \n",
            "  inflating: proofs/corrected_proofs/10/AI-MO_Kimina-Prover-Preview-Distill-7B/2.txt  \n",
            "  inflating: proofs/corrected_proofs/10/AI-MO_Kimina-Prover-Preview-Distill-7B/1.txt  \n",
            "  inflating: proofs/corrected_proofs/10/kfdong_STP_model_Lean/8.txt  \n",
            "  inflating: proofs/corrected_proofs/10/kfdong_STP_model_Lean/4.txt  \n",
            "  inflating: proofs/corrected_proofs/10/kfdong_STP_model_Lean/6.txt  \n",
            "  inflating: proofs/corrected_proofs/10/kfdong_STP_model_Lean/7.txt  \n",
            "  inflating: proofs/corrected_proofs/10/kfdong_STP_model_Lean/3.txt  \n",
            "  inflating: proofs/corrected_proofs/10/kfdong_STP_model_Lean/2.txt  \n",
            "  inflating: proofs/corrected_proofs/10/kfdong_STP_model_Lean/1.txt  \n",
            "  inflating: proofs/corrected_proofs/10/ByteDance-Seed_BFS-Prover/4.txt  \n",
            "  inflating: proofs/corrected_proofs/10/ByteDance-Seed_BFS-Prover/7.txt  \n",
            "  inflating: proofs/corrected_proofs/10/ByteDance-Seed_BFS-Prover/2.txt  \n",
            "  inflating: proofs/corrected_proofs/10/ByteDance-Seed_BFS-Prover/1.txt  \n",
            "  inflating: proofs/corrected_proofs/10/stoney0062_Leanabell-Prover-DS-SFT/8.txt  \n",
            "  inflating: proofs/corrected_proofs/10/stoney0062_Leanabell-Prover-DS-SFT/4.txt  \n",
            "  inflating: proofs/corrected_proofs/10/stoney0062_Leanabell-Prover-DS-SFT/6.txt  \n",
            "  inflating: proofs/corrected_proofs/10/stoney0062_Leanabell-Prover-DS-SFT/7.txt  \n",
            "  inflating: proofs/corrected_proofs/10/stoney0062_Leanabell-Prover-DS-SFT/3.txt  \n",
            "  inflating: proofs/corrected_proofs/10/stoney0062_Leanabell-Prover-DS-SFT/2.txt  \n",
            "  inflating: proofs/corrected_proofs/10/stoney0062_Leanabell-Prover-DS-SFT/1.txt  \n",
            "  inflating: proofs/corrected_proofs/10/deepseek-ai_DeepSeek-Prover-V1/8.txt  \n",
            "  inflating: proofs/corrected_proofs/10/deepseek-ai_DeepSeek-Prover-V1/5.txt  \n",
            "  inflating: proofs/corrected_proofs/10/deepseek-ai_DeepSeek-Prover-V1/4.txt  \n",
            "  inflating: proofs/corrected_proofs/10/deepseek-ai_DeepSeek-Prover-V1/6.txt  \n",
            "  inflating: proofs/corrected_proofs/10/deepseek-ai_DeepSeek-Prover-V1/7.txt  \n",
            "  inflating: proofs/corrected_proofs/10/deepseek-ai_DeepSeek-Prover-V1/3.txt  \n",
            "  inflating: proofs/corrected_proofs/10/deepseek-ai_DeepSeek-Prover-V1/2.txt  \n",
            "  inflating: proofs/corrected_proofs/10/Goedel-LM_Goedel-Prover-SFT/7.txt  \n",
            "  inflating: proofs/corrected_proofs/10/Goedel-LM_Goedel-Prover-SFT/3.txt  \n",
            "  inflating: proofs/corrected_proofs/10/Goedel-LM_Goedel-Prover-SFT/1.txt  \n",
            "  inflating: proofs/corrected_proofs/10/wellecks_llmstep-mathlib4-pythia2.8b/5.txt  \n",
            "  inflating: proofs/corrected_proofs/10/wellecks_llmstep-mathlib4-pythia2.8b/3.txt  \n",
            "  inflating: proofs/corrected_proofs/10/deepseek-ai_DeepSeek-Prover-V2-7B/8.txt  \n",
            "  inflating: proofs/corrected_proofs/10/deepseek-ai_DeepSeek-Prover-V2-7B/6.txt  \n",
            "  inflating: proofs/corrected_proofs/10/deepseek-ai_DeepSeek-Prover-V2-7B/1.txt  \n",
            "  inflating: proofs/corrected_proofs/10/deepseek-ai_DeepSeek-Prover-V1.5-RL/5.txt  \n",
            "  inflating: proofs/corrected_proofs/10/deepseek-ai_DeepSeek-Prover-V1.5-RL/4.txt  \n",
            "  inflating: proofs/corrected_proofs/26/AI-MO_Kimina-Prover-Preview-Distill-7B/5.txt  \n",
            "  inflating: proofs/corrected_proofs/8/AI-MO_Kimina-Prover-Preview-Distill-7B/4.txt  \n",
            "  inflating: proofs/corrected_proofs/8/AI-MO_Kimina-Prover-Preview-Distill-7B/7.txt  \n",
            "  inflating: proofs/corrected_proofs/8/kfdong_STP_model_Lean/8.txt  \n",
            "  inflating: proofs/corrected_proofs/8/kfdong_STP_model_Lean/5.txt  \n",
            "  inflating: proofs/corrected_proofs/8/kfdong_STP_model_Lean/4.txt  \n",
            "  inflating: proofs/corrected_proofs/8/kfdong_STP_model_Lean/7.txt  \n",
            "  inflating: proofs/corrected_proofs/8/kfdong_STP_model_Lean/2.txt  \n",
            "  inflating: proofs/corrected_proofs/8/kfdong_STP_model_Lean/1.txt  \n",
            "  inflating: proofs/corrected_proofs/8/ByteDance-Seed_BFS-Prover/8.txt  \n",
            "  inflating: proofs/corrected_proofs/8/ByteDance-Seed_BFS-Prover/4.txt  \n",
            "  inflating: proofs/corrected_proofs/8/ByteDance-Seed_BFS-Prover/6.txt  \n",
            "  inflating: proofs/corrected_proofs/8/ByteDance-Seed_BFS-Prover/7.txt  \n",
            "  inflating: proofs/corrected_proofs/8/ByteDance-Seed_BFS-Prover/3.txt  \n",
            "  inflating: proofs/corrected_proofs/8/ByteDance-Seed_BFS-Prover/2.txt  \n",
            "  inflating: proofs/corrected_proofs/8/ByteDance-Seed_BFS-Prover/1.txt  \n",
            "  inflating: proofs/corrected_proofs/8/stoney0062_Leanabell-Prover-DS-SFT/8.txt  \n",
            "  inflating: proofs/corrected_proofs/8/stoney0062_Leanabell-Prover-DS-SFT/5.txt  \n",
            "  inflating: proofs/corrected_proofs/8/stoney0062_Leanabell-Prover-DS-SFT/4.txt  \n",
            "  inflating: proofs/corrected_proofs/8/stoney0062_Leanabell-Prover-DS-SFT/7.txt  \n",
            "  inflating: proofs/corrected_proofs/8/stoney0062_Leanabell-Prover-DS-SFT/3.txt  \n",
            "  inflating: proofs/corrected_proofs/8/stoney0062_Leanabell-Prover-DS-SFT/1.txt  \n",
            "  inflating: proofs/corrected_proofs/8/deepseek-ai_DeepSeek-Prover-V1/8.txt  \n",
            "  inflating: proofs/corrected_proofs/8/deepseek-ai_DeepSeek-Prover-V1/5.txt  \n",
            "  inflating: proofs/corrected_proofs/8/deepseek-ai_DeepSeek-Prover-V1/4.txt  \n",
            "  inflating: proofs/corrected_proofs/8/deepseek-ai_DeepSeek-Prover-V1/6.txt  \n",
            "  inflating: proofs/corrected_proofs/8/deepseek-ai_DeepSeek-Prover-V1/7.txt  \n",
            "  inflating: proofs/corrected_proofs/8/deepseek-ai_DeepSeek-Prover-V1/3.txt  \n",
            "  inflating: proofs/corrected_proofs/8/deepseek-ai_DeepSeek-Prover-V1/2.txt  \n",
            "  inflating: proofs/corrected_proofs/8/deepseek-ai_DeepSeek-Prover-V1/1.txt  \n",
            "  inflating: proofs/corrected_proofs/8/Goedel-LM_Goedel-Prover-SFT/5.txt  \n",
            "  inflating: proofs/corrected_proofs/8/Goedel-LM_Goedel-Prover-SFT/4.txt  \n",
            "  inflating: proofs/corrected_proofs/8/Goedel-LM_Goedel-Prover-SFT/2.txt  \n",
            "  inflating: proofs/corrected_proofs/8/Goedel-LM_Goedel-Prover-SFT/1.txt  \n",
            "  inflating: proofs/corrected_proofs/8/deepseek-ai_DeepSeek-Prover-V2-7B/1.txt  \n",
            "  inflating: proofs/corrected_proofs/8/deepseek-ai_DeepSeek-Prover-V1.5-RL/7.txt  \n",
            "  inflating: proofs/corrected_proofs/8/deepseek-ai_DeepSeek-Prover-V1.5-RL/2.txt  \n",
            "  inflating: proofs/corrected_proofs/21/kfdong_STP_model_Lean/8.txt  \n",
            "  inflating: proofs/corrected_proofs/21/kfdong_STP_model_Lean/2.txt  \n",
            "  inflating: proofs/corrected_proofs/21/kfdong_STP_model_Lean/1.txt  \n",
            "  inflating: proofs/corrected_proofs/21/deepseek-ai_DeepSeek-Prover-V2-7B/8.txt  \n",
            "  inflating: proofs/corrected_proofs/21/deepseek-ai_DeepSeek-Prover-V2-7B/4.txt  \n",
            "  inflating: proofs/corrected_proofs/21/deepseek-ai_DeepSeek-Prover-V2-7B/6.txt  \n",
            "  inflating: proofs/corrected_proofs/21/deepseek-ai_DeepSeek-Prover-V2-7B/7.txt  \n",
            "  inflating: proofs/corrected_proofs/21/deepseek-ai_DeepSeek-Prover-V2-7B/3.txt  \n",
            "  inflating: proofs/corrected_proofs/21/deepseek-ai_DeepSeek-Prover-V2-7B/2.txt  \n",
            "  inflating: proofs/corrected_proofs/21/deepseek-ai_DeepSeek-Prover-V2-7B/1.txt  \n",
            "  inflating: proofs/corrected_proofs/38/kfdong_STP_model_Lean/5.txt  \n",
            "  inflating: proofs/corrected_proofs/38/kfdong_STP_model_Lean/4.txt  \n",
            "  inflating: proofs/corrected_proofs/38/kfdong_STP_model_Lean/7.txt  \n",
            "  inflating: proofs/corrected_proofs/38/kfdong_STP_model_Lean/3.txt  \n",
            "  inflating: proofs/corrected_proofs/38/kfdong_STP_model_Lean/1.txt  \n",
            "  inflating: proofs/corrected_proofs/38/ByteDance-Seed_BFS-Prover/5.txt  \n",
            "  inflating: proofs/corrected_proofs/38/ByteDance-Seed_BFS-Prover/4.txt  \n",
            "  inflating: proofs/corrected_proofs/38/ByteDance-Seed_BFS-Prover/3.txt  \n",
            "  inflating: proofs/corrected_proofs/38/deepseek-ai_DeepSeek-Prover-V1/8.txt  \n",
            "  inflating: proofs/corrected_proofs/38/deepseek-ai_DeepSeek-Prover-V1/5.txt  \n",
            "  inflating: proofs/corrected_proofs/38/deepseek-ai_DeepSeek-Prover-V1/4.txt  \n",
            "  inflating: proofs/corrected_proofs/38/deepseek-ai_DeepSeek-Prover-V1/6.txt  \n",
            "  inflating: proofs/corrected_proofs/38/deepseek-ai_DeepSeek-Prover-V1/3.txt  \n",
            "  inflating: proofs/corrected_proofs/38/deepseek-ai_DeepSeek-Prover-V1/2.txt  \n",
            "  inflating: proofs/corrected_proofs/38/deepseek-ai_DeepSeek-Prover-V1/1.txt  \n",
            "  inflating: proofs/corrected_proofs/38/Goedel-LM_Goedel-Prover-SFT/8.txt  \n",
            "  inflating: proofs/corrected_proofs/38/Goedel-LM_Goedel-Prover-SFT/2.txt  \n",
            "  inflating: proofs/corrected_proofs/38/deepseek-ai_DeepSeek-Prover-V2-7B/4.txt  \n",
            "  inflating: proofs/corrected_proofs/38/deepseek-ai_DeepSeek-Prover-V2-7B/6.txt  \n",
            "  inflating: proofs/corrected_proofs/38/deepseek-ai_DeepSeek-Prover-V1.5-RL/8.txt  \n",
            "  inflating: proofs/corrected_proofs/38/deepseek-ai_DeepSeek-Prover-V1.5-RL/5.txt  \n",
            "  inflating: proofs/corrected_proofs/38/deepseek-ai_DeepSeek-Prover-V1.5-RL/6.txt  \n",
            "  inflating: proofs/corrected_proofs/38/deepseek-ai_DeepSeek-Prover-V1.5-RL/3.txt  \n",
            "  inflating: proofs/corrected_proofs/38/deepseek-ai_DeepSeek-Prover-V1.5-RL/2.txt  \n",
            "  inflating: proofs/corrected_proofs/31/Goedel-LM_Goedel-Prover-SFT/5.txt  \n",
            "  inflating: proofs/corrected_proofs/31/Goedel-LM_Goedel-Prover-SFT/6.txt  \n",
            "  inflating: proofs/corrected_proofs/39/deepseek-ai_DeepSeek-Prover-V2-7B/7.txt  \n",
            "  inflating: proofs/corrected_proofs/39/deepseek-ai_DeepSeek-Prover-V2-7B/2.txt  \n",
            "  inflating: proofs/corrected_proofs/39/deepseek-ai_DeepSeek-Prover-V2-7B/1.txt  \n",
            "  inflating: proofs/corrected_proofs/39/deepseek-ai_DeepSeek-Prover-V1.5-RL/5.txt  \n",
            "  inflating: proofs/corrected_proofs/39/deepseek-ai_DeepSeek-Prover-V1.5-RL/7.txt  \n",
            "  inflating: proofs/corrected_proofs/23/AI-MO_Kimina-Prover-Preview-Distill-7B/8.txt  \n",
            "  inflating: proofs/corrected_proofs/23/AI-MO_Kimina-Prover-Preview-Distill-7B/5.txt  \n",
            "  inflating: proofs/corrected_proofs/23/AI-MO_Kimina-Prover-Preview-Distill-7B/4.txt  \n",
            "  inflating: proofs/corrected_proofs/23/AI-MO_Kimina-Prover-Preview-Distill-7B/6.txt  \n",
            "  inflating: proofs/corrected_proofs/23/AI-MO_Kimina-Prover-Preview-Distill-7B/7.txt  \n",
            "  inflating: proofs/corrected_proofs/23/AI-MO_Kimina-Prover-Preview-Distill-7B/3.txt  \n",
            "  inflating: proofs/corrected_proofs/23/AI-MO_Kimina-Prover-Preview-Distill-7B/2.txt  \n",
            "   creating: proofs/corrected_proofs/23/AI-MO_Kimina-Prover-Preview-Distill-7B/.ipynb_checkpoints/\n",
            "  inflating: proofs/corrected_proofs/23/kfdong_STP_model_Lean/8.txt  \n",
            "  inflating: proofs/corrected_proofs/23/kfdong_STP_model_Lean/5.txt  \n",
            "  inflating: proofs/corrected_proofs/23/kfdong_STP_model_Lean/4.txt  \n",
            "  inflating: proofs/corrected_proofs/23/kfdong_STP_model_Lean/6.txt  \n",
            "  inflating: proofs/corrected_proofs/23/kfdong_STP_model_Lean/7.txt  \n",
            "  inflating: proofs/corrected_proofs/23/kfdong_STP_model_Lean/3.txt  \n",
            "  inflating: proofs/corrected_proofs/23/kfdong_STP_model_Lean/2.txt  \n",
            "  inflating: proofs/corrected_proofs/23/kfdong_STP_model_Lean/1.txt  \n",
            "  inflating: proofs/corrected_proofs/23/ByteDance-Seed_BFS-Prover/8.txt  \n",
            "  inflating: proofs/corrected_proofs/23/ByteDance-Seed_BFS-Prover/5.txt  \n",
            "  inflating: proofs/corrected_proofs/23/ByteDance-Seed_BFS-Prover/4.txt  \n",
            "  inflating: proofs/corrected_proofs/23/ByteDance-Seed_BFS-Prover/7.txt  \n",
            "  inflating: proofs/corrected_proofs/23/ByteDance-Seed_BFS-Prover/3.txt  \n",
            "  inflating: proofs/corrected_proofs/23/ByteDance-Seed_BFS-Prover/2.txt  \n",
            "  inflating: proofs/corrected_proofs/23/ByteDance-Seed_BFS-Prover/1.txt  \n",
            "  inflating: proofs/corrected_proofs/23/deepseek-ai_DeepSeek-Prover-V1/5.txt  \n",
            "  inflating: proofs/corrected_proofs/23/deepseek-ai_DeepSeek-Prover-V1/4.txt  \n",
            "  inflating: proofs/corrected_proofs/23/deepseek-ai_DeepSeek-Prover-V1/6.txt  \n",
            "  inflating: proofs/corrected_proofs/23/deepseek-ai_DeepSeek-Prover-V1/7.txt  \n",
            "  inflating: proofs/corrected_proofs/23/deepseek-ai_DeepSeek-Prover-V1/3.txt  \n",
            "  inflating: proofs/corrected_proofs/23/deepseek-ai_DeepSeek-Prover-V1/2.txt  \n",
            "  inflating: proofs/corrected_proofs/23/deepseek-ai_DeepSeek-Prover-V1/1.txt  \n",
            "  inflating: proofs/corrected_proofs/23/Goedel-LM_Goedel-Prover-SFT/8.txt  \n",
            "  inflating: proofs/corrected_proofs/23/Goedel-LM_Goedel-Prover-SFT/5.txt  \n",
            "  inflating: proofs/corrected_proofs/23/Goedel-LM_Goedel-Prover-SFT/4.txt  \n",
            "  inflating: proofs/corrected_proofs/23/Goedel-LM_Goedel-Prover-SFT/7.txt  \n",
            "  inflating: proofs/corrected_proofs/23/Goedel-LM_Goedel-Prover-SFT/3.txt  \n",
            "  inflating: proofs/corrected_proofs/23/Goedel-LM_Goedel-Prover-SFT/2.txt  \n",
            "  inflating: proofs/corrected_proofs/23/Goedel-LM_Goedel-Prover-SFT/1.txt  \n",
            "  inflating: proofs/corrected_proofs/23/deepseek-ai_DeepSeek-Prover-V2-7B/8.txt  \n",
            "  inflating: proofs/corrected_proofs/23/deepseek-ai_DeepSeek-Prover-V2-7B/5.txt  \n",
            "  inflating: proofs/corrected_proofs/23/deepseek-ai_DeepSeek-Prover-V2-7B/4.txt  \n",
            "  inflating: proofs/corrected_proofs/23/deepseek-ai_DeepSeek-Prover-V2-7B/7.txt  \n",
            "  inflating: proofs/corrected_proofs/23/deepseek-ai_DeepSeek-Prover-V2-7B/3.txt  \n",
            "  inflating: proofs/corrected_proofs/23/deepseek-ai_DeepSeek-Prover-V2-7B/2.txt  \n",
            "  inflating: proofs/corrected_proofs/23/deepseek-ai_DeepSeek-Prover-V1.5-RL/8.txt  \n",
            "  inflating: proofs/corrected_proofs/23/deepseek-ai_DeepSeek-Prover-V1.5-RL/5.txt  \n",
            "  inflating: proofs/corrected_proofs/23/deepseek-ai_DeepSeek-Prover-V1.5-RL/4.txt  \n",
            "  inflating: proofs/corrected_proofs/23/deepseek-ai_DeepSeek-Prover-V1.5-RL/3.txt  \n",
            "  inflating: proofs/corrected_proofs/23/deepseek-ai_DeepSeek-Prover-V1.5-RL/1.txt  \n",
            "  inflating: proofs/corrected_proofs/4/AI-MO_Kimina-Prover-Preview-Distill-7B/7.txt  \n",
            "  inflating: proofs/corrected_proofs/4/AI-MO_Kimina-Prover-Preview-Distill-7B/2.txt  \n",
            "  inflating: proofs/corrected_proofs/4/AI-MO_Kimina-Prover-Preview-Distill-7B/1.txt  \n",
            "  inflating: proofs/corrected_proofs/4/kfdong_STP_model_Lean/8.txt  \n",
            "  inflating: proofs/corrected_proofs/4/kfdong_STP_model_Lean/5.txt  \n",
            "  inflating: proofs/corrected_proofs/4/kfdong_STP_model_Lean/4.txt  \n",
            "  inflating: proofs/corrected_proofs/4/kfdong_STP_model_Lean/6.txt  \n",
            "  inflating: proofs/corrected_proofs/4/kfdong_STP_model_Lean/7.txt  \n",
            "  inflating: proofs/corrected_proofs/4/ByteDance-Seed_BFS-Prover/8.txt  \n",
            "  inflating: proofs/corrected_proofs/4/ByteDance-Seed_BFS-Prover/4.txt  \n",
            "  inflating: proofs/corrected_proofs/4/ByteDance-Seed_BFS-Prover/7.txt  \n",
            "  inflating: proofs/corrected_proofs/4/ByteDance-Seed_BFS-Prover/3.txt  \n",
            "  inflating: proofs/corrected_proofs/4/ByteDance-Seed_BFS-Prover/2.txt  \n",
            "  inflating: proofs/corrected_proofs/4/stoney0062_Leanabell-Prover-DS-SFT/8.txt  \n",
            "  inflating: proofs/corrected_proofs/4/stoney0062_Leanabell-Prover-DS-SFT/5.txt  \n",
            "  inflating: proofs/corrected_proofs/4/stoney0062_Leanabell-Prover-DS-SFT/4.txt  \n",
            "  inflating: proofs/corrected_proofs/4/stoney0062_Leanabell-Prover-DS-SFT/6.txt  \n",
            "  inflating: proofs/corrected_proofs/4/stoney0062_Leanabell-Prover-DS-SFT/7.txt  \n",
            "  inflating: proofs/corrected_proofs/4/stoney0062_Leanabell-Prover-DS-SFT/3.txt  \n",
            "  inflating: proofs/corrected_proofs/4/stoney0062_Leanabell-Prover-DS-SFT/2.txt  \n",
            "  inflating: proofs/corrected_proofs/4/stoney0062_Leanabell-Prover-DS-SFT/1.txt  \n",
            "  inflating: proofs/corrected_proofs/4/deepseek-ai_DeepSeek-Prover-V1/5.txt  \n",
            "  inflating: proofs/corrected_proofs/4/deepseek-ai_DeepSeek-Prover-V1/4.txt  \n",
            "  inflating: proofs/corrected_proofs/4/deepseek-ai_DeepSeek-Prover-V1/6.txt  \n",
            "  inflating: proofs/corrected_proofs/4/deepseek-ai_DeepSeek-Prover-V1/7.txt  \n",
            "  inflating: proofs/corrected_proofs/4/deepseek-ai_DeepSeek-Prover-V1/3.txt  \n",
            "  inflating: proofs/corrected_proofs/4/deepseek-ai_DeepSeek-Prover-V1/1.txt  \n",
            "  inflating: proofs/corrected_proofs/4/Goedel-LM_Goedel-Prover-SFT/8.txt  \n",
            "  inflating: proofs/corrected_proofs/4/Goedel-LM_Goedel-Prover-SFT/6.txt  \n",
            "  inflating: proofs/corrected_proofs/4/Goedel-LM_Goedel-Prover-SFT/7.txt  \n",
            "  inflating: proofs/corrected_proofs/4/Goedel-LM_Goedel-Prover-SFT/3.txt  \n",
            "   creating: proofs/corrected_proofs/4/Goedel-LM_Goedel-Prover-SFT/.ipynb_checkpoints/\n",
            "  inflating: proofs/corrected_proofs/4/deepseek-ai_DeepSeek-Prover-V2-7B/8.txt  \n",
            "  inflating: proofs/corrected_proofs/4/deepseek-ai_DeepSeek-Prover-V2-7B/5.txt  \n",
            "  inflating: proofs/corrected_proofs/4/deepseek-ai_DeepSeek-Prover-V2-7B/4.txt  \n",
            "  inflating: proofs/corrected_proofs/4/deepseek-ai_DeepSeek-Prover-V2-7B/6.txt  \n",
            "  inflating: proofs/corrected_proofs/4/deepseek-ai_DeepSeek-Prover-V2-7B/7.txt  \n",
            "  inflating: proofs/corrected_proofs/4/deepseek-ai_DeepSeek-Prover-V2-7B/3.txt  \n",
            "  inflating: proofs/corrected_proofs/4/deepseek-ai_DeepSeek-Prover-V2-7B/2.txt  \n",
            "  inflating: proofs/corrected_proofs/4/deepseek-ai_DeepSeek-Prover-V2-7B/1.txt  \n",
            "  inflating: proofs/corrected_proofs/4/deepseek-ai_DeepSeek-Prover-V1.5-RL/5.txt  \n",
            "  inflating: proofs/corrected_proofs/4/deepseek-ai_DeepSeek-Prover-V1.5-RL/6.txt  \n",
            "  inflating: proofs/corrected_proofs/4/deepseek-ai_DeepSeek-Prover-V1.5-RL/7.txt  \n",
            "  inflating: proofs/corrected_proofs/4/deepseek-ai_DeepSeek-Prover-V1.5-RL/3.txt  \n",
            "  inflating: proofs/corrected_proofs/4/deepseek-ai_DeepSeek-Prover-V1.5-RL/2.txt  \n",
            "  inflating: proofs/corrected_proofs/4/deepseek-ai_DeepSeek-Prover-V1.5-RL/1.txt  \n",
            "  inflating: proofs/corrected_proofs/15/AI-MO_Kimina-Prover-Preview-Distill-7B/6.txt  \n",
            "  inflating: proofs/corrected_proofs/15/kfdong_STP_model_Lean/8.txt  \n",
            "  inflating: proofs/corrected_proofs/15/kfdong_STP_model_Lean/4.txt  \n",
            "  inflating: proofs/corrected_proofs/15/kfdong_STP_model_Lean/6.txt  \n",
            "  inflating: proofs/corrected_proofs/15/kfdong_STP_model_Lean/3.txt  \n",
            "  inflating: proofs/corrected_proofs/15/kfdong_STP_model_Lean/2.txt  \n",
            "  inflating: proofs/corrected_proofs/15/kfdong_STP_model_Lean/1.txt  \n",
            "  inflating: proofs/corrected_proofs/15/deepseek-ai_DeepSeek-Prover-V1/8.txt  \n",
            "  inflating: proofs/corrected_proofs/15/deepseek-ai_DeepSeek-Prover-V1/5.txt  \n",
            "  inflating: proofs/corrected_proofs/15/Goedel-LM_Goedel-Prover-SFT/4.txt  \n",
            "  inflating: proofs/corrected_proofs/15/Goedel-LM_Goedel-Prover-SFT/6.txt  \n",
            "  inflating: proofs/corrected_proofs/15/Goedel-LM_Goedel-Prover-SFT/7.txt  \n",
            "  inflating: proofs/corrected_proofs/15/Goedel-LM_Goedel-Prover-SFT/3.txt  \n",
            "  inflating: proofs/corrected_proofs/15/deepseek-ai_DeepSeek-Prover-V2-7B/4.txt  \n",
            "  inflating: proofs/corrected_proofs/15/deepseek-ai_DeepSeek-Prover-V2-7B/6.txt  \n",
            "  inflating: proofs/corrected_proofs/15/deepseek-ai_DeepSeek-Prover-V2-7B/3.txt  \n",
            "  inflating: proofs/corrected_proofs/15/deepseek-ai_DeepSeek-Prover-V2-7B/2.txt  \n",
            "  inflating: proofs/corrected_proofs/15/deepseek-ai_DeepSeek-Prover-V2-7B/1.txt  \n",
            "  inflating: proofs/corrected_proofs/15/deepseek-ai_DeepSeek-Prover-V1.5-RL/4.txt  \n",
            "  inflating: proofs/corrected_proofs/15/deepseek-ai_DeepSeek-Prover-V1.5-RL/7.txt  \n",
            "  inflating: proofs/corrected_proofs/15/deepseek-ai_DeepSeek-Prover-V1.5-RL/3.txt  \n",
            "  inflating: proofs/corrected_proofs/15/deepseek-ai_DeepSeek-Prover-V1.5-RL/2.txt  \n",
            "  inflating: proofs/corrected_proofs/15/deepseek-ai_DeepSeek-Prover-V1.5-RL/1.txt  \n",
            "  inflating: proofs/corrected_proofs/3/AI-MO_Kimina-Prover-Preview-Distill-7B/8.txt  \n",
            "  inflating: proofs/corrected_proofs/3/AI-MO_Kimina-Prover-Preview-Distill-7B/6.txt  \n",
            "  inflating: proofs/corrected_proofs/3/AI-MO_Kimina-Prover-Preview-Distill-7B/2.txt  \n",
            "  inflating: proofs/corrected_proofs/3/AI-MO_Kimina-Prover-Preview-Distill-7B/1.txt  \n",
            "  inflating: proofs/corrected_proofs/3/kfdong_STP_model_Lean/7.txt  \n",
            "  inflating: proofs/corrected_proofs/3/kfdong_STP_model_Lean/3.txt  \n",
            "  inflating: proofs/corrected_proofs/3/kfdong_STP_model_Lean/2.txt  \n",
            "  inflating: proofs/corrected_proofs/3/kfdong_STP_model_Lean/1.txt  \n",
            "  inflating: proofs/corrected_proofs/3/ByteDance-Seed_BFS-Prover/6.txt  \n",
            "  inflating: proofs/corrected_proofs/3/ByteDance-Seed_BFS-Prover/7.txt  \n",
            "  inflating: proofs/corrected_proofs/3/deepseek-ai_DeepSeek-Prover-V1/3.txt  \n",
            "  inflating: proofs/corrected_proofs/3/Goedel-LM_Goedel-Prover-SFT/2.txt  \n",
            "   creating: proofs/corrected_proofs/3/Goedel-LM_Goedel-Prover-SFT/.ipynb_checkpoints/\n",
            "  inflating: proofs/corrected_proofs/2/deepseek-ai_DeepSeek-Prover-V2-7B/8.txt  \n",
            "  inflating: proofs/corrected_proofs/13/AI-MO_Kimina-Prover-Preview-Distill-7B/7.txt  \n",
            "  inflating: proofs/corrected_proofs/13/kfdong_STP_model_Lean/8.txt  \n",
            "  inflating: proofs/corrected_proofs/13/kfdong_STP_model_Lean/4.txt  \n",
            "  inflating: proofs/corrected_proofs/13/kfdong_STP_model_Lean/6.txt  \n",
            "  inflating: proofs/corrected_proofs/13/kfdong_STP_model_Lean/7.txt  \n",
            "  inflating: proofs/corrected_proofs/13/kfdong_STP_model_Lean/3.txt  \n",
            "  inflating: proofs/corrected_proofs/13/kfdong_STP_model_Lean/1.txt  \n",
            "  inflating: proofs/corrected_proofs/13/ByteDance-Seed_BFS-Prover/8.txt  \n",
            "  inflating: proofs/corrected_proofs/13/ByteDance-Seed_BFS-Prover/5.txt  \n",
            "  inflating: proofs/corrected_proofs/13/ByteDance-Seed_BFS-Prover/4.txt  \n",
            "  inflating: proofs/corrected_proofs/13/ByteDance-Seed_BFS-Prover/6.txt  \n",
            "  inflating: proofs/corrected_proofs/13/ByteDance-Seed_BFS-Prover/7.txt  \n",
            "  inflating: proofs/corrected_proofs/13/ByteDance-Seed_BFS-Prover/3.txt  \n",
            "  inflating: proofs/corrected_proofs/13/ByteDance-Seed_BFS-Prover/1.txt  \n",
            "  inflating: proofs/corrected_proofs/13/deepseek-ai_DeepSeek-Prover-V1/8.txt  \n",
            "  inflating: proofs/corrected_proofs/13/deepseek-ai_DeepSeek-Prover-V1/5.txt  \n",
            "  inflating: proofs/corrected_proofs/13/deepseek-ai_DeepSeek-Prover-V1/4.txt  \n",
            "  inflating: proofs/corrected_proofs/13/deepseek-ai_DeepSeek-Prover-V1/6.txt  \n",
            "  inflating: proofs/corrected_proofs/13/deepseek-ai_DeepSeek-Prover-V1/7.txt  \n",
            "  inflating: proofs/corrected_proofs/13/deepseek-ai_DeepSeek-Prover-V1/3.txt  \n",
            "  inflating: proofs/corrected_proofs/13/deepseek-ai_DeepSeek-Prover-V1/2.txt  \n",
            "  inflating: proofs/corrected_proofs/13/Goedel-LM_Goedel-Prover-SFT/7.txt  \n",
            "  inflating: proofs/corrected_proofs/13/Goedel-LM_Goedel-Prover-SFT/2.txt  \n",
            "  inflating: proofs/corrected_proofs/13/wellecks_llmstep-mathlib4-pythia2.8b/6.txt  \n",
            "  inflating: proofs/corrected_proofs/13/wellecks_llmstep-mathlib4-pythia2.8b/7.txt  \n",
            "  inflating: proofs/corrected_proofs/13/deepseek-ai_DeepSeek-Prover-V1.5-RL/8.txt  \n",
            "  inflating: proofs/corrected_proofs/13/deepseek-ai_DeepSeek-Prover-V1.5-RL/5.txt  \n",
            "  inflating: proofs/corrected_proofs/13/deepseek-ai_DeepSeek-Prover-V1.5-RL/4.txt  \n",
            "  inflating: proofs/corrected_proofs/13/deepseek-ai_DeepSeek-Prover-V1.5-RL/6.txt  \n",
            "  inflating: proofs/corrected_proofs/13/deepseek-ai_DeepSeek-Prover-V1.5-RL/7.txt  \n",
            "  inflating: proofs/corrected_proofs/13/deepseek-ai_DeepSeek-Prover-V1.5-RL/2.txt  \n",
            "  inflating: proofs/corrected_proofs/13/deepseek-ai_DeepSeek-Prover-V1.5-RL/1.txt  \n",
            "  inflating: proofs/corrected_proofs/5/AI-MO_Kimina-Prover-Preview-Distill-7B/8.txt  \n",
            "  inflating: proofs/corrected_proofs/5/AI-MO_Kimina-Prover-Preview-Distill-7B/5.txt  \n",
            "  inflating: proofs/corrected_proofs/5/AI-MO_Kimina-Prover-Preview-Distill-7B/6.txt  \n",
            "  inflating: proofs/corrected_proofs/5/AI-MO_Kimina-Prover-Preview-Distill-7B/3.txt  \n",
            "  inflating: proofs/corrected_proofs/5/AI-MO_Kimina-Prover-Preview-Distill-7B/2.txt  \n",
            "  inflating: proofs/corrected_proofs/5/kfdong_STP_model_Lean/8.txt  \n",
            "  inflating: proofs/corrected_proofs/5/kfdong_STP_model_Lean/4.txt  \n",
            "  inflating: proofs/corrected_proofs/5/kfdong_STP_model_Lean/6.txt  \n",
            "  inflating: proofs/corrected_proofs/5/kfdong_STP_model_Lean/3.txt  \n",
            "  inflating: proofs/corrected_proofs/5/kfdong_STP_model_Lean/2.txt  \n",
            "  inflating: proofs/corrected_proofs/5/kfdong_STP_model_Lean/1.txt  \n",
            "  inflating: proofs/corrected_proofs/5/ByteDance-Seed_BFS-Prover/8.txt  \n",
            "  inflating: proofs/corrected_proofs/5/ByteDance-Seed_BFS-Prover/4.txt  \n",
            "  inflating: proofs/corrected_proofs/5/ByteDance-Seed_BFS-Prover/6.txt  \n",
            "  inflating: proofs/corrected_proofs/5/ByteDance-Seed_BFS-Prover/7.txt  \n",
            "  inflating: proofs/corrected_proofs/5/ByteDance-Seed_BFS-Prover/3.txt  \n",
            "  inflating: proofs/corrected_proofs/5/ByteDance-Seed_BFS-Prover/2.txt  \n",
            "  inflating: proofs/corrected_proofs/5/ByteDance-Seed_BFS-Prover/1.txt  \n",
            "  inflating: proofs/corrected_proofs/5/stoney0062_Leanabell-Prover-DS-SFT/8.txt  \n",
            "  inflating: proofs/corrected_proofs/5/stoney0062_Leanabell-Prover-DS-SFT/5.txt  \n",
            "  inflating: proofs/corrected_proofs/5/stoney0062_Leanabell-Prover-DS-SFT/4.txt  \n",
            "  inflating: proofs/corrected_proofs/5/stoney0062_Leanabell-Prover-DS-SFT/7.txt  \n",
            "  inflating: proofs/corrected_proofs/5/stoney0062_Leanabell-Prover-DS-SFT/3.txt  \n",
            "  inflating: proofs/corrected_proofs/5/deepseek-ai_DeepSeek-Prover-V1/4.txt  \n",
            "  inflating: proofs/corrected_proofs/5/deepseek-ai_DeepSeek-Prover-V1/6.txt  \n",
            "  inflating: proofs/corrected_proofs/5/deepseek-ai_DeepSeek-Prover-V1/7.txt  \n",
            "  inflating: proofs/corrected_proofs/5/deepseek-ai_DeepSeek-Prover-V1/3.txt  \n",
            "  inflating: proofs/corrected_proofs/5/deepseek-ai_DeepSeek-Prover-V1/2.txt  \n",
            "  inflating: proofs/corrected_proofs/5/deepseek-ai_DeepSeek-Prover-V1/1.txt  \n",
            "  inflating: proofs/corrected_proofs/5/Goedel-LM_Goedel-Prover-SFT/8.txt  \n",
            "  inflating: proofs/corrected_proofs/5/Goedel-LM_Goedel-Prover-SFT/5.txt  \n",
            "  inflating: proofs/corrected_proofs/5/Goedel-LM_Goedel-Prover-SFT/7.txt  \n",
            "  inflating: proofs/corrected_proofs/5/Goedel-LM_Goedel-Prover-SFT/3.txt  \n",
            "  inflating: proofs/corrected_proofs/5/deepseek-ai_DeepSeek-Prover-V2-7B/8.txt  \n",
            "  inflating: proofs/corrected_proofs/5/deepseek-ai_DeepSeek-Prover-V2-7B/4.txt  \n",
            "  inflating: proofs/corrected_proofs/5/deepseek-ai_DeepSeek-Prover-V2-7B/6.txt  \n",
            "  inflating: proofs/corrected_proofs/5/deepseek-ai_DeepSeek-Prover-V1.5-RL/5.txt  \n",
            "  inflating: proofs/corrected_proofs/5/deepseek-ai_DeepSeek-Prover-V1.5-RL/6.txt  \n",
            "  inflating: proofs/corrected_proofs/5/deepseek-ai_DeepSeek-Prover-V1.5-RL/7.txt  \n",
            "  inflating: proofs/corrected_proofs/5/deepseek-ai_DeepSeek-Prover-V1.5-RL/1.txt  \n",
            "  inflating: proofs/corrected_proofs/14/AI-MO_Kimina-Prover-Preview-Distill-7B/8.txt  \n",
            "  inflating: proofs/corrected_proofs/14/AI-MO_Kimina-Prover-Preview-Distill-7B/5.txt  \n",
            "  inflating: proofs/corrected_proofs/14/AI-MO_Kimina-Prover-Preview-Distill-7B/6.txt  \n",
            "  inflating: proofs/corrected_proofs/14/AI-MO_Kimina-Prover-Preview-Distill-7B/7.txt  \n",
            "  inflating: proofs/corrected_proofs/14/AI-MO_Kimina-Prover-Preview-Distill-7B/3.txt  \n",
            "  inflating: proofs/corrected_proofs/14/kfdong_STP_model_Lean/8.txt  \n",
            "  inflating: proofs/corrected_proofs/14/kfdong_STP_model_Lean/5.txt  \n",
            "  inflating: proofs/corrected_proofs/14/kfdong_STP_model_Lean/4.txt  \n",
            "  inflating: proofs/corrected_proofs/14/kfdong_STP_model_Lean/6.txt  \n",
            "  inflating: proofs/corrected_proofs/14/kfdong_STP_model_Lean/7.txt  \n",
            "  inflating: proofs/corrected_proofs/14/kfdong_STP_model_Lean/3.txt  \n",
            "  inflating: proofs/corrected_proofs/14/kfdong_STP_model_Lean/2.txt  \n",
            "  inflating: proofs/corrected_proofs/14/kfdong_STP_model_Lean/1.txt  \n",
            "  inflating: proofs/corrected_proofs/14/ByteDance-Seed_BFS-Prover/8.txt  \n",
            "  inflating: proofs/corrected_proofs/14/ByteDance-Seed_BFS-Prover/5.txt  \n",
            "  inflating: proofs/corrected_proofs/14/ByteDance-Seed_BFS-Prover/4.txt  \n",
            "  inflating: proofs/corrected_proofs/14/ByteDance-Seed_BFS-Prover/6.txt  \n",
            "  inflating: proofs/corrected_proofs/14/ByteDance-Seed_BFS-Prover/7.txt  \n",
            "  inflating: proofs/corrected_proofs/14/ByteDance-Seed_BFS-Prover/3.txt  \n",
            "  inflating: proofs/corrected_proofs/14/ByteDance-Seed_BFS-Prover/2.txt  \n",
            "  inflating: proofs/corrected_proofs/14/ByteDance-Seed_BFS-Prover/1.txt  \n",
            "  inflating: proofs/corrected_proofs/14/deepseek-ai_DeepSeek-Prover-V1/8.txt  \n",
            "  inflating: proofs/corrected_proofs/14/deepseek-ai_DeepSeek-Prover-V1/5.txt  \n",
            "  inflating: proofs/corrected_proofs/14/deepseek-ai_DeepSeek-Prover-V1/6.txt  \n",
            "  inflating: proofs/corrected_proofs/14/deepseek-ai_DeepSeek-Prover-V1/7.txt  \n",
            "  inflating: proofs/corrected_proofs/14/deepseek-ai_DeepSeek-Prover-V1/3.txt  \n",
            "  inflating: proofs/corrected_proofs/14/deepseek-ai_DeepSeek-Prover-V1/2.txt  \n",
            "  inflating: proofs/corrected_proofs/14/deepseek-ai_DeepSeek-Prover-V1/1.txt  \n",
            "  inflating: proofs/corrected_proofs/14/Goedel-LM_Goedel-Prover-SFT/8.txt  \n",
            "  inflating: proofs/corrected_proofs/14/Goedel-LM_Goedel-Prover-SFT/5.txt  \n",
            "  inflating: proofs/corrected_proofs/14/Goedel-LM_Goedel-Prover-SFT/4.txt  \n",
            "  inflating: proofs/corrected_proofs/14/Goedel-LM_Goedel-Prover-SFT/6.txt  \n",
            "  inflating: proofs/corrected_proofs/14/Goedel-LM_Goedel-Prover-SFT/3.txt  \n",
            "  inflating: proofs/corrected_proofs/14/Goedel-LM_Goedel-Prover-SFT/1.txt  \n",
            "  inflating: proofs/corrected_proofs/14/deepseek-ai_DeepSeek-Prover-V2-7B/8.txt  \n",
            "  inflating: proofs/corrected_proofs/14/deepseek-ai_DeepSeek-Prover-V2-7B/4.txt  \n",
            "  inflating: proofs/corrected_proofs/14/deepseek-ai_DeepSeek-Prover-V2-7B/3.txt  \n",
            "  inflating: proofs/corrected_proofs/14/deepseek-ai_DeepSeek-Prover-V2-7B/1.txt  \n",
            "  inflating: proofs/corrected_proofs/14/deepseek-ai_DeepSeek-Prover-V1.5-RL/5.txt  \n",
            "  inflating: proofs/corrected_proofs/14/deepseek-ai_DeepSeek-Prover-V1.5-RL/6.txt  \n",
            "  inflating: proofs/corrected_proofs/14/deepseek-ai_DeepSeek-Prover-V1.5-RL/3.txt  \n",
            "  inflating: proofs/corrected_proofs/14/deepseek-ai_DeepSeek-Prover-V1.5-RL/2.txt  \n",
            "  inflating: proofs/corrected_proofs/25/AI-MO_Kimina-Prover-Preview-Distill-7B/1.txt  \n",
            "  inflating: proofs/corrected_proofs/25/Goedel-LM_Goedel-Prover-SFT/5.txt  \n",
            "  inflating: proofs/corrected_proofs/25/deepseek-ai_DeepSeek-Prover-V2-7B/5.txt  \n",
            "  inflating: proofs/corrected_proofs/25/deepseek-ai_DeepSeek-Prover-V2-7B/2.txt  \n",
            "  inflating: proofs/corrected_proofs/35/ByteDance-Seed_BFS-Prover/.ipynb_checkpoints/7-checkpoint.txt  \n",
            "  inflating: proofs/corrected_proofs/35/ByteDance-Seed_BFS-Prover/.ipynb_checkpoints/8-checkpoint.txt  \n",
            "  inflating: proofs/corrected_proofs/35/ByteDance-Seed_BFS-Prover/.ipynb_checkpoints/1-checkpoint.txt  \n",
            "  inflating: proofs/corrected_proofs/35/ByteDance-Seed_BFS-Prover/.ipynb_checkpoints/6-checkpoint.txt  \n",
            "  inflating: proofs/corrected_proofs/35/ByteDance-Seed_BFS-Prover/.ipynb_checkpoints/3-checkpoint.txt  \n",
            "  inflating: proofs/corrected_proofs/35/ByteDance-Seed_BFS-Prover/.ipynb_checkpoints/5-checkpoint.txt  \n",
            "  inflating: proofs/corrected_proofs/20/kfdong_STP_model_Lean/.ipynb_checkpoints/8-checkpoint.txt  \n",
            "  inflating: proofs/corrected_proofs/7/AI-MO_Kimina-Prover-Preview-Distill-7B/.ipynb_checkpoints/5-checkpoint.txt  \n",
            "  inflating: proofs/corrected_proofs/29/AI-MO_Kimina-Prover-Preview-Distill-7B/.ipynb_checkpoints/7-checkpoint.txt  \n",
            "  inflating: proofs/corrected_proofs/23/AI-MO_Kimina-Prover-Preview-Distill-7B/.ipynb_checkpoints/8-checkpoint.txt  \n",
            "  inflating: proofs/corrected_proofs/23/AI-MO_Kimina-Prover-Preview-Distill-7B/.ipynb_checkpoints/4-checkpoint.txt  \n",
            "  inflating: proofs/corrected_proofs/23/AI-MO_Kimina-Prover-Preview-Distill-7B/.ipynb_checkpoints/3-checkpoint.txt  \n",
            "  inflating: proofs/corrected_proofs/23/AI-MO_Kimina-Prover-Preview-Distill-7B/.ipynb_checkpoints/2-checkpoint.txt  \n",
            "  inflating: proofs/corrected_proofs/4/Goedel-LM_Goedel-Prover-SFT/.ipynb_checkpoints/3-checkpoint.txt  \n",
            "  inflating: proofs/corrected_proofs/3/Goedel-LM_Goedel-Prover-SFT/.ipynb_checkpoints/2-checkpoint.txt  \n"
          ]
        }
      ]
    },
    {
      "cell_type": "code",
      "source": [
        "import json\n",
        "from pathlib import Path\n",
        "import pandas as pd\n",
        "from typing import Callable\n",
        "import re\n",
        "\n",
        "def load_proofs(base_path: str | Path = \"\") -> pd.DataFrame:\n",
        "    base_path = Path(base_path)\n",
        "    data_rows = []\n",
        "    for file_path in base_path.glob('proofs/corrected_proofs/*/*/*.txt'):\n",
        "        path_parts = file_path.parts\n",
        "        trial_id = file_path.stem\n",
        "        model = path_parts[-2]\n",
        "        problem_id = path_parts[-3]\n",
        "        try:\n",
        "            with file_path.open('r', encoding='utf-8') as f:\n",
        "                text_content = f.read()\n",
        "            data_rows.append({\n",
        "                'problem_id': str(problem_id),\n",
        "                'model': model,\n",
        "                'trial_id': str(trial_id),\n",
        "                'text': text_content\n",
        "            })\n",
        "        except Exception as e:\n",
        "            print(f\"Could not read file {file_path}: {e}\")\n",
        "    return pd.DataFrame(data_rows)\n",
        "\n",
        "\n",
        "def transform_json_with_proofs(\n",
        "    data: dict,\n",
        "    proofs_base_path: str | Path = \"\",\n",
        "    no_proof_placeholder: str = \"\",\n",
        "    postprocess: Callable[[str], str] | None = None,\n",
        "    preprocess : Callable[[str], str] | None = None\n",
        ") -> dict:\n",
        "    \"\"\"\n",
        "    Replaces each 0/1 in the attempts arrays with:\n",
        "      - proof text if flag == 1 and file exists\n",
        "      - placeholder if flag == 0\n",
        "      - marker if flag == 1 but file missing\n",
        "    If `postprocess` is provided, it will be applied to each proof string.\n",
        "    \"\"\"\n",
        "    df = load_proofs(proofs_base_path)\n",
        "    proof_lookup = {\n",
        "        (row[\"model\"], str(row[\"problem_id\"]), str(row[\"trial_id\"])): row[\"text\"]\n",
        "        for _, row in df.iterrows()\n",
        "    }\n",
        "\n",
        "    out = {}\n",
        "    for model, problems in data.items():\n",
        "        out[model] = {}\n",
        "        for problem_id, attempts in problems.items():\n",
        "            new_attempts = []\n",
        "            for idx, flag in enumerate(attempts, start=1):  # trials are 1..8\n",
        "                key = (model, str(problem_id), str(idx))\n",
        "                if flag == 1:\n",
        "                    if key in proof_lookup:\n",
        "                        text = proof_lookup[key]\n",
        "                        if preprocess:\n",
        "                            text = preprocess(text)\n",
        "                        if postprocess:\n",
        "                            text = postprocess(text)\n",
        "                        new_attempts.append(text)\n",
        "                    else:\n",
        "                        missing_path = Path(\"proofs\") / str(problem_id) / model / f\"{idx}.txt\"\n",
        "                        new_attempts.append(f\"[MISSING PROOF] Expected at: {missing_path}\")\n",
        "                # else:\n",
        "                #     new_attempts.append(no_proof_placeholder)\n",
        "            out[model][str(problem_id)] = new_attempts\n",
        "    return out\n",
        "\n",
        "def remove_lean_block_comments(text: str) -> str:\n",
        "    \"\"\"\n",
        "    Removes all Lean-style block comments: /- ... -/\n",
        "    (optionally handles doc comments that start with /-!)\n",
        "    Non-greedy across lines; does not handle nested block comments.\n",
        "    \"\"\"\n",
        "    return re.sub(r\"/-!?.*?-/\", \"\", text, flags=re.DOTALL)\n",
        "\n",
        "if __name__ == \"__main__\":\n",
        "    # Example JSON input\n",
        "    with open(\"proof_outcomes_by_model.json\", \"r\", encoding=\"utf-8\") as f:\n",
        "        original = json.load(f)\n",
        "\n",
        "    # Example lambda: remove lines starting with \"--\"\n",
        "    clean_lambda = lambda proof: \"\\n\".join(\n",
        "        line.split(\"--\", 1)[0].rstrip()\n",
        "        for line in proof.splitlines()\n",
        "        if line.split(\"--\", 1)[0].strip()  # keep only non-empty\n",
        "    )\n",
        "\n",
        "    transformed = transform_json_with_proofs(\n",
        "        original,\n",
        "        proofs_base_path=\".\",\n",
        "        postprocess=clean_lambda,\n",
        "        preprocess=remove_lean_block_comments\n",
        "    )\n",
        "\n",
        "    with open(\"output.json\", \"w\", encoding=\"utf-8\") as f:\n",
        "        json.dump(transformed, f, ensure_ascii=False, indent=2)\n"
      ],
      "metadata": {
        "id": "NUMN4Tx0sZzY"
      },
      "execution_count": null,
      "outputs": []
    },
    {
      "cell_type": "code",
      "source": [
        "transformed[\"AI-MO_Kimina-Prover-Preview-Distill-7B\"][\"0\"][0]"
      ],
      "metadata": {
        "colab": {
          "base_uri": "https://localhost:8080/",
          "height": 36
        },
        "id": "Xcw04MZBvnz9",
        "outputId": "cf70ac2b-249b-412d-c2d9-61149ce43831"
      },
      "execution_count": null,
      "outputs": [
        {
          "output_type": "execute_result",
          "data": {
            "text/plain": [
              "'rw [h₁, h₂, h₃]\\nnorm_num'"
            ],
            "application/vnd.google.colaboratory.intrinsic+json": {
              "type": "string"
            }
          },
          "metadata": {},
          "execution_count": 38
        }
      ]
    },
    {
      "cell_type": "code",
      "source": [
        "transformed[\"AI-MO_Kimina-Prover-Preview-Distill-7B\"][\"0\"][0].splitlines()"
      ],
      "metadata": {
        "colab": {
          "base_uri": "https://localhost:8080/"
        },
        "id": "KZluHbkwwR8g",
        "outputId": "519c6456-44b5-4cfd-c327-96e074b2bc92"
      },
      "execution_count": null,
      "outputs": [
        {
          "output_type": "execute_result",
          "data": {
            "text/plain": [
              "['rw [h₁, h₂, h₃]', 'norm_num']"
            ]
          },
          "metadata": {},
          "execution_count": 39
        }
      ]
    },
    {
      "cell_type": "markdown",
      "source": [
        "## Use together"
      ],
      "metadata": {
        "id": "bwqgkFQC7PXS"
      }
    },
    {
      "cell_type": "code",
      "source": [
        "solver_1_training_ex"
      ],
      "metadata": {
        "colab": {
          "base_uri": "https://localhost:8080/"
        },
        "id": "_iYH7Jlc7Nxh",
        "outputId": "4f6160f8-da07-4a35-9b06-ef9c64ce97b9"
      },
      "execution_count": null,
      "outputs": [
        {
          "output_type": "execute_result",
          "data": {
            "text/plain": [
              "array([2, 7, 8])"
            ]
          },
          "metadata": {},
          "execution_count": 41
        }
      ]
    },
    {
      "cell_type": "code",
      "source": [
        "solver_1_training_ex.tolist()"
      ],
      "metadata": {
        "colab": {
          "base_uri": "https://localhost:8080/"
        },
        "id": "5nWmXnIP7XLy",
        "outputId": "95956a9c-00f0-49d0-c712-137047925398"
      },
      "execution_count": null,
      "outputs": [
        {
          "output_type": "execute_result",
          "data": {
            "text/plain": [
              "[2, 7, 8]"
            ]
          },
          "metadata": {},
          "execution_count": 42
        }
      ]
    },
    {
      "cell_type": "code",
      "source": [
        "s1 = solvers[pair_greedy[0]]\n",
        "s2 = solvers[pair_greedy[1]]"
      ],
      "metadata": {
        "id": "vXSLPf0q7djn"
      },
      "execution_count": null,
      "outputs": []
    },
    {
      "cell_type": "code",
      "source": [
        "selected_training_problems_solver_1, selected_training_problems_solver_2"
      ],
      "metadata": {
        "colab": {
          "base_uri": "https://localhost:8080/"
        },
        "id": "AsOsPm4yAFUd",
        "outputId": "cfbed828-d449-447f-a5a4-5401844a1cb8"
      },
      "execution_count": null,
      "outputs": [
        {
          "output_type": "execute_result",
          "data": {
            "text/plain": [
              "([1, 9, 20], [13, 35, 3, 7, 11, 14, 15, 17])"
            ]
          },
          "metadata": {},
          "execution_count": 44
        }
      ]
    },
    {
      "cell_type": "code",
      "source": [
        "selected_training_proofs_solver_1 = [transformed[s2][str(int(x))][0] for x in selected_training_problems_solver_1]\n",
        "selected_training_proofs_solver_1"
      ],
      "metadata": {
        "colab": {
          "base_uri": "https://localhost:8080/"
        },
        "id": "abRmtpuz7yyy",
        "outputId": "82ce486e-ae82-422d-c7b4-36d85a9cd446"
      },
      "execution_count": null,
      "outputs": [
        {
          "output_type": "execute_result",
          "data": {
            "text/plain": [
              "['  intro h\\n  have h_mod : (4 * x ^ 3 - 7 * y ^ 3) % 7 = 2003 % 7 := by rw [h]\\n  norm_num at h_mod\\n  have h₁ : x ^ 3 % 7 = 0 ∨ x ^ 3 % 7 = 1 ∨ x ^ 3 % 7 = 6 := by\\n    have : x % 7 = 0 ∨ x % 7 = 1 ∨ x % 7 = 2 ∨ x % 7 = 3 ∨ x % 7 = 4 ∨ x % 7 = 5 ∨ x % 7 = 6 := by omega\\n    rcases this with (h | h | h | h | h | h | h) <;>\\n      simp [h, pow_three, Int.mul_emod, Int.sub_emod]\\n  have h₂ : y ^ 3 % 7 = 0 ∨ y ^ 3 % 7 = 1 ∨ y ^ 3 % 7 = 6 := by\\n    have : y % 7 = 0 ∨ y % 7 = 1 ∨ y % 7 = 2 ∨ y % 7 = 3 ∨ y % 7 = 4 ∨ y % 7 = 5 ∨ y % 7 = 6 := by omega\\n    rcases this with (h | h | h | h | h | h | h) <;>\\n      simp [h, pow_three, Int.mul_emod, Int.sub_emod]\\n  omega',\n",
              " '  nlinarith [sq_nonneg (a - b), sq_nonneg (b - c), sq_nonneg (c - a),\\n    mul_pos h₀.1 h₀.2.1, mul_pos h₀.2.1 h₀.2.2, mul_pos h₀.2.2 h₀.1,\\n    mul_pos (sub_pos.mpr h₁) (sub_pos.mpr h₂), mul_pos (sub_pos.mpr h₂) (sub_pos.mpr h₃),\\n    mul_pos (sub_pos.mpr h₃) (sub_pos.mpr h₁)]',\n",
              " '  simp_all [Nat.divisors]\\n  decide']"
            ]
          },
          "metadata": {},
          "execution_count": 45
        }
      ]
    },
    {
      "cell_type": "code",
      "source": [
        "selected_training_proofs_solver_2 = [transformed[s1][str(int(x))][0] for x in selected_training_problems_solver_2]\n",
        "selected_training_proofs_solver_2"
      ],
      "metadata": {
        "colab": {
          "base_uri": "https://localhost:8080/"
        },
        "id": "d6nJeAW1LLDp",
        "outputId": "79f04386-bbaf-4268-fbb9-83a27147f69e"
      },
      "execution_count": null,
      "outputs": [
        {
          "output_type": "execute_result",
          "data": {
            "text/plain": [
              "['norm_num',\n",
              " 'ring',\n",
              " 'native_decide',\n",
              " 'have : σ.1 10 = 2 := by\\n  rw [←σ.right_inv 2]\\n  rw [h₀]\\nrw [this]\\nrw [←σ.right_inv 1]\\nrw [h₂]',\n",
              " '  have h₃ : y = 2 * x / 5 := by\\n    linarith\\n  have h₄ : z = 7 * x / 25 := by\\n    rw [h₃] at h₂\\n    linarith\\n  field_simp [h₀]\\n  rw [h₄]\\n  ring',\n",
              " 'calc\\n  (100 ^ 2 - 7 ^ 2 : ℝ) / (70 ^ 2 - 11 ^ 2) * ((70 - 11) * (70 + 11) / ((100 - 7) * (100 + 7)))\\n      = ((100 - 7) * (100 + 7) / (70 - 11) / (70 + 11)) * ((70 - 11) * (70 + 11) / (100 - 7) / (100 + 7)) := by\\n    ring\\n  _ = (((100 - 7) / (100 - 7)) * ((100 + 7) / (100 + 7)) * ((70 - 11) / (70 - 11)) * ((70 + 11) / (70 + 11))) := by\\n    ring\\n  _ = 1 := by\\n    norm_num',\n",
              " \"cases' abs_cases (a - b) with h h <;>\\nnlinarith [sq_nonneg (a + b), sq_nonneg (a - b), h₀, h, sq_nonneg (a - b)]\",\n",
              " '  rw [h₀, h₁]\\n  norm_num']"
            ]
          },
          "metadata": {},
          "execution_count": 46
        }
      ]
    },
    {
      "cell_type": "code",
      "source": [
        "training_set_solver_1 = [{\"input\": i, \"output\": o} for i, o in zip(selected_training_formal_statements_solver_1, selected_training_proofs_solver_1)]\n",
        "training_set_solver_2 = [{\"input\": i, \"output\": o} for i, o in zip(selected_training_formal_statements_solver_2, selected_training_proofs_solver_2)]"
      ],
      "metadata": {
        "id": "8R1I4_SNBQBL"
      },
      "execution_count": null,
      "outputs": []
    },
    {
      "cell_type": "code",
      "source": [
        "print(training_set_solver_1[0][\"input\"])"
      ],
      "metadata": {
        "colab": {
          "base_uri": "https://localhost:8080/"
        },
        "id": "YlWg-wf1ALC1",
        "outputId": "5e4bd463-577f-4152-c3e0-1afa17dcc6d9"
      },
      "execution_count": null,
      "outputs": [
        {
          "output_type": "stream",
          "name": "stdout",
          "text": [
            "import Mathlib\n",
            "import Aesop\n",
            "\n",
            "set_option maxHeartbeats 0\n",
            "\n",
            "open BigOperators Real Nat Topology Rat\n",
            "\n",
            "/-- Show that there are no integers $x$ and $y$ such that $4x^3 - 7y^3 = 2003$.-/\n",
            "theorem numbertheory_4x3m7y3neq2003 (x y : ℤ) : 4 * x ^ 3 - 7 * y ^ 3 ≠ 2003 := by\n",
            "\n"
          ]
        }
      ]
    },
    {
      "cell_type": "code",
      "source": [
        "print(training_set_solver_1[0][\"output\"])"
      ],
      "metadata": {
        "colab": {
          "base_uri": "https://localhost:8080/"
        },
        "id": "O-eoBJzNA2h2",
        "outputId": "3d7e99da-5911-4543-d054-4f26a8b263c6"
      },
      "execution_count": null,
      "outputs": [
        {
          "output_type": "stream",
          "name": "stdout",
          "text": [
            "  intro h\n",
            "  have h_mod : (4 * x ^ 3 - 7 * y ^ 3) % 7 = 2003 % 7 := by rw [h]\n",
            "  norm_num at h_mod\n",
            "  have h₁ : x ^ 3 % 7 = 0 ∨ x ^ 3 % 7 = 1 ∨ x ^ 3 % 7 = 6 := by\n",
            "    have : x % 7 = 0 ∨ x % 7 = 1 ∨ x % 7 = 2 ∨ x % 7 = 3 ∨ x % 7 = 4 ∨ x % 7 = 5 ∨ x % 7 = 6 := by omega\n",
            "    rcases this with (h | h | h | h | h | h | h) <;>\n",
            "      simp [h, pow_three, Int.mul_emod, Int.sub_emod]\n",
            "  have h₂ : y ^ 3 % 7 = 0 ∨ y ^ 3 % 7 = 1 ∨ y ^ 3 % 7 = 6 := by\n",
            "    have : y % 7 = 0 ∨ y % 7 = 1 ∨ y % 7 = 2 ∨ y % 7 = 3 ∨ y % 7 = 4 ∨ y % 7 = 5 ∨ y % 7 = 6 := by omega\n",
            "    rcases this with (h | h | h | h | h | h | h) <;>\n",
            "      simp [h, pow_three, Int.mul_emod, Int.sub_emod]\n",
            "  omega\n"
          ]
        }
      ]
    },
    {
      "cell_type": "code",
      "source": [
        "print(training_set_solver_2[0][\"input\"])"
      ],
      "metadata": {
        "colab": {
          "base_uri": "https://localhost:8080/"
        },
        "id": "dwi8Bb9DLzHS",
        "outputId": "0808e49d-539e-4ab0-ee14-5a29820d0037"
      },
      "execution_count": null,
      "outputs": [
        {
          "output_type": "stream",
          "name": "stdout",
          "text": [
            "import Mathlib\n",
            "import Aesop\n",
            "\n",
            "set_option maxHeartbeats 0\n",
            "\n",
            "open BigOperators Real Nat Topology Rat\n",
            "\n",
            "/-- What is the ones digit of $1 \\cdot 3 \\cdot 5 \\cdot 7 \\cdot 9 \\cdot 11 \\cdot 13$? Show that it is 5.-/\n",
            "theorem mathd_numbertheory_299 : 1 * 3 * 5 * 7 * 9 * 11 * 13 % 10 = 5 := by\n",
            "\n"
          ]
        }
      ]
    },
    {
      "cell_type": "code",
      "source": [
        "print(training_set_solver_2[0][\"output\"])"
      ],
      "metadata": {
        "colab": {
          "base_uri": "https://localhost:8080/"
        },
        "id": "lA9wRsKSL6JQ",
        "outputId": "89892b60-bc0a-4082-a8d9-8631cc906f13"
      },
      "execution_count": null,
      "outputs": [
        {
          "output_type": "stream",
          "name": "stdout",
          "text": [
            "norm_num\n"
          ]
        }
      ]
    },
    {
      "cell_type": "markdown",
      "source": [
        "## Construct HF Dataset"
      ],
      "metadata": {
        "id": "GniZZHtIDlcY"
      }
    },
    {
      "cell_type": "code",
      "source": [
        "from datasets import Dataset\n",
        "\n",
        "def preprocess_function(example):\n",
        "    return {\n",
        "        \"prompt\": [{\"role\": \"user\", \"content\": example[\"input\"]}],\n",
        "        \"completion\": [{\"role\": \"assistant\", \"content\": example[\"output\"]}],\n",
        "    }\n",
        "\n",
        "# Apply preprocessing and drop original columns\n",
        "training_set_solver_1_hf = (Dataset.from_list(training_set_solver_1)).map(preprocess_function, remove_columns=[\"input\", \"output\"])\n",
        "training_set_solver_2_hf = (Dataset.from_list(training_set_solver_2)).map(preprocess_function, remove_columns=[\"input\", \"output\"])"
      ],
      "metadata": {
        "colab": {
          "base_uri": "https://localhost:8080/",
          "height": 81,
          "referenced_widgets": [
            "85cc7fcc5c83417c8ad81521f8d36677",
            "80f3d9a5b8814fc2850c68c7855ebd41",
            "4b5c1eb2f6ee4e908427aca515e7e8ee",
            "1c7dfd3923e440b4a6fcf427c8e580bc",
            "0c907e65fb1b4092861d679431e1b002",
            "2690c69a3789478dad96c3f4ec7a65be",
            "c746bd9d8b7c41e08cf32d0e609e8624",
            "bbdec1900d6f45c59a718e9e8eeba114",
            "d42268723caa4e4aa7d15c280b168081",
            "f793127e04c34d3d8c692e64ec8a560f",
            "be1d9b8a78b34949b6fc2188b2b7efd6",
            "0d7333bf537842358c3cfdac9638bd5e",
            "4d0658dd2d674c42bd458634e8e8e912",
            "fc3564f01036438fa011c0973443ed20",
            "b731cff643b9458b8c204dfce4cfebda",
            "93954cd8db3e4aba991d04554eb1ec56",
            "34dc8f4ea15c4cd98670a45d31bb7fad",
            "c24951cdb4a44cb6bbef2bdf8459e3e3",
            "9820bc7d846a46608566bf33f9a3653e",
            "eef4cf99f7254e3abf95053ce6310196",
            "29bcf294ea914f97b3720aef1808580b",
            "6431a9944c1f450fa8215ac8e2f8b6f3"
          ]
        },
        "id": "PvvS9U8jDk41",
        "outputId": "2fa3d1cf-e9c5-4f59-b209-c9ef83080141"
      },
      "execution_count": null,
      "outputs": [
        {
          "output_type": "display_data",
          "data": {
            "text/plain": [
              "Map:   0%|          | 0/3 [00:00<?, ? examples/s]"
            ],
            "application/vnd.jupyter.widget-view+json": {
              "version_major": 2,
              "version_minor": 0,
              "model_id": "85cc7fcc5c83417c8ad81521f8d36677"
            }
          },
          "metadata": {}
        },
        {
          "output_type": "display_data",
          "data": {
            "text/plain": [
              "Map:   0%|          | 0/8 [00:00<?, ? examples/s]"
            ],
            "application/vnd.jupyter.widget-view+json": {
              "version_major": 2,
              "version_minor": 0,
              "model_id": "0d7333bf537842358c3cfdac9638bd5e"
            }
          },
          "metadata": {}
        }
      ]
    },
    {
      "cell_type": "code",
      "source": [
        "training_set_solver_1_hf[0]"
      ],
      "metadata": {
        "colab": {
          "base_uri": "https://localhost:8080/"
        },
        "id": "gG3-DrTTEkHF",
        "outputId": "baede523-8cfc-42ba-f4d6-70f3cd23e5c4"
      },
      "execution_count": null,
      "outputs": [
        {
          "output_type": "execute_result",
          "data": {
            "text/plain": [
              "{'prompt': [{'content': 'import Mathlib\\nimport Aesop\\n\\nset_option maxHeartbeats 0\\n\\nopen BigOperators Real Nat Topology Rat\\n\\n/-- Show that there are no integers $x$ and $y$ such that $4x^3 - 7y^3 = 2003$.-/\\ntheorem numbertheory_4x3m7y3neq2003 (x y : ℤ) : 4 * x ^ 3 - 7 * y ^ 3 ≠ 2003 := by\\n',\n",
              "   'role': 'user'}],\n",
              " 'completion': [{'content': '  intro h\\n  have h_mod : (4 * x ^ 3 - 7 * y ^ 3) % 7 = 2003 % 7 := by rw [h]\\n  norm_num at h_mod\\n  have h₁ : x ^ 3 % 7 = 0 ∨ x ^ 3 % 7 = 1 ∨ x ^ 3 % 7 = 6 := by\\n    have : x % 7 = 0 ∨ x % 7 = 1 ∨ x % 7 = 2 ∨ x % 7 = 3 ∨ x % 7 = 4 ∨ x % 7 = 5 ∨ x % 7 = 6 := by omega\\n    rcases this with (h | h | h | h | h | h | h) <;>\\n      simp [h, pow_three, Int.mul_emod, Int.sub_emod]\\n  have h₂ : y ^ 3 % 7 = 0 ∨ y ^ 3 % 7 = 1 ∨ y ^ 3 % 7 = 6 := by\\n    have : y % 7 = 0 ∨ y % 7 = 1 ∨ y % 7 = 2 ∨ y % 7 = 3 ∨ y % 7 = 4 ∨ y % 7 = 5 ∨ y % 7 = 6 := by omega\\n    rcases this with (h | h | h | h | h | h | h) <;>\\n      simp [h, pow_three, Int.mul_emod, Int.sub_emod]\\n  omega',\n",
              "   'role': 'assistant'}]}"
            ]
          },
          "metadata": {},
          "execution_count": 53
        }
      ]
    },
    {
      "cell_type": "code",
      "source": [
        "training_set_solver_2_hf[0]"
      ],
      "metadata": {
        "colab": {
          "base_uri": "https://localhost:8080/"
        },
        "id": "gLzUMI8CMBxs",
        "outputId": "dc6567bc-630f-4518-f6b0-4338272e72db"
      },
      "execution_count": null,
      "outputs": [
        {
          "output_type": "execute_result",
          "data": {
            "text/plain": [
              "{'prompt': [{'content': 'import Mathlib\\nimport Aesop\\n\\nset_option maxHeartbeats 0\\n\\nopen BigOperators Real Nat Topology Rat\\n\\n/-- What is the ones digit of $1 \\\\cdot 3 \\\\cdot 5 \\\\cdot 7 \\\\cdot 9 \\\\cdot 11 \\\\cdot 13$? Show that it is 5.-/\\ntheorem mathd_numbertheory_299 : 1 * 3 * 5 * 7 * 9 * 11 * 13 % 10 = 5 := by\\n',\n",
              "   'role': 'user'}],\n",
              " 'completion': [{'content': 'norm_num', 'role': 'assistant'}]}"
            ]
          },
          "metadata": {},
          "execution_count": 54
        }
      ]
    },
    {
      "cell_type": "code",
      "source": [
        "# from transformers import AutoTokenizer, AutoModelForCausalLM, TrainingArguments\n",
        "# from peft import LoraConfig\n",
        "# from trl import SFTTrainer\n",
        "# import torch\n",
        "# from accelerate import Accelerator\n",
        "\n",
        "# MODEL_ID = \"AI-MO/Kimina-Prover-Preview-Distill-7B\"\n",
        "# OUTPUT_DIR = \"./kimina_fine_tuned\"\n",
        "\n",
        "# # Initialize accelerator\n",
        "# accelerator = Accelerator()\n",
        "\n",
        "# # Tokenizer & model\n",
        "# tokenizer = AutoTokenizer.from_pretrained(MODEL_ID, trust_remote_code=True)\n",
        "# model = AutoModelForCausalLM.from_pretrained(\n",
        "#     MODEL_ID,\n",
        "#     trust_remote_code=True,\n",
        "#     torch_dtype=torch.bfloat16,  # Changed to bfloat16\n",
        "#     device_map=\"auto\"\n",
        "# )\n",
        "# model.gradient_checkpointing_enable()  # Enable gradient checkpointing\n",
        "# model, tokenizer = accelerator.prepare(model, tokenizer)\n",
        "\n",
        "# # LoRA config\n",
        "# peft_config = LoraConfig(\n",
        "#     r=4,  # Reduced rank\n",
        "#     lora_alpha=16,\n",
        "#     target_modules=[\"q_proj\", \"v_proj\"],\n",
        "#     lora_dropout=0.05,\n",
        "#     bias=\"none\",\n",
        "#     task_type=\"CAUSAL_LM\"\n",
        "# )\n",
        "\n",
        "# # Training args\n",
        "# training_args = TrainingArguments(\n",
        "#     output_dir=OUTPUT_DIR,\n",
        "#     per_device_train_batch_size=1,  # Reduced\n",
        "#     gradient_accumulation_steps=4,  # Increased\n",
        "#     learning_rate=2e-4,\n",
        "#     num_train_epochs=3,\n",
        "#     logging_steps=10,\n",
        "#     save_strategy=\"epoch\",\n",
        "#     max_grad_norm=0.3,\n",
        "#     bf16=True,  # or bf16=True\n",
        "#     max_steps=-1,\n",
        "#     lr_scheduler_type=\"cosine\",\n",
        "#     warmup_ratio=0.03,\n",
        "#     gradient_checkpointing=True,\n",
        "#     report_to=\"none\"\n",
        "# )\n",
        "\n",
        "# # Clear GPU memory\n",
        "# torch.cuda.empty_cache()\n",
        "\n",
        "# # Trainer\n",
        "# trainer = SFTTrainer(\n",
        "#     model=model,\n",
        "#     train_dataset=training_set_solver_1_hf,\n",
        "#     peft_config=peft_config,\n",
        "#     args=training_args,\n",
        "#     # max_seq_length=512  # Limit sequence length\n",
        "# )\n",
        "\n"
      ],
      "metadata": {
        "id": "Jo5wkNTgEymS",
        "collapsed": true
      },
      "execution_count": null,
      "outputs": []
    },
    {
      "cell_type": "code",
      "source": [
        "# trainer.train()\n",
        "# # trainer.model.save_pretrained(OUTPUT_DIR)\n",
        "# # tokenizer.save_pretrained(OUTPUT_DIR)\n",
        "# !zip -r kimina_fine_tuned.zip kimina_fine_tuned/\n",
        "# torch.cuda.empty_cache()"
      ],
      "metadata": {
        "id": "ml7XzWkhObno"
      },
      "execution_count": null,
      "outputs": []
    },
    {
      "cell_type": "markdown",
      "source": [
        "# Stability Term: $L_{stability}$"
      ],
      "metadata": {
        "id": "glyDfBca9dlB"
      }
    },
    {
      "cell_type": "markdown",
      "source": [
        "- **TODO**: Get the E_i dataset ✅\n",
        "\n",
        "- **TODO**: Implement EMA"
      ],
      "metadata": {
        "id": "qlGVjZue-Av8"
      }
    },
    {
      "cell_type": "code",
      "source": [
        "# by complementarity of sucess cases between solver 1 and solver  2, define the \"easy\" set\n",
        "easy_solver_1 = selected_training_problems_solver_2\n",
        "easy_solver_2 = selected_training_problems_solver_1\n",
        "easy_solver_1, easy_solver_2\n"
      ],
      "metadata": {
        "colab": {
          "base_uri": "https://localhost:8080/"
        },
        "id": "l1yXgLT89YqR",
        "outputId": "e061ade1-99fb-49fd-8f26-5deaecefe767"
      },
      "execution_count": null,
      "outputs": [
        {
          "output_type": "execute_result",
          "data": {
            "text/plain": [
              "([13, 35, 3, 7, 11, 14, 15, 17], [1, 9, 20])"
            ]
          },
          "metadata": {},
          "execution_count": 57
        }
      ]
    },
    {
      "cell_type": "markdown",
      "source": [
        "**GPT code below. Be careful. Could be extremely buggy idk**"
      ],
      "metadata": {
        "id": "4S4sZUEgUJmR"
      }
    },
    {
      "cell_type": "code",
      "source": [
        "import torch"
      ],
      "metadata": {
        "id": "t29tXei9_kTH"
      },
      "execution_count": null,
      "outputs": []
    },
    {
      "cell_type": "code",
      "source": [
        "torch.cuda.empty_cache()"
      ],
      "metadata": {
        "id": "Y-YIvLW_-wCe"
      },
      "execution_count": null,
      "outputs": []
    },
    {
      "cell_type": "code",
      "source": [
        "# from transformers import (\n",
        "#     Trainer, TrainingArguments,\n",
        "#     AutoModelForCausalLM, AutoTokenizer,\n",
        "#     DataCollatorForLanguageModeling,\n",
        "# )\n",
        "# from datasets import Dataset  # if you need it for map return types\n",
        "# import torch\n",
        "# import torch.nn.functional as F\n",
        "# from peft import LoraConfig, get_peft_model\n",
        "# from torch_ema import ExponentialMovingAverage\n",
        "# from copy import deepcopy\n",
        "# from accelerate import Accelerator\n",
        "\n",
        "# # Dataset\n",
        "# easy_set_solver_1_hf = training_set_solver_2_hf  # your dataset with 'prompt' and 'completion' fields\n",
        "\n",
        "# # Initialize accelerator\n",
        "# accelerator = Accelerator()\n",
        "\n",
        "# # Load base model + tokenizer\n",
        "# model_name = \"AI-MO/Kimina-Prover-Preview-Distill-7B\"\n",
        "# tokenizer = AutoTokenizer.from_pretrained(model_name, use_fast=True)\n",
        "\n",
        "# # --- FIX 1: ensure there is a pad token (typical for causal LMs) ---\n",
        "# if tokenizer.pad_token is None:\n",
        "#     # for LLaMA-like models, use eos as pad\n",
        "#     tokenizer.pad_token = tokenizer.eos_token\n",
        "# # keep bos/eos as whatever the tokenizer defines; don't invent new ones\n",
        "# # explicitly set IDs on model config later\n",
        "\n",
        "# model = AutoModelForCausalLM.from_pretrained(\n",
        "#     model_name,\n",
        "#     torch_dtype=torch.bfloat16,\n",
        "#     device_map=\"auto\",\n",
        "# )\n",
        "\n",
        "# # reflect pad token on the model/generation configs\n",
        "# model.config.pad_token_id = tokenizer.pad_token_id\n",
        "# if getattr(model.generation_config, \"pad_token_id\", None) is None:\n",
        "#     model.generation_config.pad_token_id = tokenizer.pad_token_id\n",
        "\n",
        "# model.gradient_checkpointing_enable()\n",
        "\n",
        "# # (optional) you don't need to pass the tokenizer to accelerator.prepare\n",
        "# model = accelerator.prepare(model)\n",
        "\n",
        "# # Apply LoRA to the student\n",
        "# peft_config = LoraConfig(r=4, lora_alpha=16, target_modules=[\"q_proj\", \"v_proj\"])\n",
        "# model = get_peft_model(model, peft_config)\n",
        "\n",
        "# # Build a frozen, CPU-resident teacher\n",
        "# teacher = deepcopy(model.base_model if hasattr(model, \"base_model\") else model)\n",
        "# teacher = teacher.to(torch.bfloat16).cpu().eval()\n",
        "# for p in teacher.parameters():\n",
        "#     p.requires_grad = False\n",
        "\n",
        "# # EMA on trainable params\n",
        "# ema = ExponentialMovingAverage(\n",
        "#     (p for p in model.parameters() if p.requires_grad),\n",
        "#     decay=0.999,\n",
        "# )\n",
        "\n",
        "# # --- FIX 2: preprocess dataset into input_ids/attention_mask/labels ---\n",
        "# max_len = getattr(tokenizer, \"model_max_length\", 4096)\n",
        "# if max_len is None or max_len > 32768:  # guard against \"very large\" sentinel values\n",
        "#     max_len = 4096\n",
        "\n",
        "# def format_and_tokenize(example):\n",
        "#     # join prompt + completion; for KL you can supervise all tokens\n",
        "#     # Extract the string content from the list of dictionaries\n",
        "#     prompt_text = example.get(\"prompt\", [{}])[0].get(\"content\", \"\")\n",
        "#     completion_text = example.get(\"completion\", [{}])[0].get(\"content\", \"\")\n",
        "#     text = prompt_text + completion_text\n",
        "\n",
        "#     toks = tokenizer(\n",
        "#         text,\n",
        "#         truncation=True,\n",
        "#         max_length=max_len,\n",
        "#         padding=False,            # padding happens in the collator\n",
        "#         return_attention_mask=True,\n",
        "#     )\n",
        "#     # labels = next-token prediction on the whole sequence\n",
        "#     toks[\"labels\"] = toks[\"input_ids\"].copy()\n",
        "#     return toks\n",
        "\n",
        "# # use batched=False to avoid returning ragged lists inside lists\n",
        "# tokenized_ds = easy_set_solver_1_hf.map(format_and_tokenize, remove_columns=[c for c in easy_set_solver_1_hf.column_names if c not in (\"input_ids\",\"attention_mask\",\"labels\")])\n",
        "\n",
        "# # Data collator for CLM (pads and copies labels if needed)\n",
        "# collator = DataCollatorForLanguageModeling(tokenizer=tokenizer, mlm=False)\n",
        "\n",
        "# class KLTrainer(Trainer):\n",
        "#     def __init__(self, teacher, temperature=1.0, *args, **kwargs):\n",
        "#         super().__init__(*args, **kwargs)\n",
        "#         self.teacher = teacher\n",
        "#         self.temperature = temperature\n",
        "\n",
        "#     def compute_loss(self, model, inputs, return_outputs=False, num_items_in_batch=None, **kwargs):\n",
        "#         input_ids = inputs[\"input_ids\"]\n",
        "#         attention_mask = inputs.get(\n",
        "#             \"attention_mask\", (input_ids != self.tokenizer.pad_token_id).long()\n",
        "#         )\n",
        "\n",
        "#         # Student forward\n",
        "#         outputs = model(input_ids=input_ids, attention_mask=attention_mask)\n",
        "#         logits_s = outputs.logits  # [B, T, V]\n",
        "\n",
        "#         # Teacher forward on CPU (no grad)\n",
        "#         with torch.no_grad():\n",
        "#             logits_t = self.teacher(\n",
        "#                 input_ids=input_ids.to(\"cpu\"),\n",
        "#                 attention_mask=attention_mask.to(\"cpu\"),\n",
        "#             ).logits.to(logits_s.device)  # [B, T, V]\n",
        "\n",
        "#         t = self.temperature\n",
        "\n",
        "#         # Shift for next-token prediction\n",
        "#         logits_s = logits_s[:, :-1, :] / t\n",
        "#         logits_t = logits_t[:, :-1, :] / t\n",
        "#         tok_mask = attention_mask[:, 1:]  # [B, T-1] (0/1)\n",
        "\n",
        "#         # Log-probs\n",
        "#         logp_s = F.log_softmax(logits_s, dim=-1)          # [B, T-1, V]\n",
        "#         logp_t = F.log_softmax(logits_t, dim=-1)          # [B, T-1, V]\n",
        "#         p_t    = logp_t.exp()                              # [B, T-1, V]\n",
        "\n",
        "#         # KL over vocab (no expand, no boolean indexing)\n",
        "#         kl_per_pos = (p_t * (logp_t - logp_s)).sum(dim=-1)  # [B, T-1]\n",
        "\n",
        "#         # Mask over time, cast to float to avoid index semantics\n",
        "#         tok_mask = tok_mask.to(kl_per_pos.dtype)            # float\n",
        "#         kl_sum = (kl_per_pos * tok_mask).sum() * (t * t)\n",
        "#         denom = tok_mask.sum().clamp(min=1.0)\n",
        "#         loss = kl_sum / denom\n",
        "\n",
        "#         return (loss, outputs) if return_outputs else loss\n",
        "\n",
        "#     def training_step(self, model, inputs, num_items_in_batch=None, **kwargs):\n",
        "#         loss = super().training_step(model, inputs, num_items_in_batch=num_items_in_batch, **kwargs)\n",
        "#         ema.update()\n",
        "#         return loss\n",
        "\n",
        "# # Training args\n",
        "# training_args = TrainingArguments(\n",
        "#     output_dir=\"./kimina_stabilized\",\n",
        "#     per_device_train_batch_size=1,\n",
        "#     gradient_accumulation_steps=4,\n",
        "#     max_steps=100,\n",
        "#     bf16=True,\n",
        "#     gradient_checkpointing=True,\n",
        "#     report_to=\"none\",\n",
        "#     remove_unused_columns=True,   # <-- let Trainer drop non-model keys if any remain\n",
        "# )\n",
        "\n",
        "# # Clear GPU memory\n",
        "# torch.cuda.empty_cache()\n",
        "\n",
        "# # Trainer\n",
        "# trainer = KLTrainer(\n",
        "#     model=model,\n",
        "#     teacher=teacher,\n",
        "#     args=training_args,\n",
        "#     train_dataset=tokenized_ds,\n",
        "#     tokenizer=tokenizer,\n",
        "#     data_collator=collator,\n",
        "#     temperature=1.0,\n",
        "# )"
      ],
      "metadata": {
        "id": "3Qdv2pWQaDZ8"
      },
      "execution_count": null,
      "outputs": []
    },
    {
      "cell_type": "code",
      "source": [
        "# trainer.train()\n",
        "# torch.cuda.empty_cache()"
      ],
      "metadata": {
        "id": "dBj3kZpxV3Wm"
      },
      "execution_count": null,
      "outputs": []
    },
    {
      "cell_type": "code",
      "source": [],
      "metadata": {
        "id": "gGFp4XMgiAr9"
      },
      "execution_count": null,
      "outputs": []
    }
  ]
}